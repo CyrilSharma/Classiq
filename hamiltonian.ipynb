{
 "cells": [
  {
   "cell_type": "code",
   "execution_count": 333,
   "metadata": {},
   "outputs": [],
   "source": [
    "import numpy as np\n",
    "from qiskit import IBMQ, Aer, assemble, transpile, execute\n",
    "from qiskit import QuantumCircuit, ClassicalRegister, QuantumRegister\n",
    "from qiskit.providers.ibmq import least_busy\n",
    "from qiskit.quantum_info.operators import Operator, Pauli\n",
    "from qiskit.algorithms import NumPyEigensolver\n",
    "from numpy import linalg as LA\n",
    "from scipy.linalg import expm, norm"
   ]
  },
  {
   "cell_type": "code",
   "execution_count": 334,
   "metadata": {},
   "outputs": [],
   "source": [
    "def is_unitary(m):\n",
    "    return norm(np.eye(len(m)) - m.dot(m.T.conj()))\n",
    "def is_hermitian(m):\n",
    "    return norm(m-m.T.conj())"
   ]
  },
  {
   "cell_type": "code",
   "execution_count": 335,
   "metadata": {},
   "outputs": [],
   "source": [
    "coefficients = []\n",
    "bases = []\n",
    "with open('LiH-Hamiltonian.txt') as f:\n",
    "    for line in f:\n",
    "        x = line.strip().split(\" \")\n",
    "        if (len(line) > 1):\n",
    "            c = float(x[1])\n",
    "            c = (c if x[0] == '+' else -c)\n",
    "            coefficients.append(c)\n",
    "            bases.append(x[3])\n",
    "\n",
    "# comment this out when stuff actually works\n",
    "bases = ['XXY', 'ZXY', 'YYY', 'IYZ'] # these are all commuting\n",
    "coefficients = [1]*len(bases)\n",
    "hamiltonian = np.zeros((2**len(bases[0]), 2**len(bases[0])), dtype=np.cdouble)\n",
    "for c, lbl in zip(coefficients, bases):\n",
    "    op = Operator(Pauli(label=lbl))\n",
    "    hamiltonian+=c*op.data"
   ]
  },
  {
   "cell_type": "code",
   "execution_count": 336,
   "metadata": {},
   "outputs": [
    {
     "data": {
      "text/plain": [
       "array([[0.+0.j, 0.+0.j, 0.-1.j, 0.-1.j, 0.+0.j, 0.+0.j, 0.+0.j, 0.+0.j],\n",
       "       [0.+0.j, 0.+0.j, 0.+1.j, 0.+1.j, 0.+0.j, 0.+0.j, 0.+0.j, 0.+0.j],\n",
       "       [0.+1.j, 0.-1.j, 0.+0.j, 0.+0.j, 0.+0.j, 0.-2.j, 0.+0.j, 0.+0.j],\n",
       "       [0.+1.j, 0.-1.j, 0.+0.j, 0.+0.j, 0.+2.j, 0.+0.j, 0.+0.j, 0.+0.j],\n",
       "       [0.+0.j, 0.+0.j, 0.+0.j, 0.-2.j, 0.+0.j, 0.+0.j, 0.-1.j, 0.+1.j],\n",
       "       [0.+0.j, 0.+0.j, 0.+2.j, 0.+0.j, 0.+0.j, 0.+0.j, 0.-1.j, 0.+1.j],\n",
       "       [0.+0.j, 0.+0.j, 0.+0.j, 0.+0.j, 0.+1.j, 0.+1.j, 0.+0.j, 0.+0.j],\n",
       "       [0.+0.j, 0.+0.j, 0.+0.j, 0.+0.j, 0.-1.j, 0.-1.j, 0.+0.j, 0.+0.j]])"
      ]
     },
     "execution_count": 336,
     "metadata": {},
     "output_type": "execute_result"
    }
   ],
   "source": [
    "hamiltonian"
   ]
  },
  {
   "cell_type": "code",
   "execution_count": 337,
   "metadata": {},
   "outputs": [
    {
     "data": {
      "text/plain": [
       "0.0"
      ]
     },
     "execution_count": 337,
     "metadata": {},
     "output_type": "execute_result"
    }
   ],
   "source": [
    "is_hermitian(hamiltonian)"
   ]
  },
  {
   "cell_type": "code",
   "execution_count": 338,
   "metadata": {},
   "outputs": [],
   "source": [
    "def get_circuit(t=1, n=1):\n",
    "    qc = QuantumCircuit(len(bases[0]))\n",
    "    for i in range(n):\n",
    "        for c, b in zip(coefficients, bases):\n",
    "            # implement e^{-i*c*b*t/n}\n",
    "            b = b[::-1]\n",
    "            q = []\n",
    "            qc.barrier()\n",
    "            for i, op in enumerate(b):\n",
    "                if (op == 'X'):\n",
    "                    qc.h(i)\n",
    "                    q.append(i)\n",
    "                elif (op == 'Z'):\n",
    "                    q.append(i)\n",
    "                elif (op == 'Y'):\n",
    "                    qc.sdg(i)\n",
    "                    qc.h(i)\n",
    "                    q.append(i)\n",
    "                elif (op == 'I'):\n",
    "                    continue\n",
    "            qc.barrier()\n",
    "            if (len(q) > 0):\n",
    "                if (len(q) > 1):\n",
    "                    for i in range(len(q)-1):\n",
    "                        qc.cx(q[i], q[-1])\n",
    "                qc.rz(2*c*t/n, q[-1])\n",
    "                if (len(q) > 1):\n",
    "                    for i in reversed(range(len(q)-1)):\n",
    "                        qc.cx(q[i], q[-1])\n",
    "                qc.barrier()\n",
    "                for i, op in enumerate(b):\n",
    "                    if (op == 'X'):\n",
    "                        qc.h(i)\n",
    "                    elif (op == 'Z'):\n",
    "                        continue\n",
    "                    elif (op == 'Y'):\n",
    "                        qc.h(i)\n",
    "                        qc.s(i)\n",
    "                    elif (op == 'I'):\n",
    "                        continue\n",
    "            qc.barrier()\n",
    "    return qc\n",
    "\n",
    "def get_unitaries(t=1, n=1):\n",
    "    e_ith = expm(-1.j * t * hamiltonian)\n",
    "    qc = get_circuit(t=t, n=n)\n",
    "    backend = Aer.get_backend('unitary_simulator')\n",
    "    job = execute(qc, backend)\n",
    "    result = job.result()\n",
    "    U_circuit = result.get_unitary(qc)\n",
    "    return e_ith, U_circuit"
   ]
  },
  {
   "cell_type": "code",
   "execution_count": 339,
   "metadata": {},
   "outputs": [
    {
     "data": {
      "text/html": [
       "<pre style=\"word-wrap: normal;white-space: pre;background: #fff0;line-height: 1.1;font-family: &quot;Courier New&quot;,Courier,monospace\">      ░ ┌─────┐┌───┐ ░                               ░ ┌───┐┌───┐ ░  ░ ┌─────┐»\n",
       "q_0: ─░─┤ Sdg ├┤ H ├─░───■───────────────────────■───░─┤ H ├┤ S ├─░──░─┤ Sdg ├»\n",
       "      ░ └┬───┬┘└───┘ ░   │                       │   ░ ├───┤└───┘ ░  ░ └┬───┬┘»\n",
       "q_1: ─░──┤ H ├───────░───┼────■─────────────■────┼───░─┤ H ├──────░──░──┤ H ├─»\n",
       "      ░  ├───┤       ░ ┌─┴─┐┌─┴─┐┌───────┐┌─┴─┐┌─┴─┐ ░ ├───┤      ░  ░  └───┘ »\n",
       "q_2: ─░──┤ H ├───────░─┤ X ├┤ X ├┤ Rz(2) ├┤ X ├┤ X ├─░─┤ H ├──────░──░────────»\n",
       "      ░  └───┘       ░ └───┘└───┘└───────┘└───┘└───┘ ░ └───┘      ░  ░        »\n",
       "«     ┌───┐ ░                               ░ ┌───┐┌───┐ ░  ░ ┌─────┐┌───┐ ░ »\n",
       "«q_0: ┤ H ├─░───■───────────────────────■───░─┤ H ├┤ S ├─░──░─┤ Sdg ├┤ H ├─░─»\n",
       "«     └───┘ ░   │                       │   ░ ├───┤└───┘ ░  ░ ├─────┤├───┤ ░ »\n",
       "«q_1: ──────░───┼────■─────────────■────┼───░─┤ H ├──────░──░─┤ Sdg ├┤ H ├─░─»\n",
       "«           ░ ┌─┴─┐┌─┴─┐┌───────┐┌─┴─┐┌─┴─┐ ░ └───┘      ░  ░ ├─────┤├───┤ ░ »\n",
       "«q_2: ──────░─┤ X ├┤ X ├┤ Rz(2) ├┤ X ├┤ X ├─░────────────░──░─┤ Sdg ├┤ H ├─░─»\n",
       "«           ░ └───┘└───┘└───────┘└───┘└───┘ ░            ░  ░ └─────┘└───┘ ░ »\n",
       "«                                   ░ ┌───┐┌───┐ ░  ░              ░      »\n",
       "«q_0: ──■───────────────────────■───░─┤ H ├┤ S ├─░──░──────────────░───■──»\n",
       "«       │                       │   ░ ├───┤├───┤ ░  ░ ┌─────┐┌───┐ ░ ┌─┴─┐»\n",
       "«q_1: ──┼────■─────────────■────┼───░─┤ H ├┤ S ├─░──░─┤ Sdg ├┤ H ├─░─┤ X ├»\n",
       "«     ┌─┴─┐┌─┴─┐┌───────┐┌─┴─┐┌─┴─┐ ░ ├───┤├───┤ ░  ░ └─────┘└───┘ ░ └───┘»\n",
       "«q_2: ┤ X ├┤ X ├┤ Rz(2) ├┤ X ├┤ X ├─░─┤ H ├┤ S ├─░──░──────────────░──────»\n",
       "«     └───┘└───┘└───────┘└───┘└───┘ ░ └───┘└───┘ ░  ░              ░      »\n",
       "«                    ░            ░ \n",
       "«q_0: ───────────■───░────────────░─\n",
       "«     ┌───────┐┌─┴─┐ ░ ┌───┐┌───┐ ░ \n",
       "«q_1: ┤ Rz(2) ├┤ X ├─░─┤ H ├┤ S ├─░─\n",
       "«     └───────┘└───┘ ░ └───┘└───┘ ░ \n",
       "«q_2: ───────────────░────────────░─\n",
       "«                    ░            ░ </pre>"
      ],
      "text/plain": [
       "      ░ ┌─────┐┌───┐ ░                               ░ ┌───┐┌───┐ ░  ░ ┌─────┐»\n",
       "q_0: ─░─┤ Sdg ├┤ H ├─░───■───────────────────────■───░─┤ H ├┤ S ├─░──░─┤ Sdg ├»\n",
       "      ░ └┬───┬┘└───┘ ░   │                       │   ░ ├───┤└───┘ ░  ░ └┬───┬┘»\n",
       "q_1: ─░──┤ H ├───────░───┼────■─────────────■────┼───░─┤ H ├──────░──░──┤ H ├─»\n",
       "      ░  ├───┤       ░ ┌─┴─┐┌─┴─┐┌───────┐┌─┴─┐┌─┴─┐ ░ ├───┤      ░  ░  └───┘ »\n",
       "q_2: ─░──┤ H ├───────░─┤ X ├┤ X ├┤ Rz(2) ├┤ X ├┤ X ├─░─┤ H ├──────░──░────────»\n",
       "      ░  └───┘       ░ └───┘└───┘└───────┘└───┘└───┘ ░ └───┘      ░  ░        »\n",
       "«     ┌───┐ ░                               ░ ┌───┐┌───┐ ░  ░ ┌─────┐┌───┐ ░ »\n",
       "«q_0: ┤ H ├─░───■───────────────────────■───░─┤ H ├┤ S ├─░──░─┤ Sdg ├┤ H ├─░─»\n",
       "«     └───┘ ░   │                       │   ░ ├───┤└───┘ ░  ░ ├─────┤├───┤ ░ »\n",
       "«q_1: ──────░───┼────■─────────────■────┼───░─┤ H ├──────░──░─┤ Sdg ├┤ H ├─░─»\n",
       "«           ░ ┌─┴─┐┌─┴─┐┌───────┐┌─┴─┐┌─┴─┐ ░ └───┘      ░  ░ ├─────┤├───┤ ░ »\n",
       "«q_2: ──────░─┤ X ├┤ X ├┤ Rz(2) ├┤ X ├┤ X ├─░────────────░──░─┤ Sdg ├┤ H ├─░─»\n",
       "«           ░ └───┘└───┘└───────┘└───┘└───┘ ░            ░  ░ └─────┘└───┘ ░ »\n",
       "«                                   ░ ┌───┐┌───┐ ░  ░              ░      »\n",
       "«q_0: ──■───────────────────────■───░─┤ H ├┤ S ├─░──░──────────────░───■──»\n",
       "«       │                       │   ░ ├───┤├───┤ ░  ░ ┌─────┐┌───┐ ░ ┌─┴─┐»\n",
       "«q_1: ──┼────■─────────────■────┼───░─┤ H ├┤ S ├─░──░─┤ Sdg ├┤ H ├─░─┤ X ├»\n",
       "«     ┌─┴─┐┌─┴─┐┌───────┐┌─┴─┐┌─┴─┐ ░ ├───┤├───┤ ░  ░ └─────┘└───┘ ░ └───┘»\n",
       "«q_2: ┤ X ├┤ X ├┤ Rz(2) ├┤ X ├┤ X ├─░─┤ H ├┤ S ├─░──░──────────────░──────»\n",
       "«     └───┘└───┘└───────┘└───┘└───┘ ░ └───┘└───┘ ░  ░              ░      »\n",
       "«                    ░            ░ \n",
       "«q_0: ───────────■───░────────────░─\n",
       "«     ┌───────┐┌─┴─┐ ░ ┌───┐┌───┐ ░ \n",
       "«q_1: ┤ Rz(2) ├┤ X ├─░─┤ H ├┤ S ├─░─\n",
       "«     └───────┘└───┘ ░ └───┘└───┘ ░ \n",
       "«q_2: ───────────────░────────────░─\n",
       "«                    ░            ░ "
      ]
     },
     "execution_count": 339,
     "metadata": {},
     "output_type": "execute_result"
    }
   ],
   "source": [
    "get_circuit(n=1).draw()"
   ]
  },
  {
   "cell_type": "code",
   "execution_count": 340,
   "metadata": {},
   "outputs": [],
   "source": [
    "e_ith, U_circuit = get_unitaries(n=10)"
   ]
  },
  {
   "cell_type": "code",
   "execution_count": 341,
   "metadata": {},
   "outputs": [
    {
     "data": {
      "text/plain": [
       "0.13703550269288342"
      ]
     },
     "execution_count": 341,
     "metadata": {},
     "output_type": "execute_result"
    }
   ],
   "source": [
    "def get_error(e_ith, U_circuit):\n",
    "    diff = U_circuit.data - e_ith\n",
    "    # measure the operator's accuracy\n",
    "    w, v = LA.eig(diff)\n",
    "\n",
    "    return np.absolute(max(w))\n",
    "\n",
    "get_error(e_ith, U_circuit)"
   ]
  },
  {
   "cell_type": "code",
   "execution_count": 342,
   "metadata": {},
   "outputs": [
    {
     "data": {
      "text/plain": [
       "array([[ 0.512+0.j,  0.488+0.j, -0.109+0.j, -0.109+0.j, -0.488+0.j,\n",
       "         0.488+0.j,  0.   +0.j, -0.   +0.j],\n",
       "       [ 0.488+0.j,  0.512+0.j,  0.109+0.j,  0.109+0.j,  0.488+0.j,\n",
       "        -0.488+0.j, -0.   +0.j,  0.   +0.j],\n",
       "       [ 0.109+0.j, -0.109-0.j, -0.464-0.j, -0.488-0.j,  0.   +0.j,\n",
       "        -0.218-0.j,  0.488+0.j, -0.488-0.j],\n",
       "       [ 0.109+0.j, -0.109+0.j, -0.488+0.j, -0.464+0.j,  0.218+0.j,\n",
       "         0.   +0.j, -0.488+0.j,  0.488+0.j],\n",
       "       [-0.488-0.j,  0.488+0.j,  0.   +0.j, -0.218-0.j, -0.464-0.j,\n",
       "        -0.488-0.j, -0.109-0.j,  0.109+0.j],\n",
       "       [ 0.488+0.j, -0.488+0.j,  0.218+0.j,  0.   +0.j, -0.488+0.j,\n",
       "        -0.464+0.j, -0.109+0.j,  0.109+0.j],\n",
       "       [-0.   +0.j,  0.   +0.j,  0.488+0.j, -0.488+0.j,  0.109+0.j,\n",
       "         0.109+0.j,  0.512+0.j,  0.488+0.j],\n",
       "       [ 0.   +0.j, -0.   +0.j, -0.488+0.j,  0.488+0.j, -0.109+0.j,\n",
       "        -0.109+0.j,  0.488+0.j,  0.512+0.j]])"
      ]
     },
     "execution_count": 342,
     "metadata": {},
     "output_type": "execute_result"
    }
   ],
   "source": [
    "np.around(e_ith, decimals=3)"
   ]
  },
  {
   "cell_type": "code",
   "execution_count": 343,
   "metadata": {
    "scrolled": true
   },
   "outputs": [
    {
     "data": {
      "text/plain": [
       "array([[ 0.51 +0.j,  0.49 +0.j, -0.061-0.j, -0.061-0.j, -0.496-0.j,\n",
       "         0.496+0.j, -0.   -0.j,  0.   -0.j],\n",
       "       [ 0.49 +0.j,  0.51 +0.j,  0.061+0.j,  0.061-0.j,  0.496+0.j,\n",
       "        -0.496-0.j,  0.   +0.j, -0.   +0.j],\n",
       "       [ 0.158+0.j, -0.158-0.j, -0.461-0.j, -0.48 -0.j, -0.097-0.j,\n",
       "        -0.219-0.j,  0.474+0.j, -0.474-0.j],\n",
       "       [ 0.158+0.j, -0.158-0.j, -0.48 -0.j, -0.461-0.j,  0.219+0.j,\n",
       "         0.097+0.j, -0.474-0.j,  0.474+0.j],\n",
       "       [-0.474-0.j,  0.474+0.j, -0.097+0.j, -0.219-0.j, -0.461-0.j,\n",
       "        -0.48 -0.j, -0.158-0.j,  0.158-0.j],\n",
       "       [ 0.474+0.j, -0.474-0.j,  0.219+0.j,  0.097-0.j, -0.48 -0.j,\n",
       "        -0.461-0.j, -0.158+0.j,  0.158-0.j],\n",
       "       [ 0.   +0.j, -0.   -0.j,  0.496+0.j, -0.496-0.j,  0.061+0.j,\n",
       "         0.061+0.j,  0.51 +0.j,  0.49 +0.j],\n",
       "       [ 0.   -0.j, -0.   +0.j, -0.496+0.j,  0.496+0.j, -0.061+0.j,\n",
       "        -0.061+0.j,  0.49 -0.j,  0.51 -0.j]])"
      ]
     },
     "execution_count": 343,
     "metadata": {},
     "output_type": "execute_result"
    }
   ],
   "source": [
    "np.around(U_circuit, decimals=3)"
   ]
  },
  {
   "cell_type": "code",
   "execution_count": 344,
   "metadata": {},
   "outputs": [
    {
     "data": {
      "text/plain": [
       "array([[0.+0.j, 0.+0.j, 0.-1.j, 0.-1.j, 0.+0.j, 0.+0.j, 0.+0.j, 0.+0.j],\n",
       "       [0.+0.j, 0.+0.j, 0.+1.j, 0.+1.j, 0.+0.j, 0.+0.j, 0.+0.j, 0.+0.j],\n",
       "       [0.+1.j, 0.-1.j, 0.+0.j, 0.+0.j, 0.+0.j, 0.-2.j, 0.+0.j, 0.+0.j],\n",
       "       [0.+1.j, 0.-1.j, 0.+0.j, 0.+0.j, 0.+2.j, 0.+0.j, 0.+0.j, 0.+0.j],\n",
       "       [0.+0.j, 0.+0.j, 0.+0.j, 0.-2.j, 0.+0.j, 0.+0.j, 0.-1.j, 0.+1.j],\n",
       "       [0.+0.j, 0.+0.j, 0.+2.j, 0.+0.j, 0.+0.j, 0.+0.j, 0.-1.j, 0.+1.j],\n",
       "       [0.+0.j, 0.+0.j, 0.+0.j, 0.+0.j, 0.+1.j, 0.+1.j, 0.+0.j, 0.+0.j],\n",
       "       [0.+0.j, 0.+0.j, 0.+0.j, 0.+0.j, 0.-1.j, 0.-1.j, 0.+0.j, 0.+0.j]])"
      ]
     },
     "execution_count": 344,
     "metadata": {},
     "output_type": "execute_result"
    }
   ],
   "source": [
    "hamiltonian"
   ]
  },
  {
   "cell_type": "code",
   "execution_count": 345,
   "metadata": {},
   "outputs": [
    {
     "data": {
      "text/plain": [
       "array([[ 2.25983183e-03-4.85722573e-15j, -2.25983183e-03-2.35922393e-15j,\n",
       "        -4.81651788e-02+7.49400542e-16j, -4.81651788e-02+6.93889390e-16j,\n",
       "         8.35562773e-03+2.22044605e-15j, -8.35562773e-03-1.73472348e-15j,\n",
       "         1.62447724e-16+5.82867088e-16j, -2.31330382e-16+2.22044605e-16j],\n",
       "       [-2.25983183e-03-3.15025783e-15j,  2.25983183e-03-2.80331314e-15j,\n",
       "         4.81651788e-02-8.60422844e-16j,  4.81651788e-02+2.77555756e-16j,\n",
       "        -8.35562773e-03-1.81799020e-15j,  8.35562773e-03+1.56819002e-15j,\n",
       "        -5.76420981e-16+0.00000000e+00j,  6.74551760e-16-3.33066907e-16j],\n",
       "       [-4.92027821e-02-1.99840144e-15j,  4.92027821e-02+1.38777878e-15j,\n",
       "        -2.98988694e-03+1.62370117e-15j, -7.50955061e-03+2.16493490e-15j,\n",
       "         9.73679610e-02+6.38378239e-16j,  1.03760329e-03+3.88578059e-16j,\n",
       "         1.36053465e-02-9.27335858e-16j, -1.36053465e-02+8.68457391e-16j],\n",
       "       [-4.92027821e-02-8.60422844e-16j,  4.92027821e-02+2.22044605e-16j,\n",
       "        -7.50955061e-03+1.38777878e-15j, -2.98988694e-03+2.88657986e-15j,\n",
       "        -1.03760329e-03-4.71844785e-16j, -9.73679610e-02-6.38378239e-16j,\n",
       "        -1.36053465e-02+7.99765846e-16j,  1.36053465e-02-5.44625822e-16j],\n",
       "       [-1.36053465e-02+2.42833608e-15j,  1.36053465e-02-8.53337086e-16j,\n",
       "         9.73679610e-02-2.77555756e-16j,  1.03760329e-03+2.49800181e-16j,\n",
       "        -2.98988694e-03+1.04083409e-15j, -7.50955061e-03+3.95516953e-16j,\n",
       "         4.92027821e-02+9.43689571e-16j, -4.92027821e-02+5.27355937e-16j],\n",
       "       [ 1.36053465e-02-2.98277498e-15j, -1.36053465e-02+1.92296257e-15j,\n",
       "        -1.03760329e-03-8.60422844e-16j, -9.73679610e-02+1.66533454e-16j,\n",
       "        -7.50955061e-03+1.47451495e-15j, -2.98988694e-03+1.16226473e-15j,\n",
       "         4.92027821e-02-2.22044605e-16j, -4.92027821e-02+1.05471187e-15j],\n",
       "       [-2.09509477e-16-1.66533454e-16j,  3.12546795e-16+2.22044605e-16j,\n",
       "        -8.35562773e-03-1.45022883e-15j,  8.35562773e-03+1.80411242e-15j,\n",
       "         4.81651788e-02-1.19348975e-15j,  4.81651788e-02-1.94289029e-16j,\n",
       "         2.25983183e-03-3.33066907e-16j, -2.25983183e-03-9.29811783e-16j],\n",
       "       [-3.25303266e-16+8.60422844e-16j,  7.47265615e-16-1.11022302e-16j,\n",
       "         8.35562773e-03-1.52655666e-16j, -8.35562773e-03-9.57567359e-16j,\n",
       "        -4.81651788e-02-1.66533454e-16j, -4.81651788e-02-1.41553436e-15j,\n",
       "        -2.25983183e-03+1.94289029e-16j,  2.25983183e-03+1.72084569e-15j]])"
      ]
     },
     "execution_count": 345,
     "metadata": {},
     "output_type": "execute_result"
    }
   ],
   "source": [
    "e_ith-U_circuit.data"
   ]
  },
  {
   "cell_type": "markdown",
   "metadata": {},
   "source": [
    "10 qubits -> 2^10 states -> 2^20 entries ($\\approx$ 1,000,000, which is quite reasonable)"
   ]
  },
  {
   "cell_type": "markdown",
   "metadata": {},
   "source": [
    "# New Stuff"
   ]
  },
  {
   "cell_type": "code",
   "execution_count": 346,
   "metadata": {},
   "outputs": [],
   "source": [
    "def buildPauliString(qc, pauliString, t, n):\n",
    "    c, b = pauliString\n",
    "    # implement e^{-i*c*b*t/n}\n",
    "    b = b[::-1]\n",
    "    q = []\n",
    "    qc.barrier()\n",
    "    for i, op in enumerate(b):\n",
    "        if (op == 'X'):\n",
    "            qc.h(i)\n",
    "            q.append(i)\n",
    "        elif (op == 'Z'):\n",
    "            q.append(i)\n",
    "        elif (op == 'Y'):\n",
    "            qc.sdg(i)\n",
    "            qc.h(i)\n",
    "            q.append(i)\n",
    "        elif (op == 'I'):\n",
    "            continue\n",
    "    qc.barrier()\n",
    "    if (len(q) > 0):\n",
    "        if (len(q) > 1):\n",
    "            for i in range(len(q)-1):\n",
    "                qc.cx(q[i], q[-1])\n",
    "        qc.rz(2*c*t/n, q[-1])\n",
    "        if (len(q) > 1):\n",
    "            for i in reversed(range(len(q)-1)):\n",
    "                qc.cx(q[i], q[-1])\n",
    "        qc.barrier()\n",
    "        for i, op in enumerate(b):\n",
    "            if (op == 'X'):\n",
    "                qc.h(i)\n",
    "            elif (op == 'Z'):\n",
    "                continue\n",
    "            elif (op == 'Y'):\n",
    "                qc.h(i)\n",
    "                qc.s(i)\n",
    "            elif (op == 'I'):\n",
    "                continue\n",
    "    qc.barrier()\n",
    "    return qc\n",
    "\n",
    "def buildHamiltonian(qc, pauliStrings, t, n):\n",
    "    for pauliString in pauliStrings:\n",
    "        # print(pauliString[1])\n",
    "        qc = buildPauliString(qc, pauliString, t, n)\n",
    "    return qc"
   ]
  },
  {
   "cell_type": "code",
   "execution_count": 347,
   "metadata": {},
   "outputs": [],
   "source": [
    "def testMethods(t=1, n=1):\n",
    "    qc = QuantumCircuit(len(bases[0]))\n",
    "    pauliStrings = list(zip(coefficients, bases))\n",
    "    for i in range(n):\n",
    "        qc = buildHamiltonian(qc, pauliStrings, t, n)\n",
    "        \n",
    "    e_ith = expm(-1.j * t * hamiltonian)\n",
    "    backend = Aer.get_backend('unitary_simulator')\n",
    "    job = execute(qc, backend)\n",
    "    result = job.result()\n",
    "    U_circuit = result.get_unitary(qc)\n",
    "    return get_error(e_ith, U_circuit)\n",
    "\n",
    "# Higher order trotter formulation.\n",
    "def get_circuit_2(t=1, n=1):\n",
    "    qc = QuantumCircuit(len(bases[0]))\n",
    "    pauliStrings = list(zip(coefficients, bases))\n",
    "    reversedPauliStrings = list(zip(reversed(coefficients), reversed(bases)))\n",
    "    \n",
    "    for i in range(n):\n",
    "        for pauliString in pauliStrings:\n",
    "            print(f\"{pauliString[1]} -> \")\n",
    "            qc = buildPauliString(qc, pauliString, t, n * 2)\n",
    "            qc = buildHamiltonian(qc, reversedPauliStrings, t, n * 2)\n",
    "        # qc = buildHamiltonian(qc, pauliStrings, t, n)\n",
    "    return qc\n",
    "\n",
    "# Higher order trotter formulation.\n",
    "def get_circuit_3(t=1, n=1):\n",
    "    qc = QuantumCircuit(len(bases[0]))\n",
    "    pauliStrings = list(zip(coefficients, bases))\n",
    "    reversedPauliStrings = list(zip(reversed(coefficients), reversed(bases)))\n",
    "    \n",
    "    for i in range(n):\n",
    "        qc = buildHamiltonian(qc, pauliStrings, t, n * 2)\n",
    "        qc = buildHamiltonian(qc, reversedPauliStrings, t, n * 2 / len(pauliStrings))\n",
    "        # qc = buildHamiltonian(qc, pauliStrings, t, n)\n",
    "    return qc\n",
    "\n",
    "# Higher order trotter formulation.\n",
    "def get_circuit_4(t=1, n=1):\n",
    "    qc = QuantumCircuit(len(bases[0]))\n",
    "    pauliStrings = list(zip(coefficients, bases))\n",
    "    reversedPauliStrings = list(zip(reversed(coefficients), reversed(bases)))\n",
    "    \n",
    "    for i in range(n):\n",
    "        qc = buildHamiltonian(qc, pauliStrings, t, n * 2)\n",
    "        qc = buildHamiltonian(qc, reversedPauliStrings, t, n * 2)\n",
    "        # qc = buildHamiltonian(qc, pauliStrings, t, n)\n",
    "    return qc\n",
    "\n",
    "def get_unitaries_2(t=1, n=1):\n",
    "    e_ith = expm(-1.j * t * hamiltonian)\n",
    "    qc = get_circuit_2(t=t, n=n)\n",
    "    backend = Aer.get_backend('unitary_simulator')\n",
    "    job = execute(qc, backend)\n",
    "    result = job.result()\n",
    "    U_circuit = result.get_unitary(qc)\n",
    "    return e_ith, U_circuit\n",
    "\n",
    "def get_unitaries_3(t=1, n=1):\n",
    "    e_ith = expm(-1.j * t * hamiltonian)\n",
    "    qc = get_circuit_3(t=t, n=n)\n",
    "    backend = Aer.get_backend('unitary_simulator')\n",
    "    job = execute(qc, backend)\n",
    "    result = job.result()\n",
    "    U_circuit = result.get_unitary(qc)\n",
    "    return e_ith, U_circuit\n",
    "\n",
    "def get_unitaries_4(t=1, n=1):\n",
    "    e_ith = expm(-1.j * t * hamiltonian)\n",
    "    qc = get_circuit_4(t=t, n=n)\n",
    "    backend = Aer.get_backend('unitary_simulator')\n",
    "    job = execute(qc, backend)\n",
    "    result = job.result()\n",
    "    U_circuit = result.get_unitary(qc)\n",
    "    return e_ith, U_circuit"
   ]
  },
  {
   "cell_type": "code",
   "execution_count": 348,
   "metadata": {},
   "outputs": [
    {
     "data": {
      "text/plain": [
       "0.013632494586225532"
      ]
     },
     "execution_count": 348,
     "metadata": {},
     "output_type": "execute_result"
    }
   ],
   "source": [
    "testMethods(n=100)"
   ]
  },
  {
   "cell_type": "code",
   "execution_count": 353,
   "metadata": {},
   "outputs": [],
   "source": [
    "e_ith4, U_circuit4 = get_unitaries_4(n=10)"
   ]
  },
  {
   "cell_type": "code",
   "execution_count": 354,
   "metadata": {},
   "outputs": [
    {
     "data": {
      "text/plain": [
       "0.5854223066053028"
      ]
     },
     "execution_count": 354,
     "metadata": {},
     "output_type": "execute_result"
    }
   ],
   "source": [
    "get_error(e_ith4, U_circuit4)"
   ]
  },
  {
   "cell_type": "code",
   "execution_count": 351,
   "metadata": {},
   "outputs": [
    {
     "data": {
      "text/plain": [
       "array([[ 0.512+0.j,  0.488+0.j, -0.109+0.j, -0.109+0.j, -0.488+0.j,\n",
       "         0.488+0.j,  0.   +0.j, -0.   +0.j],\n",
       "       [ 0.488+0.j,  0.512+0.j,  0.109+0.j,  0.109+0.j,  0.488+0.j,\n",
       "        -0.488+0.j, -0.   +0.j,  0.   +0.j],\n",
       "       [ 0.109+0.j, -0.109-0.j, -0.464-0.j, -0.488-0.j,  0.   +0.j,\n",
       "        -0.218-0.j,  0.488+0.j, -0.488-0.j],\n",
       "       [ 0.109+0.j, -0.109+0.j, -0.488+0.j, -0.464+0.j,  0.218+0.j,\n",
       "         0.   +0.j, -0.488+0.j,  0.488+0.j],\n",
       "       [-0.488-0.j,  0.488+0.j,  0.   +0.j, -0.218-0.j, -0.464-0.j,\n",
       "        -0.488-0.j, -0.109-0.j,  0.109+0.j],\n",
       "       [ 0.488+0.j, -0.488+0.j,  0.218+0.j,  0.   +0.j, -0.488+0.j,\n",
       "        -0.464+0.j, -0.109+0.j,  0.109+0.j],\n",
       "       [-0.   +0.j,  0.   +0.j,  0.488+0.j, -0.488+0.j,  0.109+0.j,\n",
       "         0.109+0.j,  0.512+0.j,  0.488+0.j],\n",
       "       [ 0.   +0.j, -0.   +0.j, -0.488+0.j,  0.488+0.j, -0.109+0.j,\n",
       "        -0.109+0.j,  0.488+0.j,  0.512+0.j]])"
      ]
     },
     "execution_count": 351,
     "metadata": {},
     "output_type": "execute_result"
    }
   ],
   "source": [
    "np.around(e_ith4, decimals=3)"
   ]
  },
  {
   "cell_type": "code",
   "execution_count": 352,
   "metadata": {},
   "outputs": [
    {
     "data": {
      "text/plain": [
       "array([[ 0.51 +0.j,  0.49 +0.j, -0.11 -0.j, -0.11 -0.j, -0.488-0.j,\n",
       "         0.488+0.j, -0.   -0.j,  0.   +0.j],\n",
       "       [ 0.49 +0.j,  0.51 +0.j,  0.11 +0.j,  0.11 -0.j,  0.488+0.j,\n",
       "        -0.488-0.j,  0.   +0.j, -0.   +0.j],\n",
       "       [ 0.11 +0.j, -0.11 -0.j, -0.461-0.j, -0.49 -0.j, -0.   -0.j,\n",
       "        -0.219-0.j,  0.488+0.j, -0.488-0.j],\n",
       "       [ 0.11 +0.j, -0.11 +0.j, -0.49 -0.j, -0.461-0.j,  0.219+0.j,\n",
       "        -0.   +0.j, -0.488-0.j,  0.488+0.j],\n",
       "       [-0.488-0.j,  0.488+0.j, -0.   +0.j, -0.219-0.j, -0.461-0.j,\n",
       "        -0.49 -0.j, -0.11 -0.j,  0.11 -0.j],\n",
       "       [ 0.488+0.j, -0.488-0.j,  0.219+0.j, -0.   -0.j, -0.49 -0.j,\n",
       "        -0.461-0.j, -0.11 +0.j,  0.11 -0.j],\n",
       "       [-0.   +0.j, -0.   -0.j,  0.488+0.j, -0.488-0.j,  0.11 +0.j,\n",
       "         0.11 -0.j,  0.51 +0.j,  0.49 +0.j],\n",
       "       [ 0.   +0.j, -0.   -0.j, -0.488-0.j,  0.488+0.j, -0.11 +0.j,\n",
       "        -0.11 +0.j,  0.49 -0.j,  0.51 -0.j]])"
      ]
     },
     "execution_count": 352,
     "metadata": {},
     "output_type": "execute_result"
    }
   ],
   "source": [
    "np.around(U_circuit4, decimals=3)"
   ]
  }
 ],
 "metadata": {
  "interpreter": {
   "hash": "1afdd5487afa15bf0797b22f2c7929f0a6c7ad3aebeaee922bd5f75d64efa325"
  },
  "kernelspec": {
   "display_name": "Python 3 (ipykernel)",
   "language": "python",
   "name": "python3"
  },
  "language_info": {
   "codemirror_mode": {
    "name": "ipython",
    "version": 3
   },
   "file_extension": ".py",
   "mimetype": "text/x-python",
   "name": "python",
   "nbconvert_exporter": "python",
   "pygments_lexer": "ipython3",
   "version": "3.9.12"
  }
 },
 "nbformat": 4,
 "nbformat_minor": 2
}
