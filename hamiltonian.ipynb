{
 "cells": [
  {
   "cell_type": "code",
   "execution_count": 27,
   "metadata": {},
   "outputs": [],
   "source": [
    "import numpy as np\n",
    "from qiskit import IBMQ, Aer, assemble, transpile, execute\n",
    "from qiskit import QuantumCircuit, ClassicalRegister, QuantumRegister\n",
    "from qiskit.providers.ibmq import least_busy\n",
    "from qiskit.quantum_info.operators import Operator, Pauli\n",
    "from qiskit.algorithms import NumPyEigensolver\n",
    "from numpy import linalg as LA\n",
    "from scipy.linalg import expm, norm"
   ]
  },
  {
   "cell_type": "code",
   "execution_count": 29,
   "metadata": {},
   "outputs": [],
   "source": [
    "def is_unitary(m):\n",
    "    return norm(np.eye(len(m)) - m.dot(m.T.conj()))\n",
    "def is_hermitian(m):\n",
    "    return norm(m-m.T.conj())"
   ]
  },
  {
   "cell_type": "code",
   "execution_count": 52,
   "metadata": {},
   "outputs": [],
   "source": [
    "coefficients = []\n",
    "bases = []\n",
    "with open('LiH-Hamiltonian.txt') as f:\n",
    "    for line in f:\n",
    "        x = line.strip().split(\" \")\n",
    "        if (len(line) > 1):\n",
    "            c = float(x[1])\n",
    "            c = (c if x[0] == '+' else -c)\n",
    "            coefficients.append(c)\n",
    "            bases.append(x[3])\n",
    "\n",
    "hamiltonian = np.zeros((2**10, 2**10), dtype=np.cdouble)\n",
    "# comment this out when stuff actually works\n",
    "coefficients = [0.25]*1\n",
    "bases = ['XIIIIIIIII']# 'XXXXIIIIII', 'XXIIIIIIII', 'XXXIIIIIII'] # these are all commuting\n",
    "# numTerms = len(bases)\n",
    "for c, lbl in zip(coefficients, bases):\n",
    "    op = Operator(Pauli(label=lbl))\n",
    "    hamiltonian+=c*op.data\n",
    "\n",
    "t = 1\n",
    "e_ith = expm(-1.j * t * hamiltonian)"
   ]
  },
  {
   "cell_type": "code",
   "execution_count": 63,
   "metadata": {},
   "outputs": [],
   "source": [
    "e_ith\n",
    "e_ith_new = expm(-1.j * t * 4 * hamiltonian)\n",
    "e_ith_new_x = LA.matrix_power(e_ith, 4)"
   ]
  },
  {
   "cell_type": "code",
   "execution_count": 66,
   "metadata": {},
   "outputs": [
    {
     "data": {
      "text/plain": [
       "(1024, 1024)"
      ]
     },
     "execution_count": 66,
     "metadata": {},
     "output_type": "execute_result"
    }
   ],
   "source": [
    "e_ith_new.shape"
   ]
  },
  {
   "cell_type": "code",
   "execution_count": 67,
   "metadata": {},
   "outputs": [
    {
     "data": {
      "text/plain": [
       "6.153480596427404e-15"
      ]
     },
     "execution_count": 67,
     "metadata": {},
     "output_type": "execute_result"
    }
   ],
   "source": [
    "norm(e_ith_new_x-e_ith_new)"
   ]
  },
  {
   "cell_type": "code",
   "execution_count": 61,
   "metadata": {},
   "outputs": [
    {
     "data": {
      "text/plain": [
       "array([0.  +0.j, 0.25+0.j])"
      ]
     },
     "execution_count": 61,
     "metadata": {},
     "output_type": "execute_result"
    }
   ],
   "source": [
    "np.unique(hamiltonian)"
   ]
  },
  {
   "cell_type": "code",
   "execution_count": 53,
   "metadata": {},
   "outputs": [
    {
     "data": {
      "text/plain": [
       "(0.0, 3.66205343881779e-15)"
      ]
     },
     "execution_count": 53,
     "metadata": {},
     "output_type": "execute_result"
    }
   ],
   "source": [
    "is_hermitian(hamiltonian), is_unitary(e_ith)"
   ]
  },
  {
   "cell_type": "code",
   "execution_count": 92,
   "metadata": {},
   "outputs": [
    {
     "name": "stdout",
     "output_type": "stream",
     "text": [
      "0.25 XIIIIIIIII\n"
     ]
    }
   ],
   "source": [
    "\n",
    "n = 1 # number of time divisions. n=1 works for commuting operators \n",
    "qc = QuantumCircuit(10)\n",
    "for i in range(n):\n",
    "    for c, b in zip(coefficients, bases):\n",
    "        # implement e^{-i*c*b*t/n}\n",
    "        print(c, b)\n",
    "        q = []\n",
    "        qc.barrier()\n",
    "        for i, op in enumerate(b):\n",
    "            if (op == 'X'):\n",
    "                qc.h(i)\n",
    "                q.append(i)\n",
    "            elif (op == 'Z'):\n",
    "                q.append(i)\n",
    "            elif (op == 'Y'):\n",
    "                qc.h(i)\n",
    "                qc.s(i)\n",
    "                q.append(i)\n",
    "            elif (op == 'I'):\n",
    "                continue\n",
    "        if (len(q) > 0):\n",
    "            if (len(q) > 1):\n",
    "                for i in range(len(q)-1):\n",
    "                    qc.cx(q[i], q[-1])\n",
    "            qc.rz(2*c*t/n, q[-1])\n",
    "            if (len(q) > 1):\n",
    "                for i in reversed(range(len(q)-1)):\n",
    "                    qc.cx(q[i], q[-1])\n",
    "            for i, op in enumerate(b):\n",
    "                if (op == 'X'):\n",
    "                    qc.h(i)\n",
    "                elif (op == 'Z'):\n",
    "                    continue\n",
    "                elif (op == 'Y'):\n",
    "                    qc.sdg(i)\n",
    "                    qc.h(i)\n",
    "                elif (op == 'I'):\n",
    "                    continue\n",
    "        qc.barrier()"
   ]
  },
  {
   "cell_type": "code",
   "execution_count": 93,
   "metadata": {},
   "outputs": [
    {
     "data": {
      "text/html": [
       "<pre style=\"word-wrap: normal;white-space: pre;background: #fff0;line-height: 1.1;font-family: &quot;Courier New&quot;,Courier,monospace\">      ░ ┌───┐┌─────────┐┌───┐ ░ \n",
       "q_0: ─░─┤ H ├┤ Rz(0.5) ├┤ H ├─░─\n",
       "      ░ └───┘└─────────┘└───┘ ░ \n",
       "q_1: ─░───────────────────────░─\n",
       "      ░                       ░ \n",
       "q_2: ─░───────────────────────░─\n",
       "      ░                       ░ \n",
       "q_3: ─░───────────────────────░─\n",
       "      ░                       ░ \n",
       "q_4: ─░───────────────────────░─\n",
       "      ░                       ░ \n",
       "q_5: ─░───────────────────────░─\n",
       "      ░                       ░ \n",
       "q_6: ─░───────────────────────░─\n",
       "      ░                       ░ \n",
       "q_7: ─░───────────────────────░─\n",
       "      ░                       ░ \n",
       "q_8: ─░───────────────────────░─\n",
       "      ░                       ░ \n",
       "q_9: ─░───────────────────────░─\n",
       "      ░                       ░ </pre>"
      ],
      "text/plain": [
       "      ░ ┌───┐┌─────────┐┌───┐ ░ \n",
       "q_0: ─░─┤ H ├┤ Rz(0.5) ├┤ H ├─░─\n",
       "      ░ └───┘└─────────┘└───┘ ░ \n",
       "q_1: ─░───────────────────────░─\n",
       "      ░                       ░ \n",
       "q_2: ─░───────────────────────░─\n",
       "      ░                       ░ \n",
       "q_3: ─░───────────────────────░─\n",
       "      ░                       ░ \n",
       "q_4: ─░───────────────────────░─\n",
       "      ░                       ░ \n",
       "q_5: ─░───────────────────────░─\n",
       "      ░                       ░ \n",
       "q_6: ─░───────────────────────░─\n",
       "      ░                       ░ \n",
       "q_7: ─░───────────────────────░─\n",
       "      ░                       ░ \n",
       "q_8: ─░───────────────────────░─\n",
       "      ░                       ░ \n",
       "q_9: ─░───────────────────────░─\n",
       "      ░                       ░ "
      ]
     },
     "execution_count": 93,
     "metadata": {},
     "output_type": "execute_result"
    }
   ],
   "source": [
    "qc.draw()"
   ]
  },
  {
   "cell_type": "code",
   "execution_count": 85,
   "metadata": {},
   "outputs": [],
   "source": [
    "backend = Aer.get_backend('unitary_simulator')\n",
    "job = execute(qc, backend)\n",
    "result = job.result()\n",
    "U_circuit_4 = result.get_unitary(qc) "
   ]
  },
  {
   "cell_type": "code",
   "execution_count": 87,
   "metadata": {},
   "outputs": [
    {
     "data": {
      "text/plain": [
       "3.552713678800501e-15"
      ]
     },
     "execution_count": 87,
     "metadata": {},
     "output_type": "execute_result"
    }
   ],
   "source": [
    "norm(U_circuit_4-LA.matrix_power(U_circuit, 4))"
   ]
  },
  {
   "cell_type": "code",
   "execution_count": 82,
   "metadata": {},
   "outputs": [
    {
     "data": {
      "text/plain": [
       "Operator([[ 9.68912422e-01+0.j        , -1.51491233e-17-0.24740396j,\n",
       "            0.00000000e+00+0.j        , ...,  0.00000000e+00+0.j        ,\n",
       "            0.00000000e+00+0.j        ,  0.00000000e+00+0.j        ],\n",
       "          [ 1.51491233e-17-0.24740396j,  9.68912422e-01+0.j        ,\n",
       "            0.00000000e+00+0.j        , ...,  0.00000000e+00+0.j        ,\n",
       "            0.00000000e+00+0.j        ,  0.00000000e+00+0.j        ],\n",
       "          [ 0.00000000e+00+0.j        ,  0.00000000e+00+0.j        ,\n",
       "            9.68912422e-01+0.j        , ...,  0.00000000e+00+0.j        ,\n",
       "            0.00000000e+00+0.j        ,  0.00000000e+00+0.j        ],\n",
       "          ...,\n",
       "          [ 0.00000000e+00+0.j        ,  0.00000000e+00+0.j        ,\n",
       "            0.00000000e+00+0.j        , ...,  9.68912422e-01+0.j        ,\n",
       "            0.00000000e+00+0.j        ,  0.00000000e+00+0.j        ],\n",
       "          [ 0.00000000e+00+0.j        ,  0.00000000e+00+0.j        ,\n",
       "            0.00000000e+00+0.j        , ...,  0.00000000e+00+0.j        ,\n",
       "            9.68912422e-01+0.j        , -1.51491233e-17-0.24740396j],\n",
       "          [ 0.00000000e+00+0.j        ,  0.00000000e+00+0.j        ,\n",
       "            0.00000000e+00+0.j        , ...,  0.00000000e+00+0.j        ,\n",
       "            1.51491233e-17-0.24740396j,  9.68912422e-01+0.j        ]],\n",
       "         input_dims=(2, 2, 2, 2, 2, 2, 2, 2, 2, 2), output_dims=(2, 2, 2, 2, 2, 2, 2, 2, 2, 2))"
      ]
     },
     "execution_count": 82,
     "metadata": {},
     "output_type": "execute_result"
    }
   ],
   "source": [
    "U_circuit"
   ]
  },
  {
   "cell_type": "code",
   "execution_count": 88,
   "metadata": {},
   "outputs": [],
   "source": [
    "diff = U_circuit - e_ith\n",
    "# measure the operator's accuracy\n",
    "data = diff.data\n",
    "w, v = LA.eig(data)\n",
    "\n",
    "# measure the error relative to a matrix of 1s for reference.\n",
    "ones = np.ones(data.shape)\n",
    "fakeDiff = U_circuit - ones\n",
    "w_fake, v_fake = LA.eig(fakeDiff.data)"
   ]
  },
  {
   "cell_type": "code",
   "execution_count": 91,
   "metadata": {},
   "outputs": [
    {
     "name": "stdout",
     "output_type": "stream",
     "text": [
      "1.1916253585419323e-15\n"
     ]
    }
   ],
   "source": [
    "diff = U_circuit_4 - e_ith_new\n",
    "# measure the operator's accuracy\n",
    "data = diff.data\n",
    "w, v = LA.eig(data)\n",
    "print(np.absolute(max(w)))"
   ]
  },
  {
   "cell_type": "code",
   "execution_count": 90,
   "metadata": {},
   "outputs": [
    {
     "data": {
      "text/plain": [
       "Operator([[ 9.68912422e-01+0.j        , -1.51491233e-17-0.24740396j,\n",
       "            0.00000000e+00+0.j        , ...,  0.00000000e+00+0.j        ,\n",
       "            0.00000000e+00+0.j        ,  0.00000000e+00+0.j        ],\n",
       "          [ 1.51491233e-17-0.24740396j,  9.68912422e-01+0.j        ,\n",
       "            0.00000000e+00+0.j        , ...,  0.00000000e+00+0.j        ,\n",
       "            0.00000000e+00+0.j        ,  0.00000000e+00+0.j        ],\n",
       "          [ 0.00000000e+00+0.j        ,  0.00000000e+00+0.j        ,\n",
       "            9.68912422e-01+0.j        , ...,  0.00000000e+00+0.j        ,\n",
       "            0.00000000e+00+0.j        ,  0.00000000e+00+0.j        ],\n",
       "          ...,\n",
       "          [ 0.00000000e+00+0.j        ,  0.00000000e+00+0.j        ,\n",
       "            0.00000000e+00+0.j        , ...,  9.68912422e-01+0.j        ,\n",
       "            0.00000000e+00+0.j        ,  0.00000000e+00+0.j        ],\n",
       "          [ 0.00000000e+00+0.j        ,  0.00000000e+00+0.j        ,\n",
       "            0.00000000e+00+0.j        , ...,  0.00000000e+00+0.j        ,\n",
       "            9.68912422e-01+0.j        , -1.51491233e-17-0.24740396j],\n",
       "          [ 0.00000000e+00+0.j        ,  0.00000000e+00+0.j        ,\n",
       "            0.00000000e+00+0.j        , ...,  0.00000000e+00+0.j        ,\n",
       "            1.51491233e-17-0.24740396j,  9.68912422e-01+0.j        ]],\n",
       "         input_dims=(2, 2, 2, 2, 2, 2, 2, 2, 2, 2), output_dims=(2, 2, 2, 2, 2, 2, 2, 2, 2, 2))"
      ]
     },
     "execution_count": 90,
     "metadata": {},
     "output_type": "execute_result"
    }
   ],
   "source": [
    "U_circuit"
   ]
  },
  {
   "cell_type": "code",
   "execution_count": 89,
   "metadata": {},
   "outputs": [
    {
     "name": "stdout",
     "output_type": "stream",
     "text": [
      "0.49480791850904576\n"
     ]
    }
   ],
   "source": [
    "print(np.absolute(max(w)))"
   ]
  },
  {
   "cell_type": "markdown",
   "metadata": {},
   "source": [
    "10 qubits -> 2^10 states -> 2^20 entries ($\\approx$ 1,000,000, which is quite reasonable)"
   ]
  },
  {
   "cell_type": "code",
   "execution_count": 195,
   "metadata": {},
   "outputs": [],
   "source": []
  }
 ],
 "metadata": {
  "interpreter": {
   "hash": "1afdd5487afa15bf0797b22f2c7929f0a6c7ad3aebeaee922bd5f75d64efa325"
  },
  "kernelspec": {
   "display_name": "Python 3 (ipykernel)",
   "language": "python",
   "name": "python3"
  },
  "language_info": {
   "codemirror_mode": {
    "name": "ipython",
    "version": 3
   },
   "file_extension": ".py",
   "mimetype": "text/x-python",
   "name": "python",
   "nbconvert_exporter": "python",
   "pygments_lexer": "ipython3",
   "version": "3.8.5"
  }
 },
 "nbformat": 4,
 "nbformat_minor": 2
}
