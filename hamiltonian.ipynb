{
 "cells": [
  {
   "cell_type": "code",
   "execution_count": 1,
   "metadata": {},
   "outputs": [],
   "source": [
    "import numpy as np\n",
    "from qiskit import IBMQ, Aer, assemble, transpile, execute\n",
    "from qiskit import QuantumCircuit, ClassicalRegister, QuantumRegister\n",
    "from qiskit.providers.ibmq import least_busy\n",
    "from qiskit.quantum_info.operators import Operator, Pauli\n",
    "from qiskit.algorithms import NumPyEigensolver\n",
    "from numpy import linalg as LA\n",
    "from scipy.linalg import expm, norm"
   ]
  },
  {
   "cell_type": "code",
   "execution_count": 2,
   "metadata": {},
   "outputs": [],
   "source": [
    "def is_unitary(m):\n",
    "    return norm(np.eye(len(m)) - m.dot(m.T.conj()))\n",
    "def is_hermitian(m):\n",
    "    return norm(m-m.T.conj())"
   ]
  },
  {
   "cell_type": "code",
   "execution_count": 60,
   "metadata": {},
   "outputs": [],
   "source": [
    "coefficients = []\n",
    "bases = []\n",
    "with open('LiH-Hamiltonian.txt') as f:\n",
    "    for line in f:\n",
    "        x = line.strip().split(\" \")\n",
    "        if (len(line) > 1):\n",
    "            c = float(x[1])\n",
    "            c = (c if x[0] == '+' else -c)\n",
    "            coefficients.append(c)\n",
    "            bases.append(x[3])\n",
    "\n",
    "# coefficients = [1]*3\n",
    "# bases = ['YZ', 'ZX', 'YX'] # these are all commuting\n",
    "hamiltonian = np.zeros((2**len(bases[0]), 2**len(bases[0])), dtype=np.cdouble)\n",
    "# comment this out when stuff actually works\n",
    "for c, lbl in zip(coefficients, bases):\n",
    "    op = Operator(Pauli(label=lbl))\n",
    "    hamiltonian+=c*op.data"
   ]
  },
  {
   "cell_type": "code",
   "execution_count": 54,
   "metadata": {},
   "outputs": [
    {
     "data": {
      "text/plain": [
       "0.0"
      ]
     },
     "execution_count": 54,
     "metadata": {},
     "output_type": "execute_result"
    }
   ],
   "source": [
    "is_hermitian(hamiltonian)"
   ]
  },
  {
   "cell_type": "code",
   "execution_count": 55,
   "metadata": {},
   "outputs": [],
   "source": [
    "\n",
    "def get_circuit(t=1, n=1):\n",
    "    qc = QuantumCircuit(len(bases[0]))\n",
    "    for i in range(n):\n",
    "        for c, b in zip(coefficients, bases):\n",
    "            # implement e^{-i*c*b*t/n}\n",
    "            b = b[::-1]\n",
    "            q = []\n",
    "            qc.barrier()\n",
    "            for i, op in enumerate(b):\n",
    "                if (op == 'X'):\n",
    "                    qc.h(i)\n",
    "                    q.append(i)\n",
    "                elif (op == 'Z'):\n",
    "                    q.append(i)\n",
    "                elif (op == 'Y'):\n",
    "                    qc.sdg(i)\n",
    "                    qc.h(i)\n",
    "                    q.append(i)\n",
    "                elif (op == 'I'):\n",
    "                    continue\n",
    "            qc.barrier()\n",
    "            if (len(q) > 0):\n",
    "                if (len(q) > 1):\n",
    "                    for i in range(len(q)-1):\n",
    "                        qc.cx(q[i], q[-1])\n",
    "                qc.rz(2*c*t/n, q[-1])\n",
    "                if (len(q) > 1):\n",
    "                    for i in reversed(range(len(q)-1)):\n",
    "                        qc.cx(q[i], q[-1])\n",
    "                qc.barrier()\n",
    "                for i, op in enumerate(b):\n",
    "                    if (op == 'X'):\n",
    "                        qc.h(i)\n",
    "                    elif (op == 'Z'):\n",
    "                        continue\n",
    "                    elif (op == 'Y'):\n",
    "                        qc.h(i)\n",
    "                        qc.s(i)\n",
    "                    elif (op == 'I'):\n",
    "                        continue\n",
    "            qc.barrier()\n",
    "    return qc\n",
    "\n",
    "def get_unitaries(t=1, n=1):\n",
    "    e_ith = expm(-1.j * t * hamiltonian)\n",
    "    qc = get_circuit(t=t, n=n)\n",
    "    backend = Aer.get_backend('unitary_simulator')\n",
    "    job = execute(qc, backend)\n",
    "    result = job.result()\n",
    "    U_circuit = result.get_unitary(qc)\n",
    "    return e_ith, U_circuit"
   ]
  },
  {
   "cell_type": "code",
   "execution_count": 56,
   "metadata": {},
   "outputs": [
    {
     "data": {
      "text/html": [
       "<pre style=\"word-wrap: normal;white-space: pre;background: #fff0;line-height: 1.1;font-family: &quot;Courier New&quot;,Courier,monospace\">      ░              ░                     ░            ░  ░ ┌───┐ ░      »\n",
       "q_0: ─░──────────────░───■─────────────■───░────────────░──░─┤ H ├─░───■──»\n",
       "      ░ ┌─────┐┌───┐ ░ ┌─┴─┐┌───────┐┌─┴─┐ ░ ┌───┐┌───┐ ░  ░ └───┘ ░ ┌─┴─┐»\n",
       "q_1: ─░─┤ Sdg ├┤ H ├─░─┤ X ├┤ Rz(2) ├┤ X ├─░─┤ H ├┤ S ├─░──░───────░─┤ X ├»\n",
       "      ░ └─────┘└───┘ ░ └───┘└───────┘└───┘ ░ └───┘└───┘ ░  ░       ░ └───┘»\n",
       "«                    ░ ┌───┐ ░  ░  ┌───┐       ░                     ░ ┌───┐»\n",
       "«q_0: ───────────■───░─┤ H ├─░──░──┤ H ├───────░───■─────────────■───░─┤ H ├»\n",
       "«     ┌───────┐┌─┴─┐ ░ └───┘ ░  ░ ┌┴───┴┐┌───┐ ░ ┌─┴─┐┌───────┐┌─┴─┐ ░ ├───┤»\n",
       "«q_1: ┤ Rz(2) ├┤ X ├─░───────░──░─┤ Sdg ├┤ H ├─░─┤ X ├┤ Rz(2) ├┤ X ├─░─┤ H ├»\n",
       "«     └───────┘└───┘ ░       ░  ░ └─────┘└───┘ ░ └───┘└───────┘└───┘ ░ └───┘»\n",
       "«           ░ \n",
       "«q_0: ──────░─\n",
       "«     ┌───┐ ░ \n",
       "«q_1: ┤ S ├─░─\n",
       "«     └───┘ ░ </pre>"
      ],
      "text/plain": [
       "      ░              ░                     ░            ░  ░ ┌───┐ ░      »\n",
       "q_0: ─░──────────────░───■─────────────■───░────────────░──░─┤ H ├─░───■──»\n",
       "      ░ ┌─────┐┌───┐ ░ ┌─┴─┐┌───────┐┌─┴─┐ ░ ┌───┐┌───┐ ░  ░ └───┘ ░ ┌─┴─┐»\n",
       "q_1: ─░─┤ Sdg ├┤ H ├─░─┤ X ├┤ Rz(2) ├┤ X ├─░─┤ H ├┤ S ├─░──░───────░─┤ X ├»\n",
       "      ░ └─────┘└───┘ ░ └───┘└───────┘└───┘ ░ └───┘└───┘ ░  ░       ░ └───┘»\n",
       "«                    ░ ┌───┐ ░  ░  ┌───┐       ░                     ░ ┌───┐»\n",
       "«q_0: ───────────■───░─┤ H ├─░──░──┤ H ├───────░───■─────────────■───░─┤ H ├»\n",
       "«     ┌───────┐┌─┴─┐ ░ └───┘ ░  ░ ┌┴───┴┐┌───┐ ░ ┌─┴─┐┌───────┐┌─┴─┐ ░ ├───┤»\n",
       "«q_1: ┤ Rz(2) ├┤ X ├─░───────░──░─┤ Sdg ├┤ H ├─░─┤ X ├┤ Rz(2) ├┤ X ├─░─┤ H ├»\n",
       "«     └───────┘└───┘ ░       ░  ░ └─────┘└───┘ ░ └───┘└───────┘└───┘ ░ └───┘»\n",
       "«           ░ \n",
       "«q_0: ──────░─\n",
       "«     ┌───┐ ░ \n",
       "«q_1: ┤ S ├─░─\n",
       "«     └───┘ ░ "
      ]
     },
     "execution_count": 56,
     "metadata": {},
     "output_type": "execute_result"
    }
   ],
   "source": [
    "get_circuit(n=1).draw()"
   ]
  },
  {
   "cell_type": "code",
   "execution_count": 62,
   "metadata": {},
   "outputs": [],
   "source": [
    "e_ith, U_circuit = get_unitaries(n=4)"
   ]
  },
  {
   "cell_type": "code",
   "execution_count": 59,
   "metadata": {},
   "outputs": [
    {
     "data": {
      "text/plain": [
       "0.0140768368731666"
      ]
     },
     "execution_count": 59,
     "metadata": {},
     "output_type": "execute_result"
    }
   ],
   "source": [
    "def get_error(e_ith, U_circuit):\n",
    "    diff = U_circuit.data - e_ith\n",
    "    # measure the operator's accuracy\n",
    "    w, v = LA.eig(diff)\n",
    "\n",
    "    return np.absolute(max(w))\n",
    "\n",
    "get_error(e_ith, U_circuit)"
   ]
  },
  {
   "cell_type": "code",
   "execution_count": 18,
   "metadata": {},
   "outputs": [
    {
     "data": {
      "text/plain": [
       "array([[ 0.54 +0.j,  0.   +0.j,  0.   +0.j, -0.841+0.j],\n",
       "       [ 0.   +0.j,  0.54 +0.j,  0.841+0.j,  0.   +0.j],\n",
       "       [ 0.   +0.j, -0.841+0.j,  0.54 +0.j,  0.   +0.j],\n",
       "       [ 0.841+0.j,  0.   +0.j,  0.   +0.j,  0.54 +0.j]])"
      ]
     },
     "execution_count": 18,
     "metadata": {},
     "output_type": "execute_result"
    }
   ],
   "source": [
    "np.around(e_ith, decimals=3)"
   ]
  },
  {
   "cell_type": "code",
   "execution_count": 32,
   "metadata": {},
   "outputs": [
    {
     "data": {
      "text/plain": [
       "array([[1.543+0.j   , 0.   +0.j   , 0.   +0.j   , 0.   -1.175j],\n",
       "       [0.   +0.j   , 1.543+0.j   , 0.   +1.175j, 0.   +0.j   ],\n",
       "       [0.   +0.j   , 0.   -1.175j, 1.543+0.j   , 0.   +0.j   ],\n",
       "       [0.   +1.175j, 0.   +0.j   , 0.   +0.j   , 1.543+0.j   ]])"
      ]
     },
     "execution_count": 32,
     "metadata": {},
     "output_type": "execute_result"
    }
   ],
   "source": [
    "np.around(expm(hamiltonian), decimals=3)"
   ]
  },
  {
   "cell_type": "code",
   "execution_count": 20,
   "metadata": {},
   "outputs": [
    {
     "data": {
      "text/plain": [
       "array([[0.+0.j, 0.+0.j, 0.+0.j, 0.-1.j],\n",
       "       [0.+0.j, 0.+0.j, 0.+1.j, 0.+0.j],\n",
       "       [0.+0.j, 0.-1.j, 0.+0.j, 0.+0.j],\n",
       "       [0.+1.j, 0.+0.j, 0.+0.j, 0.+0.j]])"
      ]
     },
     "execution_count": 20,
     "metadata": {},
     "output_type": "execute_result"
    }
   ],
   "source": [
    "hamiltonian"
   ]
  },
  {
   "cell_type": "code",
   "execution_count": 17,
   "metadata": {},
   "outputs": [
    {
     "data": {
      "text/plain": [
       "array([[ 0.54-0.j   ,  0.  +0.j   ,  0.  +0.j   , -0.  -0.841j],\n",
       "       [ 0.  +0.j   ,  0.54+0.j   , -0.  -0.841j,  0.  +0.j   ],\n",
       "       [ 0.  +0.j   , -0.  -0.841j,  0.54-0.j   ,  0.  +0.j   ],\n",
       "       [-0.  -0.841j,  0.  +0.j   ,  0.  +0.j   ,  0.54-0.j   ]])"
      ]
     },
     "execution_count": 17,
     "metadata": {},
     "output_type": "execute_result"
    }
   ],
   "source": [
    "np.around(U_circuit, decimals=3)"
   ]
  },
  {
   "cell_type": "code",
   "execution_count": 126,
   "metadata": {},
   "outputs": [],
   "source": [
    "np.set_printoptions(formatter={'float': lambda x: \"{0:0.3f}\".format(x)})"
   ]
  },
  {
   "cell_type": "code",
   "execution_count": 124,
   "metadata": {},
   "outputs": [
    {
     "data": {
      "text/plain": [
       "array([[-1.50322374e+00+2.45449949e-16j, -5.87530474e-01-6.12876819e-17j,\n",
       "         9.27359830e-19-4.88601814e-01j,  1.21911489e-18-3.67379553e-01j],\n",
       "       [-5.87730457e-01-6.12360182e-17j, -3.27962806e-01+3.68501279e-16j,\n",
       "         2.45226529e-18-3.67377553e-01j,  2.54543933e-17+2.46155292e-01j],\n",
       "       [ 9.27359830e-19-4.88601814e-01j,  3.67902959e-18-3.67379553e-01j,\n",
       "        -1.50322374e+00+6.13325847e-16j, -5.87530474e-01-6.12876819e-17j],\n",
       "       [ 4.90553476e-18-3.67377553e-01j,  2.54543933e-17+2.46155292e-01j,\n",
       "        -5.87730457e-01-6.12360182e-17j, -3.27962806e-01+7.34651747e-16j]])"
      ]
     },
     "execution_count": 124,
     "metadata": {},
     "output_type": "execute_result"
    }
   ],
   "source": [
    "e_ith-U_circuit.data"
   ]
  },
  {
   "cell_type": "code",
   "execution_count": 15,
   "metadata": {},
   "outputs": [
    {
     "data": {
      "text/plain": [
       "(array([-1.11022302e-16+0.j        , -5.15252374e-17+0.84147098j,\n",
       "         0.00000000e+00-0.84147098j,  0.00000000e+00+0.j        ,\n",
       "         5.15252374e-17+0.84147098j]),\n",
       " array([-1.11022302e-16+0.j        , -5.15252374e-17+0.84147098j,\n",
       "         0.00000000e+00-0.84147098j,  0.00000000e+00+0.j        ,\n",
       "         5.15252374e-17+0.84147098j]))"
      ]
     },
     "execution_count": 15,
     "metadata": {},
     "output_type": "execute_result"
    }
   ],
   "source": [
    "np.unique(e_ith4-U_circuit4.data), np.unique(e_ith4-U_circuit4.data)"
   ]
  },
  {
   "cell_type": "markdown",
   "metadata": {},
   "source": [
    "10 qubits -> 2^10 states -> 2^20 entries ($\\approx$ 1,000,000, which is quite reasonable)"
   ]
  },
  {
   "cell_type": "code",
   "execution_count": null,
   "metadata": {},
   "outputs": [],
   "source": []
  }
 ],
 "metadata": {
  "interpreter": {
   "hash": "1afdd5487afa15bf0797b22f2c7929f0a6c7ad3aebeaee922bd5f75d64efa325"
  },
  "kernelspec": {
   "display_name": "Python 3 (ipykernel)",
   "language": "python",
   "name": "python3"
  },
  "language_info": {
   "codemirror_mode": {
    "name": "ipython",
    "version": 3
   },
   "file_extension": ".py",
   "mimetype": "text/x-python",
   "name": "python",
   "nbconvert_exporter": "python",
   "pygments_lexer": "ipython3",
   "version": "3.8.5"
  }
 },
 "nbformat": 4,
 "nbformat_minor": 2
}
