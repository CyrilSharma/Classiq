{
 "cells": [
  {
   "cell_type": "code",
   "execution_count": 1,
   "metadata": {},
   "outputs": [],
   "source": [
    "import numpy as np\n",
    "from qiskit import IBMQ, Aer, assemble, transpile, execute\n",
    "from qiskit import QuantumCircuit, ClassicalRegister, QuantumRegister\n",
    "from qiskit.providers.ibmq import least_busy\n",
    "from qiskit.quantum_info.operators import Operator, Pauli\n",
    "from qiskit.algorithms import NumPyEigensolver\n",
    "from numpy import linalg as LA\n",
    "from scipy.linalg import expm, norm"
   ]
  },
  {
   "cell_type": "code",
   "execution_count": 2,
   "metadata": {},
   "outputs": [],
   "source": [
    "def is_unitary(m):\n",
    "    return norm(np.eye(len(m)) - m.dot(m.T.conj()))\n",
    "def is_hermitian(m):\n",
    "    return norm(m-m.T.conj())"
   ]
  },
  {
   "cell_type": "code",
   "execution_count": 3,
   "metadata": {},
   "outputs": [],
   "source": [
    "coefficients = []\n",
    "bases = []\n",
    "with open('LiH-Hamiltonian.txt') as f:\n",
    "    for line in f:\n",
    "        x = line.strip().split(\" \")\n",
    "        if (len(line) > 1):\n",
    "            c = float(x[1])\n",
    "            c = (c if x[0] == '+' else -c)\n",
    "            coefficients.append(c)\n",
    "            bases.append(x[3])\n",
    "\n",
    "hamiltonian = np.zeros((2**10, 2**10), dtype=np.cdouble)\n",
    "# comment this out when stuff actually works\n",
    "coefficients = [1]*1\n",
    "bases = ['XIIIIIIIII']# 'XXXXIIIIII', 'XXIIIIIIII', 'XXXIIIIIII'] # these are all commuting\n",
    "# numTerms = len(bases)\n",
    "for c, lbl in zip(coefficients, bases):\n",
    "    op = Operator(Pauli(label=lbl))\n",
    "    hamiltonian+=c*op.data"
   ]
  },
  {
   "cell_type": "code",
   "execution_count": 4,
   "metadata": {},
   "outputs": [
    {
     "data": {
      "text/plain": [
       "0.0"
      ]
     },
     "execution_count": 4,
     "metadata": {},
     "output_type": "execute_result"
    }
   ],
   "source": [
    "is_hermitian(hamiltonian)"
   ]
  },
  {
   "cell_type": "code",
   "execution_count": 7,
   "metadata": {},
   "outputs": [],
   "source": [
    "\n",
    "def get_circuit(t=1, n=1):\n",
    "    n = 1 # number of time divisions. n=1 works for commuting operators \n",
    "    qc = QuantumCircuit(10)\n",
    "    for i in range(n):\n",
    "        for c, b in zip(coefficients, bases):\n",
    "            # implement e^{-i*c*b*t/n}\n",
    "            print(c, b)\n",
    "            q = []\n",
    "            qc.barrier()\n",
    "            for i, op in enumerate(b):\n",
    "                if (op == 'X'):\n",
    "                    qc.h(i)\n",
    "                    q.append(i)\n",
    "                elif (op == 'Z'):\n",
    "                    q.append(i)\n",
    "                elif (op == 'Y'):\n",
    "                    qc.h(i)\n",
    "                    qc.s(i)\n",
    "                    q.append(i)\n",
    "                elif (op == 'I'):\n",
    "                    continue\n",
    "            if (len(q) > 0):\n",
    "                if (len(q) > 1):\n",
    "                    for i in range(len(q)-1):\n",
    "                        qc.cx(q[i], q[-1])\n",
    "                qc.rz(2*c*t/n, q[-1])\n",
    "                if (len(q) > 1):\n",
    "                    for i in reversed(range(len(q)-1)):\n",
    "                        qc.cx(q[i], q[-1])\n",
    "                for i, op in enumerate(b):\n",
    "                    if (op == 'X'):\n",
    "                        qc.h(i)\n",
    "                    elif (op == 'Z'):\n",
    "                        continue\n",
    "                    elif (op == 'Y'):\n",
    "                        qc.sdg(i)\n",
    "                        qc.h(i)\n",
    "                    elif (op == 'I'):\n",
    "                        continue\n",
    "            qc.barrier()\n",
    "        return qc\n",
    "\n",
    "def get_unitaries(t=1, n=1):\n",
    "    e_ith = expm(-1.j * t * hamiltonian)\n",
    "    qc = get_circuit(t=t, n=n)\n",
    "    backend = Aer.get_backend('unitary_simulator')\n",
    "    job = execute(qc, backend)\n",
    "    result = job.result()\n",
    "    U_circuit = result.get_unitary(qc)\n",
    "    return e_ith, U_circuit"
   ]
  },
  {
   "cell_type": "code",
   "execution_count": 9,
   "metadata": {},
   "outputs": [
    {
     "name": "stdout",
     "output_type": "stream",
     "text": [
      "1 XIIIIIIIII\n",
      "1 XIIIIIIIII\n"
     ]
    }
   ],
   "source": [
    "e_ith4, U_circuit4 = get_unitaries()\n",
    "e_ith, U_circuit = get_unitaries(t=0.25)"
   ]
  },
  {
   "cell_type": "code",
   "execution_count": 10,
   "metadata": {},
   "outputs": [],
   "source": [
    "def get_error(e_ith, U_circuit):\n",
    "    diff = U_circuit - e_ith\n",
    "    # measure the operator's accuracy\n",
    "    data = diff.data\n",
    "    w, v = LA.eig(data)\n",
    "\n",
    "    return np.absolute(max(w))"
   ]
  },
  {
   "cell_type": "code",
   "execution_count": 11,
   "metadata": {},
   "outputs": [
    {
     "data": {
      "text/plain": [
       "1.1916253585419323e-15"
      ]
     },
     "execution_count": 11,
     "metadata": {},
     "output_type": "execute_result"
    }
   ],
   "source": [
    "get_error(e_ith4, U_circuit4)"
   ]
  },
  {
   "cell_type": "code",
   "execution_count": 12,
   "metadata": {},
   "outputs": [
    {
     "data": {
      "text/plain": [
       "0.49480791850904576"
      ]
     },
     "execution_count": 12,
     "metadata": {},
     "output_type": "execute_result"
    }
   ],
   "source": [
    "get_error(e_ith, U_circuit)"
   ]
  },
  {
   "cell_type": "markdown",
   "metadata": {},
   "source": [
    "10 qubits -> 2^10 states -> 2^20 entries ($\\approx$ 1,000,000, which is quite reasonable)"
   ]
  },
  {
   "cell_type": "code",
   "execution_count": null,
   "metadata": {},
   "outputs": [],
   "source": []
  }
 ],
 "metadata": {
  "interpreter": {
   "hash": "1afdd5487afa15bf0797b22f2c7929f0a6c7ad3aebeaee922bd5f75d64efa325"
  },
  "kernelspec": {
   "display_name": "Python 3 (ipykernel)",
   "language": "python",
   "name": "python3"
  },
  "language_info": {
   "codemirror_mode": {
    "name": "ipython",
    "version": 3
   },
   "file_extension": ".py",
   "mimetype": "text/x-python",
   "name": "python",
   "nbconvert_exporter": "python",
   "pygments_lexer": "ipython3",
   "version": "3.8.5"
  }
 },
 "nbformat": 4,
 "nbformat_minor": 2
}
