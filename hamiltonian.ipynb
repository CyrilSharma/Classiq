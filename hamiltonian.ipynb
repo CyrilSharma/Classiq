{
 "cells": [
  {
   "cell_type": "code",
   "execution_count": 208,
   "metadata": {},
   "outputs": [],
   "source": [
    "import numpy as np\n",
    "from qiskit import IBMQ, Aer, assemble, transpile, execute\n",
    "from qiskit import QuantumCircuit, ClassicalRegister, QuantumRegister\n",
    "from qiskit.providers.ibmq import least_busy\n",
    "from qiskit.quantum_info.operators import Operator, Pauli\n",
    "from qiskit.algorithms import NumPyEigensolver\n",
    "from numpy import linalg as LA\n",
    "from scipy.linalg import expm"
   ]
  },
  {
   "cell_type": "code",
   "execution_count": 209,
   "metadata": {},
   "outputs": [],
   "source": [
    "def is_unitary(m):\n",
    "    return np.allclose(np.eye(len(m)), m.dot(m.T.conj()))"
   ]
  },
  {
   "cell_type": "code",
   "execution_count": 318,
   "metadata": {},
   "outputs": [
    {
     "data": {
      "text/plain": [
       "([0.003034656830204855,\n",
       "  0.003034656830204855,\n",
       "  0.003034656830204855,\n",
       "  0.003034656830204855,\n",
       "  -0.008373361424264817,\n",
       "  -0.008373361424264817,\n",
       "  -0.008373361424264817,\n",
       "  -0.008373361424264817,\n",
       "  0.00211113766859809,\n",
       "  0.00211113766859809],\n",
       " ['IIIYYIIIYY',\n",
       "  'IIIXXIIIYY',\n",
       "  'IIIYYIIIXX',\n",
       "  'IIIXXIIIXX',\n",
       "  'YZZZYIIIYY',\n",
       "  'XZZZXIIIYY',\n",
       "  'YZZZYIIIXX',\n",
       "  'XZZZXIIIXX',\n",
       "  'YZZYIIIIYY',\n",
       "  'XZZXIIIIYY'])"
      ]
     },
     "execution_count": 318,
     "metadata": {},
     "output_type": "execute_result"
    }
   ],
   "source": [
    "coefficients = []\n",
    "bases = []\n",
    "with open('LiH-Hamiltonian.txt') as f:\n",
    "    for line in f:\n",
    "        x = line.strip().split(\" \")\n",
    "        if (len(line) > 1):\n",
    "            # print(x)\n",
    "            c = float(x[1])\n",
    "            c = (c if x[0] == '+' else -c)\n",
    "            coefficients.append(c)\n",
    "            bases.append(x[3])\n",
    "coefficients[:10], bases[:10]\n",
    "# print(list(zip(coefficients, bases)))"
   ]
  },
  {
   "cell_type": "code",
   "execution_count": 291,
   "metadata": {},
   "outputs": [
    {
     "name": "stdout",
     "output_type": "stream",
     "text": [
      "[[0.+0.j 0.+0.j 0.+0.j 1.+0.j]\n",
      " [0.+0.j 0.+0.j 1.+0.j 0.+0.j]\n",
      " [0.+0.j 1.+0.j 0.+0.j 0.+0.j]\n",
      " [1.+0.j 0.+0.j 0.+0.j 0.+0.j]]\n",
      "[[0.+0.j 0.+0.j 0.+0.j 1.+0.j]\n",
      " [0.+0.j 0.+0.j 1.+0.j 0.+0.j]\n",
      " [0.+0.j 1.+0.j 0.+0.j 0.+0.j]\n",
      " [1.+0.j 0.+0.j 0.+0.j 0.+0.j]]\n",
      "[[0.+0.j 0.+0.j 0.+0.j 1.+0.j]\n",
      " [0.+0.j 0.+0.j 1.+0.j 0.+0.j]\n",
      " [0.+0.j 1.+0.j 0.+0.j 0.+0.j]\n",
      " [1.+0.j 0.+0.j 0.+0.j 0.+0.j]]\n",
      "True\n",
      "(4+0j)\n",
      "4.0\n"
     ]
    }
   ],
   "source": [
    "# comment this out when stuff actually works\n",
    "coefficients = [0.5, 0.5]\n",
    "bases = ['XX', 'XX']\n",
    "numBits = len(bases[0])\n",
    "hamiltonian = np.zeros((2**numBits, 2**numBits), dtype=np.cdouble)\n",
    "numTerms = len(bases)\n",
    "for c, lbl in zip(coefficients[0:numTerms], bases[0:numTerms]):\n",
    "    op = Operator(Pauli(label=lbl))\n",
    "    print(op.data)\n",
    "    hamiltonian += c*op.data\n",
    "\n",
    "print(hamiltonian)\n",
    "print(is_unitary(hamiltonian))\n",
    "\n",
    "# should give you the identity matrix if the hamiltonian is unitary, whose sum is just the length\n",
    "print(np.sum(hamiltonian.dot(hamiltonian.T.conj()))) #  - np.eye(len(hamiltonian))))\n",
    "print(np.sum(np.eye(len(hamiltonian))))"
   ]
  },
  {
   "cell_type": "code",
   "execution_count": 316,
   "metadata": {},
   "outputs": [
    {
     "name": "stdout",
     "output_type": "stream",
     "text": [
      "\n",
      "gate name: h\n",
      "qubit(s) acted on: 0\n",
      "other paramters (such as angles): []\n",
      "\n",
      "gate name: h\n",
      "qubit(s) acted on: 0\n",
      "other paramters (such as angles): []\n",
      "\n",
      "gate name: h\n",
      "qubit(s) acted on: 1\n",
      "other paramters (such as angles): []\n",
      "\n",
      "gate name: cx\n",
      "qubit(s) acted on: 0\n",
      "other paramters (such as angles): []\n",
      "\n",
      "gate name: rz\n",
      "qubit(s) acted on: 1\n",
      "other paramters (such as angles): [1.0]\n",
      "\n",
      "gate name: cx\n",
      "qubit(s) acted on: 0\n",
      "other paramters (such as angles): []\n",
      "\n",
      "gate name: h\n",
      "qubit(s) acted on: 0\n",
      "other paramters (such as angles): []\n",
      "\n",
      "gate name: h\n",
      "qubit(s) acted on: 1\n",
      "other paramters (such as angles): []\n",
      "\n",
      "gate name: h\n",
      "qubit(s) acted on: 0\n",
      "other paramters (such as angles): []\n",
      "\n",
      "gate name: h\n",
      "qubit(s) acted on: 1\n",
      "other paramters (such as angles): []\n",
      "\n",
      "gate name: cx\n",
      "qubit(s) acted on: 0\n",
      "other paramters (such as angles): []\n",
      "\n",
      "gate name: rz\n",
      "qubit(s) acted on: 1\n",
      "other paramters (such as angles): [1.0]\n",
      "\n",
      "gate name: cx\n",
      "qubit(s) acted on: 0\n",
      "other paramters (such as angles): []\n",
      "\n",
      "gate name: h\n",
      "qubit(s) acted on: 0\n",
      "other paramters (such as angles): []\n",
      "\n",
      "gate name: h\n",
      "qubit(s) acted on: 1\n",
      "other paramters (such as angles): []\n",
      "\n",
      "gate name: h\n",
      "qubit(s) acted on: 0\n",
      "other paramters (such as angles): []\n"
     ]
    },
    {
     "name": "stderr",
     "output_type": "stream",
     "text": [
      "/var/folders/ym/0sh6mfr158x1222fb16kkc2w0000gn/T/ipykernel_1477/308418126.py:12: DeprecationWarning: Back-references to from Bit instances to their containing Registers have been deprecated. Instead, inspect Registers to find their contained Bits.\n",
      "  print('qubit(s) acted on:', gate[1][0].index)\n"
     ]
    }
   ],
   "source": [
    "t = 1\n",
    "qc = QuantumCircuit(10)\n",
    "numTerms = 10\n",
    "for c, b in zip(coefficients[0:numTerms], bases[0:numTerms]):\n",
    "    # implement e^{-i*c*b*t}\n",
    "    q = []\n",
    "    for i, op in enumerate(b):\n",
    "        if (op == 'X'):\n",
    "            # remove redunadant Hadamards\n",
    "            for gate in qc.data:\n",
    "                print('\\ngate name:', gate[0].name)\n",
    "                print('qubit(s) acted on:', gate[1][0].index)\n",
    "                print('other paramters (such as angles):', gate[0].params)\n",
    "\n",
    "            if (False and len(qc.data) > 0):\n",
    "                name = qc.data[-1][0].name\n",
    "                print(qc.data[-1][0].name)\n",
    "                if (qc.data[-1][0].name == 'h'):\n",
    "                    print(\"popped!\")\n",
    "                    qc.data.pop(-1)\n",
    "            else:\n",
    "                pass\n",
    "            \n",
    "            qc.h(i)\n",
    "            q.append(i)\n",
    "        elif (op == 'Z'):\n",
    "            q.append(i)\n",
    "        elif (op == 'Y'):\n",
    "            qc.h(i)\n",
    "            qc.s(i)\n",
    "            q.append(i)\n",
    "        elif (op == 'I'):\n",
    "            continue\n",
    "        else:\n",
    "            print(op, \"case not accounted for\")\n",
    "    if (len(q) > 0):\n",
    "        if (len(q) > 1):\n",
    "            for i in range(len(q)-1):\n",
    "                qc.cx(q[i], q[-1])\n",
    "        qc.rz(2*c*t, q[-1])\n",
    "        if (len(q) > 1):\n",
    "            for i in range(len(q)-1):\n",
    "                qc.cx(q[i], q[-1])\n",
    "        for i, op in enumerate(b):\n",
    "            if (op == 'X'):\n",
    "                qc.h(i)\n",
    "            elif (op == 'Z'):\n",
    "                continue\n",
    "            elif (op == 'Y'):\n",
    "                qc.sdg(i)\n",
    "                qc.h(i)\n",
    "            elif (op == 'I'):\n",
    "                continue\n",
    "            else:\n",
    "                print(\"case not accounted for\")"
   ]
  },
  {
   "cell_type": "code",
   "execution_count": 317,
   "metadata": {},
   "outputs": [
    {
     "data": {
      "text/html": [
       "<pre style=\"word-wrap: normal;white-space: pre;background: #fff0;line-height: 1.1;font-family: &quot;Courier New&quot;,Courier,monospace\">     ┌───┐                   ┌───┐┌───┐                   ┌───┐\n",
       "q_0: ┤ H ├──■─────────────■──┤ H ├┤ H ├──■─────────────■──┤ H ├\n",
       "     ├───┤┌─┴─┐┌───────┐┌─┴─┐├───┤├───┤┌─┴─┐┌───────┐┌─┴─┐├───┤\n",
       "q_1: ┤ H ├┤ X ├┤ Rz(1) ├┤ X ├┤ H ├┤ H ├┤ X ├┤ Rz(1) ├┤ X ├┤ H ├\n",
       "     └───┘└───┘└───────┘└───┘└───┘└───┘└───┘└───────┘└───┘└───┘\n",
       "q_2: ──────────────────────────────────────────────────────────\n",
       "                                                               \n",
       "q_3: ──────────────────────────────────────────────────────────\n",
       "                                                               \n",
       "q_4: ──────────────────────────────────────────────────────────\n",
       "                                                               \n",
       "q_5: ──────────────────────────────────────────────────────────\n",
       "                                                               \n",
       "q_6: ──────────────────────────────────────────────────────────\n",
       "                                                               \n",
       "q_7: ──────────────────────────────────────────────────────────\n",
       "                                                               \n",
       "q_8: ──────────────────────────────────────────────────────────\n",
       "                                                               \n",
       "q_9: ──────────────────────────────────────────────────────────\n",
       "                                                               </pre>"
      ],
      "text/plain": [
       "     ┌───┐                   ┌───┐┌───┐                   ┌───┐\n",
       "q_0: ┤ H ├──■─────────────■──┤ H ├┤ H ├──■─────────────■──┤ H ├\n",
       "     ├───┤┌─┴─┐┌───────┐┌─┴─┐├───┤├───┤┌─┴─┐┌───────┐┌─┴─┐├───┤\n",
       "q_1: ┤ H ├┤ X ├┤ Rz(1) ├┤ X ├┤ H ├┤ H ├┤ X ├┤ Rz(1) ├┤ X ├┤ H ├\n",
       "     └───┘└───┘└───────┘└───┘└───┘└───┘└───┘└───────┘└───┘└───┘\n",
       "q_2: ──────────────────────────────────────────────────────────\n",
       "                                                               \n",
       "q_3: ──────────────────────────────────────────────────────────\n",
       "                                                               \n",
       "q_4: ──────────────────────────────────────────────────────────\n",
       "                                                               \n",
       "q_5: ──────────────────────────────────────────────────────────\n",
       "                                                               \n",
       "q_6: ──────────────────────────────────────────────────────────\n",
       "                                                               \n",
       "q_7: ──────────────────────────────────────────────────────────\n",
       "                                                               \n",
       "q_8: ──────────────────────────────────────────────────────────\n",
       "                                                               \n",
       "q_9: ──────────────────────────────────────────────────────────\n",
       "                                                               "
      ]
     },
     "execution_count": 317,
     "metadata": {},
     "output_type": "execute_result"
    }
   ],
   "source": [
    "qc.draw()"
   ]
  },
  {
   "cell_type": "code",
   "execution_count": 203,
   "metadata": {},
   "outputs": [],
   "source": [
    "backend = Aer.get_backend('unitary_simulator')\n",
    "job = execute(qc, backend)\n",
    "result = job.result()\n",
    "U_circuit = result.get_unitary(qc, decimals=3) "
   ]
  },
  {
   "cell_type": "code",
   "execution_count": 204,
   "metadata": {},
   "outputs": [
    {
     "data": {
      "text/plain": [
       "Operator([[-1.00000000e-03-4.99600361e-16j,\n",
       "            0.00000000e+00+0.00000000e+00j,\n",
       "            0.00000000e+00+0.00000000e+00j, ...,\n",
       "            0.00000000e+00+0.00000000e+00j,\n",
       "            0.00000000e+00+0.00000000e+00j,\n",
       "            0.00000000e+00+0.00000000e+00j],\n",
       "          [-0.00000000e+00+0.00000000e+00j,\n",
       "            3.01572472e-01-7.03187341e-01j,\n",
       "           -2.92577561e-02+3.69567419e-02j, ...,\n",
       "            0.00000000e+00+0.00000000e+00j,\n",
       "            0.00000000e+00+0.00000000e+00j,\n",
       "            0.00000000e+00+0.00000000e+00j],\n",
       "          [ 0.00000000e+00+0.00000000e+00j,\n",
       "           -2.92577561e-02+3.69567419e-02j,\n",
       "            6.69678507e-02-3.52879708e-01j, ...,\n",
       "            0.00000000e+00+0.00000000e+00j,\n",
       "            0.00000000e+00+0.00000000e+00j,\n",
       "            0.00000000e+00+0.00000000e+00j],\n",
       "          ...,\n",
       "          [ 0.00000000e+00+0.00000000e+00j,\n",
       "            0.00000000e+00+0.00000000e+00j,\n",
       "            0.00000000e+00+0.00000000e+00j, ...,\n",
       "            3.60636661e-02+2.60122830e-01j,\n",
       "           -1.64613980e-02-6.46183872e-02j,\n",
       "            0.00000000e+00+0.00000000e+00j],\n",
       "          [ 0.00000000e+00+0.00000000e+00j,\n",
       "            0.00000000e+00+0.00000000e+00j,\n",
       "            0.00000000e+00+0.00000000e+00j, ...,\n",
       "           -1.64613980e-02-6.46183872e-02j,\n",
       "            2.56761483e-02+1.91825435e-01j,\n",
       "            0.00000000e+00+0.00000000e+00j],\n",
       "          [ 0.00000000e+00+0.00000000e+00j,\n",
       "            0.00000000e+00+0.00000000e+00j,\n",
       "            0.00000000e+00+0.00000000e+00j, ...,\n",
       "            0.00000000e+00+0.00000000e+00j,\n",
       "           -0.00000000e+00+0.00000000e+00j,\n",
       "            1.57577321e+00+8.16904319e-01j]],\n",
       "         input_dims=(2, 2, 2, 2, 2, 2, 2, 2, 2, 2), output_dims=(2, 2, 2, 2, 2, 2, 2, 2, 2, 2))"
      ]
     },
     "execution_count": 204,
     "metadata": {},
     "output_type": "execute_result"
    }
   ],
   "source": [
    "diff = U_circuit - expm(-1.j * hamiltonian)\n",
    "diff"
   ]
  },
  {
   "cell_type": "markdown",
   "metadata": {},
   "source": [
    "10 qubits -> 2^10 states -> 2^20 entries ($\\approx$ 1,000,000, which is quite reasonable)"
   ]
  },
  {
   "cell_type": "code",
   "execution_count": 205,
   "metadata": {},
   "outputs": [],
   "source": [
    "# measure the operator's accuracy\n",
    "data = diff.data\n",
    "w, v = LA.eig(data)\n",
    "\n",
    "# measure the error relative to a matrix of 1s for reference.\n",
    "ones = np.ones(data.shape)\n",
    "fakeDiff = U_circuit - ones\n",
    "w_fake, v_fake = LA.eig(fakeDiff.data)"
   ]
  },
  {
   "cell_type": "code",
   "execution_count": 206,
   "metadata": {},
   "outputs": [
    {
     "name": "stdout",
     "output_type": "stream",
     "text": [
      "(1.9983506688262593+0.0075052574679956964j)\n",
      "(0.9990000000000582-0.0339558536926999j)\n"
     ]
    }
   ],
   "source": [
    "print(max(w))\n",
    "print(max(w_fake))"
   ]
  },
  {
   "cell_type": "code",
   "execution_count": null,
   "metadata": {},
   "outputs": [],
   "source": []
  }
 ],
 "metadata": {
  "interpreter": {
   "hash": "1afdd5487afa15bf0797b22f2c7929f0a6c7ad3aebeaee922bd5f75d64efa325"
  },
  "kernelspec": {
   "display_name": "Python 3 (ipykernel)",
   "language": "python",
   "name": "python3"
  },
  "language_info": {
   "codemirror_mode": {
    "name": "ipython",
    "version": 3
   },
   "file_extension": ".py",
   "mimetype": "text/x-python",
   "name": "python",
   "nbconvert_exporter": "python",
   "pygments_lexer": "ipython3",
   "version": "3.9.12"
  }
 },
 "nbformat": 4,
 "nbformat_minor": 2
}
