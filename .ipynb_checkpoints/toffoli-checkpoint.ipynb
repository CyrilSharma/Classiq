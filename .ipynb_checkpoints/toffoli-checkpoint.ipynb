{
 "cells": [
  {
   "cell_type": "code",
   "execution_count": 1,
   "metadata": {},
   "outputs": [],
   "source": [
    "# Problem statement\n",
    "# 14 controls\n",
    "# 1 target\n",
    "# 5 auxilliary \n",
    "\n",
    "# b0-13, t, a0-4\n",
    "\n",
    "# Design 1: (3-4-3) \n",
    "# 4 3-bit in place control gates (b0-11)->(a0-3)\n",
    "# 1 4-bit in place control gate taking 2 remaining bits and 2 auxiliary bits (b12-13, a0-1) -> a4\n",
    "# 3 3-bit in place control gate that takes (a2-4) -> t\n"
   ]
  },
  {
   "cell_type": "code",
   "execution_count": 2,
   "metadata": {},
   "outputs": [],
   "source": [
    "#initialization\n",
    "import matplotlib.pyplot as plt\n",
    "import numpy as np\n",
    "\n",
    "# importing Qiskit\n",
    "from qiskit import IBMQ, Aer, assemble, transpile\n",
    "from qiskit import QuantumCircuit, ClassicalRegister, QuantumRegister\n",
    "from qiskit.providers.ibmq import least_busy\n",
    "\n",
    "# import basic plot tools\n",
    "from qiskit.visualization import plot_histogram "
   ]
  },
  {
   "cell_type": "code",
   "execution_count": 3,
   "metadata": {},
   "outputs": [],
   "source": [
    "control_qubits = QuantumRegister(14, name=\"c\")\n",
    "target_qubit = QuantumRegister(1, name='t')\n",
    "ancilla_qubits = QuantumRegister(5, name='a')\n",
    "classical_bits = ClassicalRegister(1, name='out')\n",
    "\n",
    "#qc.mcx()"
   ]
  },
  {
   "cell_type": "code",
   "execution_count": 4,
   "metadata": {},
   "outputs": [
    {
     "data": {
      "text/plain": [
       "<qiskit.circuit.instructionset.InstructionSet at 0x11727ad00>"
      ]
     },
     "execution_count": 4,
     "metadata": {},
     "output_type": "execute_result"
    }
   ],
   "source": [
    "# no optimization - design 0\n",
    "qc = QuantumCircuit(control_qubits, target_qubit, ancilla_qubits, classical_bits)\n",
    "qc.mcx(control_qubits, target_qubit[0], ancilla_qubits=ancilla_qubits, mode='recursion')\n",
    "qc.measure(target_qubit[0], classical_bits[0])"
   ]
  },
  {
   "cell_type": "code",
   "execution_count": 5,
   "metadata": {},
   "outputs": [
    {
     "data": {
      "text/html": [
       "<pre style=\"word-wrap: normal;white-space: pre;background: #fff0;line-height: 1.1;font-family: &quot;Courier New&quot;,Courier,monospace\">                \n",
       "  c_0: ──■──────\n",
       "         │      \n",
       "  c_1: ──■──────\n",
       "         │      \n",
       "  c_2: ──■──────\n",
       "         │      \n",
       "  c_3: ──■──────\n",
       "         │      \n",
       "  c_4: ──■──────\n",
       "         │      \n",
       "  c_5: ──■──────\n",
       "         │      \n",
       "  c_6: ──■──────\n",
       "         │      \n",
       "  c_7: ──■──────\n",
       "         │      \n",
       "  c_8: ──■──────\n",
       "         │      \n",
       "  c_9: ──■──────\n",
       "         │      \n",
       " c_10: ──■──────\n",
       "         │      \n",
       " c_11: ──■──────\n",
       "         │      \n",
       " c_12: ──■──────\n",
       "         │      \n",
       " c_13: ──■──────\n",
       "       ┌─┴──┐┌─┐\n",
       "    t: ┤0   ├┤M├\n",
       "       │  X │└╥┘\n",
       "  a_0: ┤1   ├─╫─\n",
       "       └────┘ ║ \n",
       "  a_1: ───────╫─\n",
       "              ║ \n",
       "  a_2: ───────╫─\n",
       "              ║ \n",
       "  a_3: ───────╫─\n",
       "              ║ \n",
       "  a_4: ───────╫─\n",
       "              ║ \n",
       "out: 1/═══════╩═\n",
       "              0 </pre>"
      ],
      "text/plain": [
       "                \n",
       "  c_0: ──■──────\n",
       "         │      \n",
       "  c_1: ──■──────\n",
       "         │      \n",
       "  c_2: ──■──────\n",
       "         │      \n",
       "  c_3: ──■──────\n",
       "         │      \n",
       "  c_4: ──■──────\n",
       "         │      \n",
       "  c_5: ──■──────\n",
       "         │      \n",
       "  c_6: ──■──────\n",
       "         │      \n",
       "  c_7: ──■──────\n",
       "         │      \n",
       "  c_8: ──■──────\n",
       "         │      \n",
       "  c_9: ──■──────\n",
       "         │      \n",
       " c_10: ──■──────\n",
       "         │      \n",
       " c_11: ──■──────\n",
       "         │      \n",
       " c_12: ──■──────\n",
       "         │      \n",
       " c_13: ──■──────\n",
       "       ┌─┴──┐┌─┐\n",
       "    t: ┤0   ├┤M├\n",
       "       │  X │└╥┘\n",
       "  a_0: ┤1   ├─╫─\n",
       "       └────┘ ║ \n",
       "  a_1: ───────╫─\n",
       "              ║ \n",
       "  a_2: ───────╫─\n",
       "              ║ \n",
       "  a_3: ───────╫─\n",
       "              ║ \n",
       "  a_4: ───────╫─\n",
       "              ║ \n",
       "out: 1/═══════╩═\n",
       "              0 "
      ]
     },
     "execution_count": 5,
     "metadata": {},
     "output_type": "execute_result"
    }
   ],
   "source": [
    "qc.draw()"
   ]
  },
  {
   "cell_type": "code",
   "execution_count": 6,
   "metadata": {},
   "outputs": [
    {
     "name": "stdout",
     "output_type": "stream",
     "text": [
      "890\n",
      "OrderedDict([('u', 712), ('cx', 656), ('measure', 1)])\n"
     ]
    }
   ],
   "source": [
    "aer_simulator = Aer.get_backend('aer_simulator')\n",
    "qc_transpiled = transpile(qc, aer_simulator, basis_gates=['u', 'cx'])\n",
    "print(qc_transpiled.depth())\n",
    "print(qc_transpiled.count_ops())"
   ]
  },
  {
   "cell_type": "code",
   "execution_count": 7,
   "metadata": {},
   "outputs": [
    {
     "data": {
      "text/plain": [
       "<qiskit.circuit.instructionset.InstructionSet at 0x1370104c0>"
      ]
     },
     "execution_count": 7,
     "metadata": {},
     "output_type": "execute_result"
    }
   ],
   "source": [
    "# design 1 \n",
    "qc = QuantumCircuit(control_qubits, target_qubit, ancilla_qubits, classical_bits)\n",
    "for i in range(14):\n",
    "    qc.x(control_qubits[i])\n",
    "\n",
    "for i in range(4):\n",
    "    qc.mcx(control_qubits[3*i:3*(i+1)], ancilla_qubits[i])\n",
    "\n",
    "qc.mcx(control_qubits[12:14] + ancilla_qubits[0:2], ancilla_qubits[4], mode='recursion')\n",
    "qc.mcx(ancilla_qubits[2:5], target_qubit[0], mode='recursion')\n",
    "qc.measure(target_qubit[0], classical_bits[0])"
   ]
  },
  {
   "cell_type": "code",
   "execution_count": 8,
   "metadata": {},
   "outputs": [
    {
     "name": "stdout",
     "output_type": "stream",
     "text": [
      "115\n",
      "OrderedDict([('u', 119), ('cx', 106), ('measure', 1)])\n"
     ]
    }
   ],
   "source": [
    "qc_transpiled = transpile(qc, aer_simulator, basis_gates=['u', 'cx'], optimization_level=3)\n",
    "print(qc_transpiled.depth())\n",
    "print(qc_transpiled.count_ops())"
   ]
  },
  {
   "cell_type": "code",
   "execution_count": 9,
   "metadata": {},
   "outputs": [
    {
     "data": {
      "text/plain": [
       "<qiskit.circuit.instructionset.InstructionSet at 0x136ea5400>"
      ]
     },
     "execution_count": 9,
     "metadata": {},
     "output_type": "execute_result"
    }
   ],
   "source": [
    "# design 2 \n",
    "qc = QuantumCircuit(control_qubits, target_qubit, ancilla_qubits, classical_bits)\n",
    "for i in range(14):\n",
    "    qc.x(control_qubits[i])\n",
    "\n",
    "for i in range(3):\n",
    "    qc.mcx(control_qubits[3*i:3*(i+1)], ancilla_qubits[i])\n",
    "# 0 - 8\n",
    "qc.mcx(control_qubits[9:13], ancilla_qubits[3])\n",
    "\n",
    "qc.mcx(ancilla_qubits[0:2] + control_qubits[13:14], ancilla_qubits[4], mode='recursion')\n",
    "\n",
    "qc.mcx(ancilla_qubits[2:5], target_qubit[0])\n",
    "qc.measure(target_qubit[0], classical_bits[0])"
   ]
  },
  {
   "cell_type": "code",
   "execution_count": 10,
   "metadata": {},
   "outputs": [
    {
     "data": {
      "text/html": [
       "<pre style=\"word-wrap: normal;white-space: pre;background: #fff0;line-height: 1.1;font-family: &quot;Courier New&quot;,Courier,monospace\">       ┌───┐                                 \n",
       "  c_0: ┤ X ├──■──────────────────────────────\n",
       "       ├───┤  │                              \n",
       "  c_1: ┤ X ├──■──────────────────────────────\n",
       "       ├───┤  │                              \n",
       "  c_2: ┤ X ├──■──────────────────────────────\n",
       "       ├───┤  │                              \n",
       "  c_3: ┤ X ├──┼────■─────────────────────────\n",
       "       ├───┤  │    │                         \n",
       "  c_4: ┤ X ├──┼────■─────────────────────────\n",
       "       ├───┤  │    │                         \n",
       "  c_5: ┤ X ├──┼────■─────────────────────────\n",
       "       ├───┤  │    │                         \n",
       "  c_6: ┤ X ├──┼────┼────■────────────────────\n",
       "       ├───┤  │    │    │                    \n",
       "  c_7: ┤ X ├──┼────┼────■────────────────────\n",
       "       ├───┤  │    │    │                    \n",
       "  c_8: ┤ X ├──┼────┼────■────────────────────\n",
       "       ├───┤  │    │    │                    \n",
       "  c_9: ┤ X ├──┼────┼────┼────■───────────────\n",
       "       ├───┤  │    │    │    │               \n",
       " c_10: ┤ X ├──┼────┼────┼────■───────────────\n",
       "       ├───┤  │    │    │    │               \n",
       " c_11: ┤ X ├──┼────┼────┼────■───────────────\n",
       "       ├───┤  │    │    │    │               \n",
       " c_12: ┤ X ├──┼────┼────┼────■───────────────\n",
       "       ├───┤  │    │    │    │               \n",
       " c_13: ┤ X ├──┼────┼────┼────┼────■──────────\n",
       "       └───┘  │    │    │    │    │  ┌───┐┌─┐\n",
       "    t: ───────┼────┼────┼────┼────┼──┤ X ├┤M├\n",
       "            ┌─┴─┐  │    │    │    │  └─┬─┘└╥┘\n",
       "  a_0: ─────┤ X ├──┼────┼────┼────■────┼───╫─\n",
       "            └───┘┌─┴─┐  │    │    │    │   ║ \n",
       "  a_1: ──────────┤ X ├──┼────┼────■────┼───╫─\n",
       "                 └───┘┌─┴─┐  │    │    │   ║ \n",
       "  a_2: ───────────────┤ X ├──┼────┼────■───╫─\n",
       "                      └───┘┌─┴─┐  │    │   ║ \n",
       "  a_3: ────────────────────┤ X ├──┼────■───╫─\n",
       "                           └───┘┌─┴─┐  │   ║ \n",
       "  a_4: ─────────────────────────┤ X ├──■───╫─\n",
       "                                └───┘      ║ \n",
       "out: 1/════════════════════════════════════╩═\n",
       "                                           0 </pre>"
      ],
      "text/plain": [
       "       ┌───┐                                 \n",
       "  c_0: ┤ X ├──■──────────────────────────────\n",
       "       ├───┤  │                              \n",
       "  c_1: ┤ X ├──■──────────────────────────────\n",
       "       ├───┤  │                              \n",
       "  c_2: ┤ X ├──■──────────────────────────────\n",
       "       ├───┤  │                              \n",
       "  c_3: ┤ X ├──┼────■─────────────────────────\n",
       "       ├───┤  │    │                         \n",
       "  c_4: ┤ X ├──┼────■─────────────────────────\n",
       "       ├───┤  │    │                         \n",
       "  c_5: ┤ X ├──┼────■─────────────────────────\n",
       "       ├───┤  │    │                         \n",
       "  c_6: ┤ X ├──┼────┼────■────────────────────\n",
       "       ├───┤  │    │    │                    \n",
       "  c_7: ┤ X ├──┼────┼────■────────────────────\n",
       "       ├───┤  │    │    │                    \n",
       "  c_8: ┤ X ├──┼────┼────■────────────────────\n",
       "       ├───┤  │    │    │                    \n",
       "  c_9: ┤ X ├──┼────┼────┼────■───────────────\n",
       "       ├───┤  │    │    │    │               \n",
       " c_10: ┤ X ├──┼────┼────┼────■───────────────\n",
       "       ├───┤  │    │    │    │               \n",
       " c_11: ┤ X ├──┼────┼────┼────■───────────────\n",
       "       ├───┤  │    │    │    │               \n",
       " c_12: ┤ X ├──┼────┼────┼────■───────────────\n",
       "       ├───┤  │    │    │    │               \n",
       " c_13: ┤ X ├──┼────┼────┼────┼────■──────────\n",
       "       └───┘  │    │    │    │    │  ┌───┐┌─┐\n",
       "    t: ───────┼────┼────┼────┼────┼──┤ X ├┤M├\n",
       "            ┌─┴─┐  │    │    │    │  └─┬─┘└╥┘\n",
       "  a_0: ─────┤ X ├──┼────┼────┼────■────┼───╫─\n",
       "            └───┘┌─┴─┐  │    │    │    │   ║ \n",
       "  a_1: ──────────┤ X ├──┼────┼────■────┼───╫─\n",
       "                 └───┘┌─┴─┐  │    │    │   ║ \n",
       "  a_2: ───────────────┤ X ├──┼────┼────■───╫─\n",
       "                      └───┘┌─┴─┐  │    │   ║ \n",
       "  a_3: ────────────────────┤ X ├──┼────■───╫─\n",
       "                           └───┘┌─┴─┐  │   ║ \n",
       "  a_4: ─────────────────────────┤ X ├──■───╫─\n",
       "                                └───┘      ║ \n",
       "out: 1/════════════════════════════════════╩═\n",
       "                                           0 "
      ]
     },
     "execution_count": 10,
     "metadata": {},
     "output_type": "execute_result"
    }
   ],
   "source": [
    "qc.draw()"
   ]
  },
  {
   "cell_type": "code",
   "execution_count": 11,
   "metadata": {},
   "outputs": [
    {
     "name": "stdout",
     "output_type": "stream",
     "text": [
      "92\n",
      "OrderedDict([('u', 119), ('cx', 106), ('measure', 1)])\n"
     ]
    }
   ],
   "source": [
    "qc_transpiled = transpile(qc, aer_simulator, basis_gates=['u', 'cx'], optimization_level=3)\n",
    "print(qc_transpiled.depth())\n",
    "print(qc_transpiled.count_ops())"
   ]
  },
  {
   "cell_type": "code",
   "execution_count": 12,
   "metadata": {},
   "outputs": [
    {
     "data": {
      "text/plain": [
       "<qiskit.circuit.instructionset.InstructionSet at 0x1472e79c0>"
      ]
     },
     "execution_count": 12,
     "metadata": {},
     "output_type": "execute_result"
    }
   ],
   "source": [
    "# design 3\n",
    "qc = QuantumCircuit(control_qubits, target_qubit, ancilla_qubits, classical_bits)\n",
    "for i in range(14):\n",
    "    qc.x(control_qubits[i])\n",
    "\n",
    "for i in range(3):\n",
    "    qc.mcx(control_qubits[3*i:3*(i+1)], ancilla_qubits[i], mode='recursion')\n",
    "# 0 - 8\n",
    "qc.mcx(control_qubits[9:13], ancilla_qubits[3])\n",
    "\n",
    "qc.mcx(ancilla_qubits[0:2] + control_qubits[13:14], ancilla_qubits[4], mode='noancilla')\n",
    "\n",
    "qc.mcx(ancilla_qubits[2:5], target_qubit[0])\n",
    "qc.measure(target_qubit[0], classical_bits[0])"
   ]
  },
  {
   "cell_type": "code",
   "execution_count": 13,
   "metadata": {
    "scrolled": true
   },
   "outputs": [
    {
     "name": "stdout",
     "output_type": "stream",
     "text": [
      "92\n",
      "OrderedDict([('u', 119), ('cx', 106), ('measure', 1)])\n"
     ]
    }
   ],
   "source": [
    "qc_transpiled = transpile(qc, aer_simulator, basis_gates=['u', 'cx'], optimization_level=3)\n",
    "print(qc_transpiled.depth())\n",
    "print(qc_transpiled.count_ops())"
   ]
  },
  {
   "cell_type": "code",
   "execution_count": 21,
   "metadata": {},
   "outputs": [
    {
     "name": "stdout",
     "output_type": "stream",
     "text": [
      "Mode: noancilla\n",
      "Controls: 1, Depth: 11, Ops: OrderedDict([('u', 9), ('cx', 6)]), Ancilla: 0\n",
      "Controls: 2, Depth: 27, Ops: OrderedDict([('u', 16), ('cx', 14)]), Ancilla: 0\n",
      "Controls: 3, Depth: 65, Ops: OrderedDict([('u', 42), ('cx', 36)]), Ancilla: 0\n",
      "Controls: 4, Depth: 155, Ops: OrderedDict([('u', 94), ('cx', 92)]), Ancilla: 0\n",
      "Controls: 5, Depth: 315, Ops: OrderedDict([('u', 190), ('cx', 188)]), Ancilla: 0\n",
      "Controls: 6, Depth: 635, Ops: OrderedDict([('u', 382), ('cx', 380)]), Ancilla: 0\n",
      "Controls: 7, Depth: 1275, Ops: OrderedDict([('u', 766), ('cx', 764)]), Ancilla: 0\n",
      "Controls: 8, Depth: 2555, Ops: OrderedDict([('u', 1534), ('cx', 1532)]), Ancilla: 0\n",
      "Controls: 9, Depth: 5115, Ops: OrderedDict([('u', 3070), ('cx', 3068)]), Ancilla: 0\n",
      "\n",
      "Mode: recursion\n",
      "Controls: 1, Depth: 11, Ops: OrderedDict([('u', 9), ('cx', 6)]), Ancilla: 0\n",
      "Controls: 2, Depth: 27, Ops: OrderedDict([('u', 16), ('cx', 14)]), Ancilla: 0\n",
      "Controls: 3, Depth: 65, Ops: OrderedDict([('u', 42), ('cx', 36)]), Ancilla: 0\n",
      "Controls: 4, Depth: 87, Ops: OrderedDict([('u', 61), ('cx', 56)]), Ancilla: 0\n",
      "Controls: 5, Depth: 155, Ops: OrderedDict([('u', 111), ('cx', 100)]), Ancilla: 1\n",
      "Controls: 6, Depth: 225, Ops: OrderedDict([('u', 160), ('cx', 144)]), Ancilla: 1\n",
      "Controls: 7, Depth: 253, Ops: OrderedDict([('u', 199), ('cx', 184)]), Ancilla: 1\n",
      "Controls: 8, Depth: 316, Ops: OrderedDict([('u', 241), ('cx', 224)]), Ancilla: 1\n",
      "Controls: 9, Depth: 444, Ops: OrderedDict([('u', 341), ('cx', 312)]), Ancilla: 1\n",
      "\n",
      "Mode: v-chain\n",
      "Controls: 1, Depth: 11, Ops: OrderedDict([('u', 9), ('cx', 6)]), Ancilla: NA\n",
      "Controls: 2, Depth: 24, Ops: OrderedDict([('u', 17), ('cx', 12)]), Ancilla: NA\n",
      "Controls: 3, Depth: 36, Ops: OrderedDict([('u', 25), ('cx', 18)]), Ancilla: 1\n",
      "Controls: 4, Depth: 48, Ops: OrderedDict([('u', 33), ('cx', 24)]), Ancilla: 2\n",
      "Controls: 5, Depth: 60, Ops: OrderedDict([('u', 41), ('cx', 30)]), Ancilla: 3\n",
      "Controls: 6, Depth: 72, Ops: OrderedDict([('u', 49), ('cx', 36)]), Ancilla: 4\n",
      "Controls: 7, Depth: 84, Ops: OrderedDict([('u', 57), ('cx', 42)]), Ancilla: 5\n",
      "Controls: 8, Depth: 96, Ops: OrderedDict([('u', 65), ('cx', 48)]), Ancilla: 6\n",
      "Controls: 9, Depth: 108, Ops: OrderedDict([('u', 73), ('cx', 54)]), Ancilla: 7\n",
      "\n",
      "Mode: v-chain-dirty\n",
      "Controls: 1, Depth: 11, Ops: OrderedDict([('u', 9), ('cx', 6)]), Ancilla: NA\n",
      "Controls: 2, Depth: 29, Ops: OrderedDict([('u', 17), ('cx', 14)]), Ancilla: NA\n",
      "Controls: 3, Depth: 53, Ops: OrderedDict([('u', 31), ('cx', 26)]), Ancilla: 1\n",
      "Controls: 4, Depth: 77, Ops: OrderedDict([('u', 45), ('cx', 38)]), Ancilla: 2\n",
      "Controls: 5, Depth: 101, Ops: OrderedDict([('u', 59), ('cx', 50)]), Ancilla: 3\n",
      "Controls: 6, Depth: 125, Ops: OrderedDict([('u', 73), ('cx', 62)]), Ancilla: 4\n",
      "Controls: 7, Depth: 149, Ops: OrderedDict([('u', 87), ('cx', 74)]), Ancilla: 5\n",
      "Controls: 8, Depth: 173, Ops: OrderedDict([('u', 101), ('cx', 86)]), Ancilla: 6\n",
      "Controls: 9, Depth: 197, Ops: OrderedDict([('u', 115), ('cx', 98)]), Ancilla: 7\n",
      "\n"
     ]
    }
   ],
   "source": [
    "# test efficiency of various sizes with no-ancilla\n",
    "numControls = 10\n",
    "modes = ['noancilla', 'recursion', 'v-chain', 'v-chain-dirty']\n",
    "for m in modes:\n",
    "    print(f\"Mode: {m}\")\n",
    "    for i in range(1, numControls):\n",
    "        ancilla_qubits = QuantumRegister(15, name='a')\n",
    "        control_qubits = QuantumRegister(i+1, name=\"c\")\n",
    "        qc = QuantumCircuit(control_qubits, target_qubit, ancilla_qubits, classical_bits)\n",
    "        for j in range(14):\n",
    "            qc.x(control_qubits[i])\n",
    "        qc.mcx(control_qubits, ancilla_qubits[0], ancilla_qubits=ancilla_qubits[1:], mode=m)\n",
    "        qc_transpiled = transpile(qc, aer_simulator, basis_gates=['u', 'cx'], optimization_level=3)\n",
    "        if (m == 'noancilla'):\n",
    "            num_ancilla = 0\n",
    "        elif (m == 'recursion'):\n",
    "            num_ancilla = 0 if i < 5 else 1\n",
    "        elif (m == 'v-chain' or m =='v-chain-dirty'):\n",
    "            num_ancilla = i - 2 if i > 2 else \"NA\"\n",
    "        print(f\"Controls: {i}, Depth: {qc_transpiled.depth()}, Ancilla: {num_ancilla}, Ops: {qc_transpiled.count_ops()}\")\n",
    "    print()"
   ]
  },
  {
   "cell_type": "code",
   "execution_count": null,
   "metadata": {},
   "outputs": [],
   "source": []
  }
 ],
 "metadata": {
  "interpreter": {
   "hash": "1afdd5487afa15bf0797b22f2c7929f0a6c7ad3aebeaee922bd5f75d64efa325"
  },
  "kernelspec": {
   "display_name": "Python 3 (ipykernel)",
   "language": "python",
   "name": "python3"
  },
  "language_info": {
   "codemirror_mode": {
    "name": "ipython",
    "version": 3
   },
   "file_extension": ".py",
   "mimetype": "text/x-python",
   "name": "python",
   "nbconvert_exporter": "python",
   "pygments_lexer": "ipython3",
   "version": "3.9.12"
  }
 },
 "nbformat": 4,
 "nbformat_minor": 2
}
