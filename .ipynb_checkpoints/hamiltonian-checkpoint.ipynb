{
 "cells": [
  {
   "cell_type": "code",
   "execution_count": 139,
   "metadata": {},
   "outputs": [],
   "source": [
    "import numpy as np\n",
    "from qiskit import IBMQ, Aer, assemble, transpile, execute\n",
    "from qiskit import QuantumCircuit, ClassicalRegister, QuantumRegister\n",
    "from qiskit.providers.ibmq import least_busy\n",
    "from qiskit.quantum_info.operators import Operator, Pauli\n",
    "from qiskit.algorithms import NumPyEigensolver\n",
    "from numpy import linalg as LA\n",
    "from scipy.linalg import expm"
   ]
  },
  {
   "cell_type": "code",
   "execution_count": 142,
   "metadata": {},
   "outputs": [],
   "source": [
    "def is_unitary(m):\n",
    "    return np.allclose(np.eye(len(m)), m.dot(m.T.conj()))"
   ]
  },
  {
   "cell_type": "code",
   "execution_count": 147,
   "metadata": {},
   "outputs": [
    {
     "data": {
      "text/plain": [
       "([0.003034656830204855,\n",
       "  0.003034656830204855,\n",
       "  0.003034656830204855,\n",
       "  0.003034656830204855,\n",
       "  -0.008373361424264817,\n",
       "  -0.008373361424264817,\n",
       "  -0.008373361424264817,\n",
       "  -0.008373361424264817,\n",
       "  0.00211113766859809,\n",
       "  0.00211113766859809],\n",
       " ['IIIYYIIIYY',\n",
       "  'IIIXXIIIYY',\n",
       "  'IIIYYIIIXX',\n",
       "  'IIIXXIIIXX',\n",
       "  'YZZZYIIIYY',\n",
       "  'XZZZXIIIYY',\n",
       "  'YZZZYIIIXX',\n",
       "  'XZZZXIIIXX',\n",
       "  'YZZYIIIIYY',\n",
       "  'XZZXIIIIYY'])"
      ]
     },
     "execution_count": 147,
     "metadata": {},
     "output_type": "execute_result"
    }
   ],
   "source": [
    "coefficients = []\n",
    "bases = []\n",
    "with open('LiH-Hamiltonian.txt') as f:\n",
    "    for line in f:\n",
    "        x = line.strip().split(\" \")\n",
    "        if (len(line) > 1):\n",
    "            c = float(x[1])\n",
    "            c = (c if x[0] == '+' else -c)\n",
    "            coefficients.append(c)\n",
    "            bases.append(x[3])\n",
    "coefficients[:10], bases[:10]\n"
   ]
  },
  {
   "cell_type": "code",
   "execution_count": 155,
   "metadata": {},
   "outputs": [
    {
     "data": {
      "text/plain": [
       "True"
      ]
     },
     "execution_count": 155,
     "metadata": {},
     "output_type": "execute_result"
    }
   ],
   "source": [
    "hamiltonian = np.zeros((2**10, 2**10), dtype=np.cdouble)\n",
    "# comment this out when stuff actually works\n",
    "coefficients = [0.5, 0.5]\n",
    "bases = ['XIIIIIIIII', 'XIIIIIIIII']\n",
    "numTerms = 2\n",
    "for c, lbl in zip(coefficients[0:numTerms], bases[0:numTerms]):\n",
    "    op = Operator(Pauli(label=lbl))\n",
    "    hamiltonian+=c*op.data\n",
    "\n",
    "is_unitary(hamiltonian)"
   ]
  },
  {
   "cell_type": "code",
   "execution_count": 156,
   "metadata": {},
   "outputs": [
    {
     "name": "stdout",
     "output_type": "stream",
     "text": [
      "Coefficient, 0.5\n",
      "Bases, XIIIIIIIII\n",
      "Coefficient, 0.5\n",
      "Bases, XIIIIIIIII\n"
     ]
    }
   ],
   "source": [
    "t = 0.1\n",
    "qc = QuantumCircuit(10)\n",
    "numTerms = 2\n",
    "for c, b in zip(coefficients[0:numTerms], bases[0:numTerms]):\n",
    "    # implement e^{-i*c*b*t}\n",
    "    print(f\"Coefficient, {c}\")\n",
    "    print(f\"Bases, {b}\")\n",
    "    q = []\n",
    "    for i, op in enumerate(b):\n",
    "        if (op == 'X'):\n",
    "            qc.h(i)\n",
    "            q.append(i)\n",
    "        elif (op == 'Z'):\n",
    "            q.append(i)\n",
    "        elif (op == 'Y'):\n",
    "            qc.h(i)\n",
    "            qc.s(i)\n",
    "            q.append(i)\n",
    "        elif (op == 'I'):\n",
    "            continue\n",
    "        else:\n",
    "            print(op, \"case not accounted for\")\n",
    "    if (len(q) > 0):\n",
    "        if (len(q) > 1):\n",
    "            for i in range(len(q)-1):\n",
    "                qc.cx(q[i], q[-1])\n",
    "        qc.rz(2*c*t, q[-1])\n",
    "        if (len(q) > 1):\n",
    "            for i in range(len(q)-1):\n",
    "                qc.cx(q[i], q[-1])\n",
    "        for i, op in enumerate(b):\n",
    "            if (op == 'X'):\n",
    "                qc.h(i)\n",
    "            elif (op == 'Z'):\n",
    "                continue\n",
    "            elif (op == 'Y'):\n",
    "                qc.sdg(i)\n",
    "                qc.h(i)\n",
    "            elif (op == 'I'):\n",
    "                continue\n",
    "            else:\n",
    "                print(\"case not accounted for\")"
   ]
  },
  {
   "cell_type": "code",
   "execution_count": 157,
   "metadata": {},
   "outputs": [
    {
     "data": {
      "text/html": [
       "<pre style=\"word-wrap: normal;white-space: pre;background: #fff0;line-height: 1.1;font-family: &quot;Courier New&quot;,Courier,monospace\">     ┌───┐┌─────────┐┌───┐┌───┐┌─────────┐┌───┐\n",
       "q_0: ┤ H ├┤ Rz(0.1) ├┤ H ├┤ H ├┤ Rz(0.1) ├┤ H ├\n",
       "     └───┘└─────────┘└───┘└───┘└─────────┘└───┘\n",
       "q_1: ──────────────────────────────────────────\n",
       "                                               \n",
       "q_2: ──────────────────────────────────────────\n",
       "                                               \n",
       "q_3: ──────────────────────────────────────────\n",
       "                                               \n",
       "q_4: ──────────────────────────────────────────\n",
       "                                               \n",
       "q_5: ──────────────────────────────────────────\n",
       "                                               \n",
       "q_6: ──────────────────────────────────────────\n",
       "                                               \n",
       "q_7: ──────────────────────────────────────────\n",
       "                                               \n",
       "q_8: ──────────────────────────────────────────\n",
       "                                               \n",
       "q_9: ──────────────────────────────────────────\n",
       "                                               </pre>"
      ],
      "text/plain": [
       "     ┌───┐┌─────────┐┌───┐┌───┐┌─────────┐┌───┐\n",
       "q_0: ┤ H ├┤ Rz(0.1) ├┤ H ├┤ H ├┤ Rz(0.1) ├┤ H ├\n",
       "     └───┘└─────────┘└───┘└───┘└─────────┘└───┘\n",
       "q_1: ──────────────────────────────────────────\n",
       "                                               \n",
       "q_2: ──────────────────────────────────────────\n",
       "                                               \n",
       "q_3: ──────────────────────────────────────────\n",
       "                                               \n",
       "q_4: ──────────────────────────────────────────\n",
       "                                               \n",
       "q_5: ──────────────────────────────────────────\n",
       "                                               \n",
       "q_6: ──────────────────────────────────────────\n",
       "                                               \n",
       "q_7: ──────────────────────────────────────────\n",
       "                                               \n",
       "q_8: ──────────────────────────────────────────\n",
       "                                               \n",
       "q_9: ──────────────────────────────────────────\n",
       "                                               "
      ]
     },
     "execution_count": 157,
     "metadata": {},
     "output_type": "execute_result"
    }
   ],
   "source": [
    "qc.draw()"
   ]
  },
  {
   "cell_type": "code",
   "execution_count": 158,
   "metadata": {},
   "outputs": [],
   "source": [
    "backend = Aer.get_backend('unitary_simulator')\n",
    "job = execute(qc, backend)\n",
    "result = job.result()\n",
    "U_circuit = result.get_unitary(qc, decimals=3) "
   ]
  },
  {
   "cell_type": "code",
   "execution_count": 159,
   "metadata": {},
   "outputs": [
    {
     "data": {
      "text/plain": [
       "Operator([[ 0.995+0.j , -0.   -0.1j,  0.   +0.j , ...,  0.   +0.j ,\n",
       "            0.   +0.j ,  0.   +0.j ],\n",
       "          [ 0.   -0.1j,  0.995+0.j ,  0.   +0.j , ...,  0.   +0.j ,\n",
       "            0.   +0.j ,  0.   +0.j ],\n",
       "          [ 0.   +0.j ,  0.   +0.j ,  0.995+0.j , ...,  0.   +0.j ,\n",
       "            0.   +0.j ,  0.   +0.j ],\n",
       "          ...,\n",
       "          [ 0.   +0.j ,  0.   +0.j ,  0.   +0.j , ...,  0.995+0.j ,\n",
       "            0.   +0.j ,  0.   +0.j ],\n",
       "          [ 0.   +0.j ,  0.   +0.j ,  0.   +0.j , ...,  0.   +0.j ,\n",
       "            0.995+0.j , -0.   -0.1j],\n",
       "          [ 0.   +0.j ,  0.   +0.j ,  0.   +0.j , ...,  0.   +0.j ,\n",
       "            0.   -0.1j,  0.995+0.j ]],\n",
       "         input_dims=(2, 2, 2, 2, 2, 2, 2, 2, 2, 2), output_dims=(2, 2, 2, 2, 2, 2, 2, 2, 2, 2))"
      ]
     },
     "execution_count": 159,
     "metadata": {},
     "output_type": "execute_result"
    }
   ],
   "source": [
    "diff = U_circuit - hamiltonian\n",
    "diff"
   ]
  },
  {
   "cell_type": "markdown",
   "metadata": {},
   "source": [
    "10 qubits -> 2^10 states -> 2^20 entries ($\\approx$ 1,000,000, which is quite reasonable)"
   ]
  },
  {
   "cell_type": "code",
   "execution_count": 160,
   "metadata": {},
   "outputs": [],
   "source": [
    "# measure the operator's accuracy\n",
    "data = diff.data\n",
    "w, v = LA.eig(data)\n",
    "\n",
    "# test if sending it to the backend is the issue.\n",
    "new_operator = Operator(qc)\n",
    "new_diff = new_operator - hamiltonian\n",
    "new_data = new_diff.data\n",
    "w_new, v_new = LA.eig(new_data)\n",
    "\n",
    "# measure the error relative to a matrix of 1s for reference.\n",
    "ones = np.ones(data.shape)\n",
    "fakeDiff = U_circuit - ones\n",
    "w_fake, v_fake = LA.eig(fakeDiff.data)"
   ]
  },
  {
   "cell_type": "code",
   "execution_count": 161,
   "metadata": {},
   "outputs": [
    {
     "name": "stdout",
     "output_type": "stream",
     "text": [
      "(1.9950000000000696-0.10000000000000257j)\n",
      "(1.9950041652780777-0.09983341664682971j)\n",
      "(0.9950000000003016-0.09999999999997829j)\n"
     ]
    }
   ],
   "source": [
    "print(max(w))\n",
    "print(max(w_new))\n",
    "print(max(w_fake))"
   ]
  },
  {
   "cell_type": "code",
   "execution_count": null,
   "metadata": {},
   "outputs": [],
   "source": []
  }
 ],
 "metadata": {
  "interpreter": {
   "hash": "1afdd5487afa15bf0797b22f2c7929f0a6c7ad3aebeaee922bd5f75d64efa325"
  },
  "kernelspec": {
   "display_name": "Python 3 (ipykernel)",
   "language": "python",
   "name": "python3"
  },
  "language_info": {
   "codemirror_mode": {
    "name": "ipython",
    "version": 3
   },
   "file_extension": ".py",
   "mimetype": "text/x-python",
   "name": "python",
   "nbconvert_exporter": "python",
   "pygments_lexer": "ipython3",
   "version": "3.9.12"
  }
 },
 "nbformat": 4,
 "nbformat_minor": 2
}
