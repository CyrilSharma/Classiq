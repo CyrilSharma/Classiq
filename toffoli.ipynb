{
 "cells": [
  {
   "cell_type": "code",
   "execution_count": 49,
   "metadata": {},
   "outputs": [],
   "source": [
    "# Problem statement\n",
    "# 14 controls\n",
    "# 1 target\n",
    "# 5 auxilliary\n",
    "\n",
    "#initialization\n",
    "import matplotlib.pyplot as plt\n",
    "import numpy as np\n",
    "\n",
    "# importing Qiskit\n",
    "from qiskit import IBMQ, Aer, assemble, transpile, execute\n",
    "from qiskit import QuantumCircuit, ClassicalRegister, QuantumRegister\n",
    "from qiskit.providers.ibmq import least_busy\n",
    "# relative phase toffoli gate\n",
    "from qiskit.circuit.library import RC3XGate, C4XGate, TdgGate\n",
    "\n",
    "# import basic plot tools\n",
    "from qiskit.visualization import plot_histogram \n"
   ]
  },
  {
   "cell_type": "code",
   "execution_count": 2,
   "metadata": {},
   "outputs": [],
   "source": [
    "control_qubits = QuantumRegister(14, name=\"c\")\n",
    "target_qubit = QuantumRegister(1, name='t')\n",
    "ancilla_qubits = QuantumRegister(5, name='a')\n",
    "classical_bits = ClassicalRegister(1, name='out')"
   ]
  },
  {
   "cell_type": "code",
   "execution_count": 3,
   "metadata": {},
   "outputs": [
    {
     "data": {
      "text/plain": [
       "<qiskit.circuit.instructionset.InstructionSet at 0x29f422bdd80>"
      ]
     },
     "execution_count": 3,
     "metadata": {},
     "output_type": "execute_result"
    }
   ],
   "source": [
    "# no optimization - design 0\n",
    "qc = QuantumCircuit(control_qubits, target_qubit, ancilla_qubits, classical_bits)\n",
    "qc.mcx(control_qubits, target_qubit[0], ancilla_qubits=ancilla_qubits, mode='recursion')\n",
    "qc.measure(target_qubit[0], classical_bits[0])"
   ]
  },
  {
   "cell_type": "code",
   "execution_count": 4,
   "metadata": {},
   "outputs": [
    {
     "data": {
      "text/html": [
       "<pre style=\"word-wrap: normal;white-space: pre;background: #fff0;line-height: 1.1;font-family: &quot;Courier New&quot;,Courier,monospace\">                \n",
       "  c_0: ──■──────\n",
       "         │      \n",
       "  c_1: ──■──────\n",
       "         │      \n",
       "  c_2: ──■──────\n",
       "         │      \n",
       "  c_3: ──■──────\n",
       "         │      \n",
       "  c_4: ──■──────\n",
       "         │      \n",
       "  c_5: ──■──────\n",
       "         │      \n",
       "  c_6: ──■──────\n",
       "         │      \n",
       "  c_7: ──■──────\n",
       "         │      \n",
       "  c_8: ──■──────\n",
       "         │      \n",
       "  c_9: ──■──────\n",
       "         │      \n",
       " c_10: ──■──────\n",
       "         │      \n",
       " c_11: ──■──────\n",
       "         │      \n",
       " c_12: ──■──────\n",
       "         │      \n",
       " c_13: ──■──────\n",
       "       ┌─┴──┐┌─┐\n",
       "    t: ┤0   ├┤M├\n",
       "       │  X │└╥┘\n",
       "  a_0: ┤1   ├─╫─\n",
       "       └────┘ ║ \n",
       "  a_1: ───────╫─\n",
       "              ║ \n",
       "  a_2: ───────╫─\n",
       "              ║ \n",
       "  a_3: ───────╫─\n",
       "              ║ \n",
       "  a_4: ───────╫─\n",
       "              ║ \n",
       "out: 1/═══════╩═\n",
       "              0 </pre>"
      ],
      "text/plain": [
       "                \n",
       "  c_0: ──■──────\n",
       "         │      \n",
       "  c_1: ──■──────\n",
       "         │      \n",
       "  c_2: ──■──────\n",
       "         │      \n",
       "  c_3: ──■──────\n",
       "         │      \n",
       "  c_4: ──■──────\n",
       "         │      \n",
       "  c_5: ──■──────\n",
       "         │      \n",
       "  c_6: ──■──────\n",
       "         │      \n",
       "  c_7: ──■──────\n",
       "         │      \n",
       "  c_8: ──■──────\n",
       "         │      \n",
       "  c_9: ──■──────\n",
       "         │      \n",
       " c_10: ──■──────\n",
       "         │      \n",
       " c_11: ──■──────\n",
       "         │      \n",
       " c_12: ──■──────\n",
       "         │      \n",
       " c_13: ──■──────\n",
       "       ┌─┴──┐┌─┐\n",
       "    t: ┤0   ├┤M├\n",
       "       │  X │└╥┘\n",
       "  a_0: ┤1   ├─╫─\n",
       "       └────┘ ║ \n",
       "  a_1: ───────╫─\n",
       "              ║ \n",
       "  a_2: ───────╫─\n",
       "              ║ \n",
       "  a_3: ───────╫─\n",
       "              ║ \n",
       "  a_4: ───────╫─\n",
       "              ║ \n",
       "out: 1/═══════╩═\n",
       "              0 "
      ]
     },
     "execution_count": 4,
     "metadata": {},
     "output_type": "execute_result"
    }
   ],
   "source": [
    "qc.draw()"
   ]
  },
  {
   "cell_type": "code",
   "execution_count": 5,
   "metadata": {},
   "outputs": [
    {
     "name": "stdout",
     "output_type": "stream",
     "text": [
      "890\n",
      "OrderedDict([('u', 712), ('cx', 656), ('measure', 1)])\n"
     ]
    }
   ],
   "source": [
    "aer_simulator = Aer.get_backend('aer_simulator')\n",
    "qc_transpiled = transpile(qc, aer_simulator, basis_gates=['u', 'cx'])\n",
    "print(qc_transpiled.depth())\n",
    "print(qc_transpiled.count_ops())"
   ]
  },
  {
   "cell_type": "code",
   "execution_count": 81,
   "metadata": {},
   "outputs": [
    {
     "data": {
      "text/html": [
       "<pre style=\"word-wrap: normal;white-space: pre;background: #fff0;line-height: 1.1;font-family: &quot;Courier New&quot;,Courier,monospace\">       ┌───┐┌────────┐                                                         »\n",
       "  c_0: ┤ X ├┤0       ├─────────────────────────────────────────────────────────»\n",
       "       ├───┤│        │                                                         »\n",
       "  c_1: ┤ X ├┤1       ├─────────────────────────────────────────────────────────»\n",
       "       ├───┤│        │                                                         »\n",
       "  c_2: ┤ X ├┤2       ├─────────────────────────────────────────────────────────»\n",
       "       ├───┤│        │┌────────┐                                               »\n",
       "  c_3: ┤ X ├┤        ├┤0       ├───────────────────────────────────────────────»\n",
       "       ├───┤│        ││        │                                               »\n",
       "  c_4: ┤ X ├┤        ├┤1       ├───────────────────────────────────────────────»\n",
       "       ├───┤│        ││        │                                               »\n",
       "  c_5: ┤ X ├┤        ├┤2       ├───────────────────────────────────────────────»\n",
       "       ├───┤│        ││        │┌────────┐                                     »\n",
       "  c_6: ┤ X ├┤        ├┤        ├┤0       ├─────────────────────────────────────»\n",
       "       ├───┤│        ││        ││        │                                     »\n",
       "  c_7: ┤ X ├┤        ├┤        ├┤1       ├─────────────────────────────────────»\n",
       "       ├───┤│  Rcccx ││        ││        │                                     »\n",
       "  c_8: ┤ X ├┤        ├┤        ├┤2       ├─────────────────────────────────────»\n",
       "       ├───┤│        ││        ││        │┌───────┐                            »\n",
       "  c_9: ┤ X ├┤        ├┤        ├┤        ├┤0      ├────────────────────────────»\n",
       "       ├───┤│        ││  Rcccx ││        ││       │                            »\n",
       " c_10: ┤ X ├┤        ├┤        ├┤        ├┤1      ├────────────────────────────»\n",
       "       ├───┤│        ││        ││        ││       │                            »\n",
       " c_11: ┤ X ├┤        ├┤        ├┤        ├┤2      ├────────────────────────────»\n",
       "       ├───┤│        ││        ││  Rcccx ││       │                            »\n",
       " c_12: ┤ X ├┤        ├┤        ├┤        ├┤3      ├────────────────────────────»\n",
       "       └───┘│        ││        ││        ││       │┌────────┐     ┌───────────┐»\n",
       " c_13: ─────┤        ├┤        ├┤        ├┤       ├┤2       ├─────┤2          ├»\n",
       "            │        ││        ││        ││  Rc4x ││        │┌───┐│           │»\n",
       "    t: ─────┤        ├┤        ├┤        ├┤       ├┤        ├┤ X ├┤           ├»\n",
       "            │        ││        ││        ││       ││        │└─┬─┘│           │»\n",
       "  a_0: ─────┤3       ├┤        ├┤        ├┤       ├┤0       ├──┼──┤0          ├»\n",
       "            └────────┘│        ││        ││       ││        │  │  │           │»\n",
       "  a_1: ───────────────┤3       ├┤        ├┤       ├┤1 Rcccx ├──┼──┤1 rcccx_dg ├»\n",
       "                      └────────┘│        ││       ││        │  │  │           │»\n",
       "  a_2: ─────────────────────────┤3       ├┤       ├┤        ├──■──┤           ├»\n",
       "                                └────────┘│       ││        │  │  │           │»\n",
       "  a_3: ───────────────────────────────────┤4      ├┤        ├──■──┤           ├»\n",
       "                                          └───────┘│        │  │  │           │»\n",
       "  a_4: ────────────────────────────────────────────┤3       ├──■──┤3          ├»\n",
       "                                                   └────────┘     └───────────┘»\n",
       "out: 1/════════════════════════════════════════════════════════════════════════»\n",
       "                                                                               »\n",
       "«                                   ┌───────────┐             \n",
       "«  c_0: ────────────────────────────┤0          ├─────────────\n",
       "«                                   │           │             \n",
       "«  c_1: ────────────────────────────┤1          ├─────────────\n",
       "«                                   │           │             \n",
       "«  c_2: ────────────────────────────┤2          ├─────────────\n",
       "«                                   │           │┌───────────┐\n",
       "«  c_3: ────────────────────────────┤           ├┤0          ├\n",
       "«                                   │           ││           │\n",
       "«  c_4: ────────────────────────────┤           ├┤1          ├\n",
       "«                                   │           ││           │\n",
       "«  c_5: ────────────────────────────┤           ├┤2          ├\n",
       "«       ┌───────────┐               │           ││           │\n",
       "«  c_6: ┤0          ├───────────────┤           ├┤           ├\n",
       "«       │           │               │           ││           │\n",
       "«  c_7: ┤1          ├───────────────┤           ├┤           ├\n",
       "«       │           │               │  rcccx_dg ││           │\n",
       "«  c_8: ┤2          ├───────────────┤           ├┤           ├\n",
       "«       │           │┌──────────┐   │           ││           │\n",
       "«  c_9: ┤           ├┤0         ├───┤           ├┤           ├\n",
       "«       │           ││          │   │           ││  rcccx_dg │\n",
       "« c_10: ┤           ├┤1         ├───┤           ├┤           ├\n",
       "«       │           ││          │   │           ││           │\n",
       "« c_11: ┤           ├┤2         ├───┤           ├┤           ├\n",
       "«       │  rcccx_dg ││          │   │           ││           │\n",
       "« c_12: ┤           ├┤3         ├───┤           ├┤           ├\n",
       "«       │           ││          │   │           ││           │\n",
       "« c_13: ┤           ├┤          ├───┤           ├┤           ├\n",
       "«       │           ││  Rc4x_dg │┌─┐│           ││           │\n",
       "«    t: ┤           ├┤          ├┤M├┤           ├┤           ├\n",
       "«       │           ││          │└╥┘│           ││           │\n",
       "«  a_0: ┤           ├┤          ├─╫─┤3          ├┤           ├\n",
       "«       │           ││          │ ║ └───────────┘│           │\n",
       "«  a_1: ┤           ├┤          ├─╫──────────────┤3          ├\n",
       "«       │           ││          │ ║              └───────────┘\n",
       "«  a_2: ┤3          ├┤          ├─╫───────────────────────────\n",
       "«       └───────────┘│          │ ║                           \n",
       "«  a_3: ─────────────┤4         ├─╫───────────────────────────\n",
       "«                    └──────────┘ ║                           \n",
       "«  a_4: ──────────────────────────╫───────────────────────────\n",
       "«                                 ║                           \n",
       "«out: 1/══════════════════════════╩═══════════════════════════\n",
       "«                                 0                           </pre>"
      ],
      "text/plain": [
       "       ┌───┐┌────────┐                                                         »\n",
       "  c_0: ┤ X ├┤0       ├─────────────────────────────────────────────────────────»\n",
       "       ├───┤│        │                                                         »\n",
       "  c_1: ┤ X ├┤1       ├─────────────────────────────────────────────────────────»\n",
       "       ├───┤│        │                                                         »\n",
       "  c_2: ┤ X ├┤2       ├─────────────────────────────────────────────────────────»\n",
       "       ├───┤│        │┌────────┐                                               »\n",
       "  c_3: ┤ X ├┤        ├┤0       ├───────────────────────────────────────────────»\n",
       "       ├───┤│        ││        │                                               »\n",
       "  c_4: ┤ X ├┤        ├┤1       ├───────────────────────────────────────────────»\n",
       "       ├───┤│        ││        │                                               »\n",
       "  c_5: ┤ X ├┤        ├┤2       ├───────────────────────────────────────────────»\n",
       "       ├───┤│        ││        │┌────────┐                                     »\n",
       "  c_6: ┤ X ├┤        ├┤        ├┤0       ├─────────────────────────────────────»\n",
       "       ├───┤│        ││        ││        │                                     »\n",
       "  c_7: ┤ X ├┤        ├┤        ├┤1       ├─────────────────────────────────────»\n",
       "       ├───┤│  Rcccx ││        ││        │                                     »\n",
       "  c_8: ┤ X ├┤        ├┤        ├┤2       ├─────────────────────────────────────»\n",
       "       ├───┤│        ││        ││        │┌───────┐                            »\n",
       "  c_9: ┤ X ├┤        ├┤        ├┤        ├┤0      ├────────────────────────────»\n",
       "       ├───┤│        ││  Rcccx ││        ││       │                            »\n",
       " c_10: ┤ X ├┤        ├┤        ├┤        ├┤1      ├────────────────────────────»\n",
       "       ├───┤│        ││        ││        ││       │                            »\n",
       " c_11: ┤ X ├┤        ├┤        ├┤        ├┤2      ├────────────────────────────»\n",
       "       ├───┤│        ││        ││  Rcccx ││       │                            »\n",
       " c_12: ┤ X ├┤        ├┤        ├┤        ├┤3      ├────────────────────────────»\n",
       "       └───┘│        ││        ││        ││       │┌────────┐     ┌───────────┐»\n",
       " c_13: ─────┤        ├┤        ├┤        ├┤       ├┤2       ├─────┤2          ├»\n",
       "            │        ││        ││        ││  Rc4x ││        │┌───┐│           │»\n",
       "    t: ─────┤        ├┤        ├┤        ├┤       ├┤        ├┤ X ├┤           ├»\n",
       "            │        ││        ││        ││       ││        │└─┬─┘│           │»\n",
       "  a_0: ─────┤3       ├┤        ├┤        ├┤       ├┤0       ├──┼──┤0          ├»\n",
       "            └────────┘│        ││        ││       ││        │  │  │           │»\n",
       "  a_1: ───────────────┤3       ├┤        ├┤       ├┤1 Rcccx ├──┼──┤1 rcccx_dg ├»\n",
       "                      └────────┘│        ││       ││        │  │  │           │»\n",
       "  a_2: ─────────────────────────┤3       ├┤       ├┤        ├──■──┤           ├»\n",
       "                                └────────┘│       ││        │  │  │           │»\n",
       "  a_3: ───────────────────────────────────┤4      ├┤        ├──■──┤           ├»\n",
       "                                          └───────┘│        │  │  │           │»\n",
       "  a_4: ────────────────────────────────────────────┤3       ├──■──┤3          ├»\n",
       "                                                   └────────┘     └───────────┘»\n",
       "out: 1/════════════════════════════════════════════════════════════════════════»\n",
       "                                                                               »\n",
       "«                                   ┌───────────┐             \n",
       "«  c_0: ────────────────────────────┤0          ├─────────────\n",
       "«                                   │           │             \n",
       "«  c_1: ────────────────────────────┤1          ├─────────────\n",
       "«                                   │           │             \n",
       "«  c_2: ────────────────────────────┤2          ├─────────────\n",
       "«                                   │           │┌───────────┐\n",
       "«  c_3: ────────────────────────────┤           ├┤0          ├\n",
       "«                                   │           ││           │\n",
       "«  c_4: ────────────────────────────┤           ├┤1          ├\n",
       "«                                   │           ││           │\n",
       "«  c_5: ────────────────────────────┤           ├┤2          ├\n",
       "«       ┌───────────┐               │           ││           │\n",
       "«  c_6: ┤0          ├───────────────┤           ├┤           ├\n",
       "«       │           │               │           ││           │\n",
       "«  c_7: ┤1          ├───────────────┤           ├┤           ├\n",
       "«       │           │               │  rcccx_dg ││           │\n",
       "«  c_8: ┤2          ├───────────────┤           ├┤           ├\n",
       "«       │           │┌──────────┐   │           ││           │\n",
       "«  c_9: ┤           ├┤0         ├───┤           ├┤           ├\n",
       "«       │           ││          │   │           ││  rcccx_dg │\n",
       "« c_10: ┤           ├┤1         ├───┤           ├┤           ├\n",
       "«       │           ││          │   │           ││           │\n",
       "« c_11: ┤           ├┤2         ├───┤           ├┤           ├\n",
       "«       │  rcccx_dg ││          │   │           ││           │\n",
       "« c_12: ┤           ├┤3         ├───┤           ├┤           ├\n",
       "«       │           ││          │   │           ││           │\n",
       "« c_13: ┤           ├┤          ├───┤           ├┤           ├\n",
       "«       │           ││  Rc4x_dg │┌─┐│           ││           │\n",
       "«    t: ┤           ├┤          ├┤M├┤           ├┤           ├\n",
       "«       │           ││          │└╥┘│           ││           │\n",
       "«  a_0: ┤           ├┤          ├─╫─┤3          ├┤           ├\n",
       "«       │           ││          │ ║ └───────────┘│           │\n",
       "«  a_1: ┤           ├┤          ├─╫──────────────┤3          ├\n",
       "«       │           ││          │ ║              └───────────┘\n",
       "«  a_2: ┤3          ├┤          ├─╫───────────────────────────\n",
       "«       └───────────┘│          │ ║                           \n",
       "«  a_3: ─────────────┤4         ├─╫───────────────────────────\n",
       "«                    └──────────┘ ║                           \n",
       "«  a_4: ──────────────────────────╫───────────────────────────\n",
       "«                                 ║                           \n",
       "«out: 1/══════════════════════════╩═══════════════════════════\n",
       "«                                 0                           "
      ]
     },
     "execution_count": 81,
     "metadata": {},
     "output_type": "execute_result"
    }
   ],
   "source": [
    "def Rc4x():\n",
    "    # relative phase toffoli-5 implementation\n",
    "    qc = QuantumCircuit(5)\n",
    "    qc.h(4)\n",
    "    qc.t(4)\n",
    "    qc.cx(3, 4)\n",
    "    qc.append(TdgGate(), [4])\n",
    "    qc.mcx([0, 1, 2], 4)\n",
    "    qc.t(4)\n",
    "    qc.cx(3, 4)\n",
    "    qc.append(TdgGate(), [4])\n",
    "    qc.h(4)\n",
    "\n",
    "    rc4x = qc.to_gate()\n",
    "    rc4x.name = \"Rc4x\"\n",
    "    return rc4x\n",
    "\n",
    "qc = QuantumCircuit(control_qubits, target_qubit, ancilla_qubits, classical_bits)\n",
    "for i in range(13):\n",
    "    qc.x(control_qubits[i])\n",
    "\n",
    "for i in range(3):\n",
    "    qc.append(RC3XGate(), control_qubits[3*i:3*(i+1)]+ancilla_qubits[i:i+1])\n",
    "# 0 - 8\n",
    "qc.append(Rc4x(), control_qubits[9:13]+ancilla_qubits[3:4])\n",
    "\n",
    "qc.append(RC3XGate(), ancilla_qubits[0:2] + control_qubits[13:14] + ancilla_qubits[4:5])\n",
    "\n",
    "qc.mcx(ancilla_qubits[2:5], target_qubit[0])\n",
    "\n",
    "# # uncompute\n",
    "qc.append(RC3XGate().inverse(), ancilla_qubits[0:2] + control_qubits[13:14] + ancilla_qubits[4:5])\n",
    "for i in range(3):\n",
    "    qc.append(RC3XGate().inverse(), control_qubits[3*i:3*(i+1)]+ancilla_qubits[i:i+1])\n",
    "# # 0 - 8\n",
    "qc.append(Rc4x().inverse(), control_qubits[9:13]+ancilla_qubits[3:4])\n",
    "\n",
    "qc.measure(target_qubit[0], classical_bits[0])\n",
    "\n",
    "qc.draw()"
   ]
  },
  {
   "cell_type": "code",
   "execution_count": 82,
   "metadata": {},
   "outputs": [
    {
     "name": "stdout",
     "output_type": "stream",
     "text": [
      "75\n",
      "OrderedDict([('u', 115), ('cx', 94), ('measure', 1)])\n"
     ]
    }
   ],
   "source": [
    "aer_simulator = Aer.get_backend('aer_simulator')\n",
    "qc_transpiled = transpile(qc, aer_simulator, basis_gates=['u', 'cx'], optimization_level=3)\n",
    "print(qc_transpiled.depth())\n",
    "print(qc_transpiled.count_ops())"
   ]
  },
  {
   "cell_type": "code",
   "execution_count": 83,
   "metadata": {},
   "outputs": [
    {
     "name": "stdout",
     "output_type": "stream",
     "text": [
      "{'0': 1024}\n"
     ]
    }
   ],
   "source": [
    "qobj = assemble(qc_transpiled)\n",
    "result = aer_simulator.run(qobj).result()\n",
    "print(result.get_counts())"
   ]
  },
  {
   "cell_type": "code",
   "execution_count": 39,
   "metadata": {},
   "outputs": [
    {
     "name": "stdout",
     "output_type": "stream",
     "text": [
      "Mode: noancilla\n",
      "Controls: 1, Depth: 2, Ancilla: 0, Ops: OrderedDict([('u', 1), ('cx', 1)])\n",
      "Controls: 2, Depth: 11, Ancilla: 0, Ops: OrderedDict([('u', 10), ('cx', 6)])\n",
      "Controls: 3, Depth: 27, Ancilla: 0, Ops: OrderedDict([('u', 16), ('cx', 14)])\n",
      "Controls: 4, Depth: 65, Ancilla: 0, Ops: OrderedDict([('u', 44), ('cx', 36)])\n",
      "Controls: 5, Depth: 155, Ancilla: 0, Ops: OrderedDict([('u', 98), ('cx', 92)])\n",
      "Controls: 6, Depth: 315, Ancilla: 0, Ops: OrderedDict([('u', 195), ('cx', 188)])\n",
      "Controls: 7, Depth: 635, Ancilla: 0, Ops: OrderedDict([('u', 388), ('cx', 380)])\n",
      "Controls: 8, Depth: 1275, Ancilla: 0, Ops: OrderedDict([('u', 773), ('cx', 764)])\n",
      "Controls: 9, Depth: 2555, Ancilla: 0, Ops: OrderedDict([('u', 1542), ('cx', 1532)])\n",
      "\n",
      "Mode: recursion\n",
      "Controls: 1, Depth: 2, Ancilla: 0, Ops: OrderedDict([('u', 1), ('cx', 1)])\n",
      "Controls: 2, Depth: 11, Ancilla: 0, Ops: OrderedDict([('u', 10), ('cx', 6)])\n",
      "Controls: 3, Depth: 27, Ancilla: 0, Ops: OrderedDict([('u', 16), ('cx', 14)])\n",
      "Controls: 4, Depth: 65, Ancilla: 0, Ops: OrderedDict([('u', 44), ('cx', 36)])\n",
      "Controls: 5, Depth: 87, Ancilla: 1, Ops: OrderedDict([('u', 61), ('cx', 56)])\n",
      "Controls: 6, Depth: 155, Ancilla: 1, Ops: OrderedDict([('u', 113), ('cx', 100)])\n",
      "Controls: 7, Depth: 225, Ancilla: 1, Ops: OrderedDict([('u', 165), ('cx', 144)])\n",
      "Controls: 8, Depth: 253, Ancilla: 1, Ops: OrderedDict([('u', 202), ('cx', 184)])\n",
      "Controls: 9, Depth: 316, Ancilla: 1, Ops: OrderedDict([('u', 241), ('cx', 224)])\n",
      "\n",
      "Mode: v-chain\n",
      "Controls: 1, Depth: 2, Ancilla: 0, Ops: OrderedDict([('u', 1), ('cx', 1)])\n",
      "Controls: 2, Depth: 11, Ancilla: 0, Ops: OrderedDict([('u', 10), ('cx', 6)])\n",
      "Controls: 3, Depth: 24, Ancilla: 1, Ops: OrderedDict([('u', 19), ('cx', 12)])\n",
      "Controls: 4, Depth: 36, Ancilla: 2, Ops: OrderedDict([('u', 28), ('cx', 18)])\n",
      "Controls: 5, Depth: 48, Ancilla: 3, Ops: OrderedDict([('u', 37), ('cx', 24)])\n",
      "Controls: 6, Depth: 60, Ancilla: 4, Ops: OrderedDict([('u', 46), ('cx', 30)])\n",
      "Controls: 7, Depth: 72, Ancilla: 5, Ops: OrderedDict([('u', 55), ('cx', 36)])\n",
      "Controls: 8, Depth: 84, Ancilla: 6, Ops: OrderedDict([('u', 64), ('cx', 42)])\n",
      "Controls: 9, Depth: 96, Ancilla: 7, Ops: OrderedDict([('u', 73), ('cx', 48)])\n",
      "\n",
      "Mode: v-chain-dirty\n",
      "Controls: 1, Depth: 2, Ancilla: 0, Ops: OrderedDict([('u', 1), ('cx', 1)])\n",
      "Controls: 2, Depth: 11, Ancilla: 0, Ops: OrderedDict([('u', 10), ('cx', 6)])\n",
      "Controls: 3, Depth: 29, Ancilla: 1, Ops: OrderedDict([('u', 19), ('cx', 14)])\n",
      "Controls: 4, Depth: 53, Ancilla: 2, Ops: OrderedDict([('u', 34), ('cx', 26)])\n",
      "Controls: 5, Depth: 77, Ancilla: 3, Ops: OrderedDict([('u', 49), ('cx', 38)])\n",
      "Controls: 6, Depth: 101, Ancilla: 4, Ops: OrderedDict([('u', 64), ('cx', 50)])\n",
      "Controls: 7, Depth: 125, Ancilla: 5, Ops: OrderedDict([('u', 79), ('cx', 62)])\n",
      "Controls: 8, Depth: 149, Ancilla: 6, Ops: OrderedDict([('u', 94), ('cx', 74)])\n",
      "Controls: 9, Depth: 173, Ancilla: 7, Ops: OrderedDict([('u', 109), ('cx', 86)])\n",
      "\n"
     ]
    }
   ],
   "source": [
    "# test efficiency of various sizes with no-ancilla\n",
    "numControls = 10\n",
    "modes = ['noancilla', 'recursion', 'v-chain', 'v-chain-dirty']\n",
    "for m in modes:\n",
    "    print(f\"Mode: {m}\")\n",
    "    for i in range(1, numControls):\n",
    "        ancilla_qubits = QuantumRegister(15, name='a')\n",
    "        control_qubits = QuantumRegister(i, name=\"c\")\n",
    "        qc = QuantumCircuit(control_qubits, target_qubit, ancilla_qubits, classical_bits)\n",
    "        for j in range(i):\n",
    "            qc.x(control_qubits[j])\n",
    "        qc.mcx(control_qubits, ancilla_qubits[0], ancilla_qubits=ancilla_qubits[1:], mode=m)\n",
    "        qc_transpiled = transpile(qc, aer_simulator, basis_gates=['u', 'cx'], optimization_level=3)\n",
    "        if (m == 'noancilla'):\n",
    "            num_ancilla = 0\n",
    "        elif (m == 'recursion'):\n",
    "            num_ancilla = 0 if i < 5 else 1\n",
    "        elif (m == 'v-chain' or m =='v-chain-dirty'):\n",
    "            num_ancilla = i - 2 if i > 2 else 0\n",
    "        print(f\"Controls: {i}, Depth: {qc_transpiled.depth()}, Ancilla: {num_ancilla}, Ops: {qc_transpiled.count_ops()}\")\n",
    "    print()"
   ]
  },
  {
   "cell_type": "code",
   "execution_count": 70,
   "metadata": {},
   "outputs": [
    {
     "data": {
      "text/html": [
       "<pre style=\"word-wrap: normal;white-space: pre;background: #fff0;line-height: 1.1;font-family: &quot;Courier New&quot;,Courier,monospace\">                                                      \n",
       "q_0: ────────────────────────■────────────────────────\n",
       "                             │                        \n",
       "q_1: ────────────────────────■────────────────────────\n",
       "                             │                        \n",
       "q_2: ────────────────────────■────────────────────────\n",
       "                             │                        \n",
       "q_3: ────────────■───────────┼─────────■──────────────\n",
       "     ┌───┐┌───┐┌─┴─┐┌─────┐┌─┴─┐┌───┐┌─┴─┐┌─────┐┌───┐\n",
       "q_4: ┤ H ├┤ T ├┤ X ├┤ Tdg ├┤ X ├┤ T ├┤ X ├┤ Tdg ├┤ H ├\n",
       "     └───┘└───┘└───┘└─────┘└───┘└───┘└───┘└─────┘└───┘</pre>"
      ],
      "text/plain": [
       "                                                      \n",
       "q_0: ────────────────────────■────────────────────────\n",
       "                             │                        \n",
       "q_1: ────────────────────────■────────────────────────\n",
       "                             │                        \n",
       "q_2: ────────────────────────■────────────────────────\n",
       "                             │                        \n",
       "q_3: ────────────■───────────┼─────────■──────────────\n",
       "     ┌───┐┌───┐┌─┴─┐┌─────┐┌─┴─┐┌───┐┌─┴─┐┌─────┐┌───┐\n",
       "q_4: ┤ H ├┤ T ├┤ X ├┤ Tdg ├┤ X ├┤ T ├┤ X ├┤ Tdg ├┤ H ├\n",
       "     └───┘└───┘└───┘└─────┘└───┘└───┘└───┘└─────┘└───┘"
      ]
     },
     "execution_count": 70,
     "metadata": {},
     "output_type": "execute_result"
    }
   ],
   "source": [
    "# Testing my gate\n",
    "qc = QuantumCircuit(5)\n",
    "qc.h(4)\n",
    "qc.t(4)\n",
    "qc.cx(3, 4)\n",
    "qc.append(TdgGate(), [4])\n",
    "qc.mcx([0, 1, 2], 4)\n",
    "qc.t(4)\n",
    "qc.cx(3, 4)\n",
    "qc.append(TdgGate(), [4])\n",
    "qc.h(4)\n",
    "#circuit already defined\n",
    "backend = Aer.get_backend('unitary_simulator')\n",
    "job = execute(qc, backend)\n",
    "result = job.result()\n",
    "matrix = result.get_unitary(qc)\n",
    "qc.draw()"
   ]
  },
  {
   "cell_type": "code",
   "execution_count": 71,
   "metadata": {},
   "outputs": [
    {
     "name": "stdout",
     "output_type": "stream",
     "text": [
      "29\n",
      "OrderedDict([('u', 18), ('cx', 16)])\n"
     ]
    }
   ],
   "source": [
    "aer_simulator = Aer.get_backend('aer_simulator')\n",
    "qc_transpiled = transpile(qc, aer_simulator, basis_gates=['u', 'cx'], optimization_level=3)\n",
    "print(qc_transpiled.depth())\n",
    "print(qc_transpiled.count_ops())"
   ]
  },
  {
   "cell_type": "code",
   "execution_count": 84,
   "metadata": {},
   "outputs": [
    {
     "name": "stderr",
     "output_type": "stream",
     "text": [
      "<ipython-input-84-b0ef0dd27018>:1: DeprecationWarning: The return type of saved unitaries has been changed from a `numpy.ndarray` to a `qiskit.quantum_info.Operator` as of qiskit-aer 0.10. Accessing numpy array attributes is deprecated and will result in an error in a future release. To continue using saved result objects as arrays you can explicitly cast them using  `np.asarray(object)`.\n",
      "  matrix[8, :]\n"
     ]
    },
    {
     "data": {
      "text/plain": [
       "array([ 0.00000000e+00+0.00000000e+00j,  0.00000000e+00+0.00000000e+00j,\n",
       "        0.00000000e+00+0.00000000e+00j,  0.00000000e+00+0.00000000e+00j,\n",
       "        0.00000000e+00+0.00000000e+00j,  0.00000000e+00+0.00000000e+00j,\n",
       "        0.00000000e+00+0.00000000e+00j,  0.00000000e+00+0.00000000e+00j,\n",
       "        1.00000000e+00-5.55111512e-17j,  0.00000000e+00+0.00000000e+00j,\n",
       "        0.00000000e+00+0.00000000e+00j,  0.00000000e+00+0.00000000e+00j,\n",
       "        0.00000000e+00+0.00000000e+00j,  0.00000000e+00+0.00000000e+00j,\n",
       "        0.00000000e+00+0.00000000e+00j,  0.00000000e+00+0.00000000e+00j,\n",
       "        0.00000000e+00+0.00000000e+00j,  0.00000000e+00+0.00000000e+00j,\n",
       "        0.00000000e+00+0.00000000e+00j,  0.00000000e+00+0.00000000e+00j,\n",
       "        0.00000000e+00+0.00000000e+00j,  0.00000000e+00+0.00000000e+00j,\n",
       "        0.00000000e+00+0.00000000e+00j,  0.00000000e+00+0.00000000e+00j,\n",
       "       -1.11022302e-16+5.55111512e-17j,  0.00000000e+00+0.00000000e+00j,\n",
       "        0.00000000e+00+0.00000000e+00j,  0.00000000e+00+0.00000000e+00j,\n",
       "        0.00000000e+00+0.00000000e+00j,  0.00000000e+00+0.00000000e+00j,\n",
       "        0.00000000e+00+0.00000000e+00j,  0.00000000e+00+0.00000000e+00j])"
      ]
     },
     "execution_count": 84,
     "metadata": {},
     "output_type": "execute_result"
    }
   ],
   "source": [
    "matrix[8, :] \n",
    "# |01111> -> -i|11111>\n",
    "# |11111> -> i|01111>\n",
    "# |00111> -> "
   ]
  },
  {
   "cell_type": "code",
   "execution_count": null,
   "metadata": {},
   "outputs": [],
   "source": []
  }
 ],
 "metadata": {
  "interpreter": {
   "hash": "1afdd5487afa15bf0797b22f2c7929f0a6c7ad3aebeaee922bd5f75d64efa325"
  },
  "kernelspec": {
   "display_name": "Python 3 (ipykernel)",
   "language": "python",
   "name": "python3"
  },
  "language_info": {
   "codemirror_mode": {
    "name": "ipython",
    "version": 3
   },
   "file_extension": ".py",
   "mimetype": "text/x-python",
   "name": "python",
   "nbconvert_exporter": "python",
   "pygments_lexer": "ipython3",
   "version": "3.8.5"
  }
 },
 "nbformat": 4,
 "nbformat_minor": 2
}
