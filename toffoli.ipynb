{
 "cells": [
  {
   "cell_type": "code",
   "execution_count": null,
   "metadata": {},
   "outputs": [],
   "source": [
    "# Problem statement\n",
    "# 14 controls\n",
    "# 1 target\n",
    "# 5 auxilliary \n",
    "\n",
    "# b0-13, t, a0-4\n",
    "\n",
    "# Design 1: (3-4-3) \n",
    "# 4 3-bit in place control gates (b0-11)->(a0-3)\n",
    "# 1 4-bit in place control gate taking 2 remaining bits and 2 auxiliary bits (b12-13, a0-1) -> a4\n",
    "# 3 3-bit in place control gate that takes (a2-4) -> t\n"
   ]
  },
  {
   "cell_type": "code",
   "execution_count": null,
   "metadata": {},
   "outputs": [],
   "source": [
    "#initialization\n",
    "import matplotlib.pyplot as plt\n",
    "import numpy as np\n",
    "\n",
    "# importing Qiskit\n",
    "from qiskit import IBMQ, Aer, assemble, transpile\n",
    "from qiskit import QuantumCircuit, ClassicalRegister, QuantumRegister\n",
    "from qiskit.providers.ibmq import least_busy\n",
    "\n",
    "# import basic plot tools\n",
    "from qiskit.visualization import plot_histogram "
   ]
  },
  {
   "cell_type": "code",
   "execution_count": 48,
   "metadata": {},
   "outputs": [],
   "source": [
    "control_qubits = QuantumRegister(14, name=\"c\")\n",
    "target_qubit = QuantumRegister(1, name='t')\n",
    "ancilla_qubits = QuantumRegister(5, name='a')\n",
    "classical_bits = ClassicalRegister(1, name='out')\n",
    "qc = QuantumCircuit(control_qubits, target_qubit, ancilla_qubits, classical_bits)\n",
    "\n",
    "#qc.mcx()"
   ]
  },
  {
   "cell_type": "code",
   "execution_count": 42,
   "metadata": {},
   "outputs": [
    {
     "data": {
      "text/plain": [
       "<qiskit.circuit.instructionset.InstructionSet at 0x1c150593540>"
      ]
     },
     "execution_count": 42,
     "metadata": {},
     "output_type": "execute_result"
    }
   ],
   "source": [
    "# no optimization - design 0\n",
    "qc.mcx(control_qubits, target_qubit[0])\n",
    "qc.measure(target_qubit[0], classical_bits[0])"
   ]
  },
  {
   "cell_type": "code",
   "execution_count": 43,
   "metadata": {},
   "outputs": [
    {
     "data": {
      "text/html": [
       "<pre style=\"word-wrap: normal;white-space: pre;background: #fff0;line-height: 1.1;font-family: &quot;Courier New&quot;,Courier,monospace\">               \n",
       "  c_0: ──■─────\n",
       "         │     \n",
       "  c_1: ──■─────\n",
       "         │     \n",
       "  c_2: ──■─────\n",
       "         │     \n",
       "  c_3: ──■─────\n",
       "         │     \n",
       "  c_4: ──■─────\n",
       "         │     \n",
       "  c_5: ──■─────\n",
       "         │     \n",
       "  c_6: ──■─────\n",
       "         │     \n",
       "  c_7: ──■─────\n",
       "         │     \n",
       "  c_8: ──■─────\n",
       "         │     \n",
       "  c_9: ──■─────\n",
       "         │     \n",
       " c_10: ──■─────\n",
       "         │     \n",
       " c_11: ──■─────\n",
       "         │     \n",
       " c_12: ──■─────\n",
       "         │     \n",
       " c_13: ──■─────\n",
       "       ┌─┴─┐┌─┐\n",
       "    t: ┤ X ├┤M├\n",
       "       └───┘└╥┘\n",
       "  a_0: ──────╫─\n",
       "             ║ \n",
       "  a_1: ──────╫─\n",
       "             ║ \n",
       "  a_2: ──────╫─\n",
       "             ║ \n",
       "  a_3: ──────╫─\n",
       "             ║ \n",
       "  a_4: ──────╫─\n",
       "             ║ \n",
       "out: 1/══════╩═\n",
       "             0 </pre>"
      ],
      "text/plain": [
       "               \n",
       "  c_0: ──■─────\n",
       "         │     \n",
       "  c_1: ──■─────\n",
       "         │     \n",
       "  c_2: ──■─────\n",
       "         │     \n",
       "  c_3: ──■─────\n",
       "         │     \n",
       "  c_4: ──■─────\n",
       "         │     \n",
       "  c_5: ──■─────\n",
       "         │     \n",
       "  c_6: ──■─────\n",
       "         │     \n",
       "  c_7: ──■─────\n",
       "         │     \n",
       "  c_8: ──■─────\n",
       "         │     \n",
       "  c_9: ──■─────\n",
       "         │     \n",
       " c_10: ──■─────\n",
       "         │     \n",
       " c_11: ──■─────\n",
       "         │     \n",
       " c_12: ──■─────\n",
       "         │     \n",
       " c_13: ──■─────\n",
       "       ┌─┴─┐┌─┐\n",
       "    t: ┤ X ├┤M├\n",
       "       └───┘└╥┘\n",
       "  a_0: ──────╫─\n",
       "             ║ \n",
       "  a_1: ──────╫─\n",
       "             ║ \n",
       "  a_2: ──────╫─\n",
       "             ║ \n",
       "  a_3: ──────╫─\n",
       "             ║ \n",
       "  a_4: ──────╫─\n",
       "             ║ \n",
       "out: 1/══════╩═\n",
       "             0 "
      ]
     },
     "execution_count": 43,
     "metadata": {},
     "output_type": "execute_result"
    }
   ],
   "source": [
    "qc.draw()"
   ]
  },
  {
   "cell_type": "code",
   "execution_count": 44,
   "metadata": {},
   "outputs": [
    {
     "name": "stdout",
     "output_type": "stream",
     "text": [
      "81916\n",
      "OrderedDict([('u', 49150), ('cx', 49148), ('measure', 1)])\n"
     ]
    }
   ],
   "source": [
    "qc_transpiled = transpile(qc, aer_simulator, basis_gates=['u', 'cx'])\n",
    "print(qc_transpiled.depth())\n",
    "print(qc_transpiled.count_ops())"
   ]
  },
  {
   "cell_type": "code",
   "execution_count": null,
   "metadata": {},
   "outputs": [
    {
     "data": {
      "text/plain": [
       "<qiskit.circuit.instructionset.InstructionSet at 0x1c17f7c2fc0>"
      ]
     },
     "execution_count": 34,
     "metadata": {},
     "output_type": "execute_result"
    }
   ],
   "source": [
    "# design 1 \n",
    "\n",
    "for i in range(14):\n",
    "    qc.x(control_qubits[i])\n",
    "\n",
    "for i in range(4):\n",
    "    qc.mcx(control_qubits[3*i:3*(i+1)], ancilla_qubits[i])\n",
    "\n",
    "qc.mcx(control_qubits[12:14] + ancilla_qubits[0:2], ancilla_qubits[4])\n",
    "qc.mcx(ancilla_qubits[2:5], target_qubit[0])\n",
    "qc.measure(target_qubit[0], classical_bits[0])\n"
   ]
  },
  {
   "cell_type": "code",
   "execution_count": 49,
   "metadata": {},
   "outputs": [
    {
     "data": {
      "text/plain": [
       "<qiskit.circuit.instructionset.InstructionSet at 0x1c1505b8200>"
      ]
     },
     "execution_count": 49,
     "metadata": {},
     "output_type": "execute_result"
    }
   ],
   "source": [
    "# design 2 \n",
    "for i in range(14):\n",
    "    qc.x(control_qubits[i])\n",
    "\n",
    "for i in range(3):\n",
    "    qc.mcx(control_qubits[3*i:3*(i+1)], ancilla_qubits[i])\n",
    "# 0 - 8\n",
    "qc.mcx(control_qubits[9:13], ancilla_qubits[3])\n",
    "\n",
    "qc.mcx(ancilla_qubits[0:2] + control_qubits[13:14], ancilla_qubits[4])\n",
    "\n",
    "qc.mcx(ancilla_qubits[2:5], target_qubit[0])\n",
    "qc.measure(target_qubit[0], classical_bits[0])"
   ]
  },
  {
   "cell_type": "code",
   "execution_count": 50,
   "metadata": {},
   "outputs": [
    {
     "data": {
      "text/html": [
       "<pre style=\"word-wrap: normal;white-space: pre;background: #fff0;line-height: 1.1;font-family: &quot;Courier New&quot;,Courier,monospace\">       ┌───┐                                 \n",
       "  c_0: ┤ X ├──■──────────────────────────────\n",
       "       ├───┤  │                              \n",
       "  c_1: ┤ X ├──■──────────────────────────────\n",
       "       ├───┤  │                              \n",
       "  c_2: ┤ X ├──■──────────────────────────────\n",
       "       ├───┤  │                              \n",
       "  c_3: ┤ X ├──┼────■─────────────────────────\n",
       "       ├───┤  │    │                         \n",
       "  c_4: ┤ X ├──┼────■─────────────────────────\n",
       "       ├───┤  │    │                         \n",
       "  c_5: ┤ X ├──┼────■─────────────────────────\n",
       "       ├───┤  │    │                         \n",
       "  c_6: ┤ X ├──┼────┼────■────────────────────\n",
       "       ├───┤  │    │    │                    \n",
       "  c_7: ┤ X ├──┼────┼────■────────────────────\n",
       "       ├───┤  │    │    │                    \n",
       "  c_8: ┤ X ├──┼────┼────■────────────────────\n",
       "       ├───┤  │    │    │                    \n",
       "  c_9: ┤ X ├──┼────┼────┼────■───────────────\n",
       "       ├───┤  │    │    │    │               \n",
       " c_10: ┤ X ├──┼────┼────┼────■───────────────\n",
       "       ├───┤  │    │    │    │               \n",
       " c_11: ┤ X ├──┼────┼────┼────■───────────────\n",
       "       ├───┤  │    │    │    │               \n",
       " c_12: ┤ X ├──┼────┼────┼────■───────────────\n",
       "       ├───┤  │    │    │    │               \n",
       " c_13: ┤ X ├──┼────┼────┼────┼────■──────────\n",
       "       └───┘  │    │    │    │    │  ┌───┐┌─┐\n",
       "    t: ───────┼────┼────┼────┼────┼──┤ X ├┤M├\n",
       "            ┌─┴─┐  │    │    │    │  └─┬─┘└╥┘\n",
       "  a_0: ─────┤ X ├──┼────┼────┼────■────┼───╫─\n",
       "            └───┘┌─┴─┐  │    │    │    │   ║ \n",
       "  a_1: ──────────┤ X ├──┼────┼────■────┼───╫─\n",
       "                 └───┘┌─┴─┐  │    │    │   ║ \n",
       "  a_2: ───────────────┤ X ├──┼────┼────■───╫─\n",
       "                      └───┘┌─┴─┐  │    │   ║ \n",
       "  a_3: ────────────────────┤ X ├──┼────■───╫─\n",
       "                           └───┘┌─┴─┐  │   ║ \n",
       "  a_4: ─────────────────────────┤ X ├──■───╫─\n",
       "                                └───┘      ║ \n",
       "out: 1/════════════════════════════════════╩═\n",
       "                                           0 </pre>"
      ],
      "text/plain": [
       "       ┌───┐                                 \n",
       "  c_0: ┤ X ├──■──────────────────────────────\n",
       "       ├───┤  │                              \n",
       "  c_1: ┤ X ├──■──────────────────────────────\n",
       "       ├───┤  │                              \n",
       "  c_2: ┤ X ├──■──────────────────────────────\n",
       "       ├───┤  │                              \n",
       "  c_3: ┤ X ├──┼────■─────────────────────────\n",
       "       ├───┤  │    │                         \n",
       "  c_4: ┤ X ├──┼────■─────────────────────────\n",
       "       ├───┤  │    │                         \n",
       "  c_5: ┤ X ├──┼────■─────────────────────────\n",
       "       ├───┤  │    │                         \n",
       "  c_6: ┤ X ├──┼────┼────■────────────────────\n",
       "       ├───┤  │    │    │                    \n",
       "  c_7: ┤ X ├──┼────┼────■────────────────────\n",
       "       ├───┤  │    │    │                    \n",
       "  c_8: ┤ X ├──┼────┼────■────────────────────\n",
       "       ├───┤  │    │    │                    \n",
       "  c_9: ┤ X ├──┼────┼────┼────■───────────────\n",
       "       ├───┤  │    │    │    │               \n",
       " c_10: ┤ X ├──┼────┼────┼────■───────────────\n",
       "       ├───┤  │    │    │    │               \n",
       " c_11: ┤ X ├──┼────┼────┼────■───────────────\n",
       "       ├───┤  │    │    │    │               \n",
       " c_12: ┤ X ├──┼────┼────┼────■───────────────\n",
       "       ├───┤  │    │    │    │               \n",
       " c_13: ┤ X ├──┼────┼────┼────┼────■──────────\n",
       "       └───┘  │    │    │    │    │  ┌───┐┌─┐\n",
       "    t: ───────┼────┼────┼────┼────┼──┤ X ├┤M├\n",
       "            ┌─┴─┐  │    │    │    │  └─┬─┘└╥┘\n",
       "  a_0: ─────┤ X ├──┼────┼────┼────■────┼───╫─\n",
       "            └───┘┌─┴─┐  │    │    │    │   ║ \n",
       "  a_1: ──────────┤ X ├──┼────┼────■────┼───╫─\n",
       "                 └───┘┌─┴─┐  │    │    │   ║ \n",
       "  a_2: ───────────────┤ X ├──┼────┼────■───╫─\n",
       "                      └───┘┌─┴─┐  │    │   ║ \n",
       "  a_3: ────────────────────┤ X ├──┼────■───╫─\n",
       "                           └───┘┌─┴─┐  │   ║ \n",
       "  a_4: ─────────────────────────┤ X ├──■───╫─\n",
       "                                └───┘      ║ \n",
       "out: 1/════════════════════════════════════╩═\n",
       "                                           0 "
      ]
     },
     "execution_count": 50,
     "metadata": {},
     "output_type": "execute_result"
    }
   ],
   "source": [
    "qc.draw()"
   ]
  },
  {
   "cell_type": "code",
   "execution_count": 51,
   "metadata": {},
   "outputs": [
    {
     "name": "stdout",
     "output_type": "stream",
     "text": [
      "{'1': 1024}\n"
     ]
    }
   ],
   "source": [
    "aer_simulator = Aer.get_backend('aer_simulator')\n",
    "qc_transpiled = transpile(qc, aer_simulator, basis_gates=['u', 'cx'])\n",
    "qobj = assemble(qc_transpiled)\n",
    "result = aer_simulator.run(qobj).result()\n",
    "print(result.get_counts())"
   ]
  },
  {
   "cell_type": "code",
   "execution_count": null,
   "metadata": {},
   "outputs": [],
   "source": [
    "qc_transpiled.draw()"
   ]
  },
  {
   "cell_type": "code",
   "execution_count": null,
   "metadata": {},
   "outputs": [
    {
     "name": "stdout",
     "output_type": "stream",
     "text": [
      "115\n",
      "OrderedDict([('u', 119), ('cx', 106), ('measure', 1)])\n"
     ]
    }
   ],
   "source": [
    "print(qc_transpiled.depth())\n",
    "print(qc_transpiled.count_ops())"
   ]
  },
  {
   "cell_type": "code",
   "execution_count": 53,
   "metadata": {},
   "outputs": [
    {
     "name": "stdout",
     "output_type": "stream",
     "text": [
      "92\n",
      "OrderedDict([('u', 119), ('cx', 106), ('measure', 1)])\n"
     ]
    }
   ],
   "source": [
    "print(qc_transpiled.depth())\n",
    "print(qc_transpiled.count_ops())"
   ]
  },
  {
   "cell_type": "code",
   "execution_count": null,
   "metadata": {},
   "outputs": [],
   "source": []
  }
 ],
 "metadata": {
  "interpreter": {
   "hash": "1afdd5487afa15bf0797b22f2c7929f0a6c7ad3aebeaee922bd5f75d64efa325"
  },
  "kernelspec": {
   "display_name": "Python 3.8.5 64-bit (system)",
   "language": "python",
   "name": "python3"
  },
  "language_info": {
   "codemirror_mode": {
    "name": "ipython",
    "version": 3
   },
   "file_extension": ".py",
   "mimetype": "text/x-python",
   "name": "python",
   "nbconvert_exporter": "python",
   "pygments_lexer": "ipython3",
   "version": "3.8.5"
  },
  "orig_nbformat": 4
 },
 "nbformat": 4,
 "nbformat_minor": 2
}
