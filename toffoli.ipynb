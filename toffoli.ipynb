{
 "cells": [
  {
   "cell_type": "code",
   "execution_count": 1,
   "metadata": {},
   "outputs": [],
   "source": [
    "# Problem statement\n",
    "# 14 controls\n",
    "# 1 target\n",
    "# 5 auxilliary \n",
    "\n",
    "# b0-13, t, a0-4\n",
    "\n",
    "# Design 1: (3-4-3) \n",
    "# 4 3-bit in place control gates (b0-11)->(a0-3)\n",
    "# 1 4-bit in place control gate taking 2 remaining bits and 2 auxiliary bits (b12-13, a0-1) -> a4\n",
    "# 3 3-bit in place control gate that takes (a2-4) -> t\n",
    "\n",
    "#initialization\n",
    "import matplotlib.pyplot as plt\n",
    "import numpy as np\n",
    "\n",
    "# importing Qiskit\n",
    "from qiskit import IBMQ, Aer, assemble, transpile\n",
    "from qiskit import QuantumCircuit, ClassicalRegister, QuantumRegister\n",
    "from qiskit.providers.ibmq import least_busy\n",
    "\n",
    "# import basic plot tools\n",
    "from qiskit.visualization import plot_histogram \n"
   ]
  },
  {
   "cell_type": "code",
   "execution_count": 2,
   "metadata": {},
   "outputs": [],
   "source": [
    "control_qubits = QuantumRegister(14, name=\"c\")\n",
    "target_qubit = QuantumRegister(1, name='t')\n",
    "ancilla_qubits = QuantumRegister(5, name='a')\n",
    "classical_bits = ClassicalRegister(1, name='out')"
   ]
  },
  {
   "cell_type": "code",
   "execution_count": 3,
   "metadata": {},
   "outputs": [
    {
     "data": {
      "text/plain": [
       "<qiskit.circuit.instructionset.InstructionSet at 0x29f422bdd80>"
      ]
     },
     "execution_count": 3,
     "metadata": {},
     "output_type": "execute_result"
    }
   ],
   "source": [
    "# no optimization - design 0\n",
    "qc = QuantumCircuit(control_qubits, target_qubit, ancilla_qubits, classical_bits)\n",
    "qc.mcx(control_qubits, target_qubit[0], ancilla_qubits=ancilla_qubits, mode='recursion')\n",
    "qc.measure(target_qubit[0], classical_bits[0])"
   ]
  },
  {
   "cell_type": "code",
   "execution_count": 4,
   "metadata": {},
   "outputs": [
    {
     "data": {
      "text/html": [
       "<pre style=\"word-wrap: normal;white-space: pre;background: #fff0;line-height: 1.1;font-family: &quot;Courier New&quot;,Courier,monospace\">                \n",
       "  c_0: ──■──────\n",
       "         │      \n",
       "  c_1: ──■──────\n",
       "         │      \n",
       "  c_2: ──■──────\n",
       "         │      \n",
       "  c_3: ──■──────\n",
       "         │      \n",
       "  c_4: ──■──────\n",
       "         │      \n",
       "  c_5: ──■──────\n",
       "         │      \n",
       "  c_6: ──■──────\n",
       "         │      \n",
       "  c_7: ──■──────\n",
       "         │      \n",
       "  c_8: ──■──────\n",
       "         │      \n",
       "  c_9: ──■──────\n",
       "         │      \n",
       " c_10: ──■──────\n",
       "         │      \n",
       " c_11: ──■──────\n",
       "         │      \n",
       " c_12: ──■──────\n",
       "         │      \n",
       " c_13: ──■──────\n",
       "       ┌─┴──┐┌─┐\n",
       "    t: ┤0   ├┤M├\n",
       "       │  X │└╥┘\n",
       "  a_0: ┤1   ├─╫─\n",
       "       └────┘ ║ \n",
       "  a_1: ───────╫─\n",
       "              ║ \n",
       "  a_2: ───────╫─\n",
       "              ║ \n",
       "  a_3: ───────╫─\n",
       "              ║ \n",
       "  a_4: ───────╫─\n",
       "              ║ \n",
       "out: 1/═══════╩═\n",
       "              0 </pre>"
      ],
      "text/plain": [
       "                \n",
       "  c_0: ──■──────\n",
       "         │      \n",
       "  c_1: ──■──────\n",
       "         │      \n",
       "  c_2: ──■──────\n",
       "         │      \n",
       "  c_3: ──■──────\n",
       "         │      \n",
       "  c_4: ──■──────\n",
       "         │      \n",
       "  c_5: ──■──────\n",
       "         │      \n",
       "  c_6: ──■──────\n",
       "         │      \n",
       "  c_7: ──■──────\n",
       "         │      \n",
       "  c_8: ──■──────\n",
       "         │      \n",
       "  c_9: ──■──────\n",
       "         │      \n",
       " c_10: ──■──────\n",
       "         │      \n",
       " c_11: ──■──────\n",
       "         │      \n",
       " c_12: ──■──────\n",
       "         │      \n",
       " c_13: ──■──────\n",
       "       ┌─┴──┐┌─┐\n",
       "    t: ┤0   ├┤M├\n",
       "       │  X │└╥┘\n",
       "  a_0: ┤1   ├─╫─\n",
       "       └────┘ ║ \n",
       "  a_1: ───────╫─\n",
       "              ║ \n",
       "  a_2: ───────╫─\n",
       "              ║ \n",
       "  a_3: ───────╫─\n",
       "              ║ \n",
       "  a_4: ───────╫─\n",
       "              ║ \n",
       "out: 1/═══════╩═\n",
       "              0 "
      ]
     },
     "execution_count": 4,
     "metadata": {},
     "output_type": "execute_result"
    }
   ],
   "source": [
    "qc.draw()"
   ]
  },
  {
   "cell_type": "code",
   "execution_count": 5,
   "metadata": {},
   "outputs": [
    {
     "name": "stdout",
     "output_type": "stream",
     "text": [
      "890\n",
      "OrderedDict([('u', 712), ('cx', 656), ('measure', 1)])\n"
     ]
    }
   ],
   "source": [
    "aer_simulator = Aer.get_backend('aer_simulator')\n",
    "qc_transpiled = transpile(qc, aer_simulator, basis_gates=['u', 'cx'])\n",
    "print(qc_transpiled.depth())\n",
    "print(qc_transpiled.count_ops())"
   ]
  },
  {
   "cell_type": "code",
   "execution_count": 7,
   "metadata": {},
   "outputs": [
    {
     "data": {
      "text/html": [
       "<pre style=\"word-wrap: normal;white-space: pre;background: #fff0;line-height: 1.1;font-family: &quot;Courier New&quot;,Courier,monospace\">       ┌───┐                                 \n",
       "  c_0: ┤ X ├──■──────────────────────────────\n",
       "       ├───┤  │                              \n",
       "  c_1: ┤ X ├──■──────────────────────────────\n",
       "       ├───┤  │                              \n",
       "  c_2: ┤ X ├──■──────────────────────────────\n",
       "       ├───┤  │                              \n",
       "  c_3: ┤ X ├──┼────■─────────────────────────\n",
       "       ├───┤  │    │                         \n",
       "  c_4: ┤ X ├──┼────■─────────────────────────\n",
       "       ├───┤  │    │                         \n",
       "  c_5: ┤ X ├──┼────■─────────────────────────\n",
       "       ├───┤  │    │                         \n",
       "  c_6: ┤ X ├──┼────┼────■────────────────────\n",
       "       ├───┤  │    │    │                    \n",
       "  c_7: ┤ X ├──┼────┼────■────────────────────\n",
       "       ├───┤  │    │    │                    \n",
       "  c_8: ┤ X ├──┼────┼────■────────────────────\n",
       "       ├───┤  │    │    │                    \n",
       "  c_9: ┤ X ├──┼────┼────┼────■───────────────\n",
       "       ├───┤  │    │    │    │               \n",
       " c_10: ┤ X ├──┼────┼────┼────■───────────────\n",
       "       ├───┤  │    │    │    │               \n",
       " c_11: ┤ X ├──┼────┼────┼────■───────────────\n",
       "       ├───┤  │    │    │    │               \n",
       " c_12: ┤ X ├──┼────┼────┼────┼────■──────────\n",
       "       ├───┤  │    │    │    │    │          \n",
       " c_13: ┤ X ├──┼────┼────┼────┼────■──────────\n",
       "       └───┘  │    │    │    │    │  ┌───┐┌─┐\n",
       "    t: ───────┼────┼────┼────┼────┼──┤ X ├┤M├\n",
       "            ┌─┴─┐  │    │    │    │  └─┬─┘└╥┘\n",
       "  a_0: ─────┤ X ├──┼────┼────┼────■────┼───╫─\n",
       "            └───┘┌─┴─┐  │    │    │    │   ║ \n",
       "  a_1: ──────────┤ X ├──┼────┼────■────┼───╫─\n",
       "                 └───┘┌─┴─┐  │    │    │   ║ \n",
       "  a_2: ───────────────┤ X ├──┼────┼────■───╫─\n",
       "                      └───┘┌─┴─┐  │    │   ║ \n",
       "  a_3: ────────────────────┤ X ├──┼────■───╫─\n",
       "                           └───┘┌─┴─┐  │   ║ \n",
       "  a_4: ─────────────────────────┤ X ├──■───╫─\n",
       "                                └───┘      ║ \n",
       "out: 1/════════════════════════════════════╩═\n",
       "                                           0 </pre>"
      ],
      "text/plain": [
       "       ┌───┐                                 \n",
       "  c_0: ┤ X ├──■──────────────────────────────\n",
       "       ├───┤  │                              \n",
       "  c_1: ┤ X ├──■──────────────────────────────\n",
       "       ├───┤  │                              \n",
       "  c_2: ┤ X ├──■──────────────────────────────\n",
       "       ├───┤  │                              \n",
       "  c_3: ┤ X ├──┼────■─────────────────────────\n",
       "       ├───┤  │    │                         \n",
       "  c_4: ┤ X ├──┼────■─────────────────────────\n",
       "       ├───┤  │    │                         \n",
       "  c_5: ┤ X ├──┼────■─────────────────────────\n",
       "       ├───┤  │    │                         \n",
       "  c_6: ┤ X ├──┼────┼────■────────────────────\n",
       "       ├───┤  │    │    │                    \n",
       "  c_7: ┤ X ├──┼────┼────■────────────────────\n",
       "       ├───┤  │    │    │                    \n",
       "  c_8: ┤ X ├──┼────┼────■────────────────────\n",
       "       ├───┤  │    │    │                    \n",
       "  c_9: ┤ X ├──┼────┼────┼────■───────────────\n",
       "       ├───┤  │    │    │    │               \n",
       " c_10: ┤ X ├──┼────┼────┼────■───────────────\n",
       "       ├───┤  │    │    │    │               \n",
       " c_11: ┤ X ├──┼────┼────┼────■───────────────\n",
       "       ├───┤  │    │    │    │               \n",
       " c_12: ┤ X ├──┼────┼────┼────┼────■──────────\n",
       "       ├───┤  │    │    │    │    │          \n",
       " c_13: ┤ X ├──┼────┼────┼────┼────■──────────\n",
       "       └───┘  │    │    │    │    │  ┌───┐┌─┐\n",
       "    t: ───────┼────┼────┼────┼────┼──┤ X ├┤M├\n",
       "            ┌─┴─┐  │    │    │    │  └─┬─┘└╥┘\n",
       "  a_0: ─────┤ X ├──┼────┼────┼────■────┼───╫─\n",
       "            └───┘┌─┴─┐  │    │    │    │   ║ \n",
       "  a_1: ──────────┤ X ├──┼────┼────■────┼───╫─\n",
       "                 └───┘┌─┴─┐  │    │    │   ║ \n",
       "  a_2: ───────────────┤ X ├──┼────┼────■───╫─\n",
       "                      └───┘┌─┴─┐  │    │   ║ \n",
       "  a_3: ────────────────────┤ X ├──┼────■───╫─\n",
       "                           └───┘┌─┴─┐  │   ║ \n",
       "  a_4: ─────────────────────────┤ X ├──■───╫─\n",
       "                                └───┘      ║ \n",
       "out: 1/════════════════════════════════════╩═\n",
       "                                           0 "
      ]
     },
     "execution_count": 7,
     "metadata": {},
     "output_type": "execute_result"
    }
   ],
   "source": [
    "# design 1 \n",
    "qc = QuantumCircuit(control_qubits, target_qubit, ancilla_qubits, classical_bits)\n",
    "for i in range(14):\n",
    "    qc.x(control_qubits[i])\n",
    "\n",
    "for i in range(4):\n",
    "    qc.mcx(control_qubits[3*i:3*(i+1)], ancilla_qubits[i])\n",
    "\n",
    "qc.mcx(control_qubits[12:14] + ancilla_qubits[0:2], ancilla_qubits[4])\n",
    "qc.mcx(ancilla_qubits[2:5], target_qubit[0])\n",
    "qc.measure(target_qubit[0], classical_bits[0])\n",
    "qc.draw()"
   ]
  },
  {
   "cell_type": "code",
   "execution_count": 8,
   "metadata": {},
   "outputs": [
    {
     "name": "stdout",
     "output_type": "stream",
     "text": [
      "115\n",
      "OrderedDict([('u', 119), ('cx', 106), ('measure', 1)])\n"
     ]
    }
   ],
   "source": [
    "qc_transpiled = transpile(qc, aer_simulator, basis_gates=['u', 'cx'], optimization_level=3)\n",
    "print(qc_transpiled.depth())\n",
    "print(qc_transpiled.count_ops())"
   ]
  },
  {
   "cell_type": "code",
   "execution_count": 10,
   "metadata": {},
   "outputs": [
    {
     "data": {
      "text/html": [
       "<pre style=\"word-wrap: normal;white-space: pre;background: #fff0;line-height: 1.1;font-family: &quot;Courier New&quot;,Courier,monospace\">       ┌───┐                                                          \n",
       "  c_0: ┤ X ├──■───────────────────────────────────────────────■───────\n",
       "       ├───┤  │                                               │       \n",
       "  c_1: ┤ X ├──■───────────────────────────────────────────────■───────\n",
       "       ├───┤  │                                               │       \n",
       "  c_2: ┤ X ├──■───────────────────────────────────────────────■───────\n",
       "       ├───┤  │                                               │       \n",
       "  c_3: ┤ X ├──┼────■──────────────────────────────────────────┼────■──\n",
       "       ├───┤  │    │                                          │    │  \n",
       "  c_4: ┤ X ├──┼────■──────────────────────────────────────────┼────■──\n",
       "       ├───┤  │    │                                          │    │  \n",
       "  c_5: ┤ X ├──┼────■──────────────────────────────────────────┼────■──\n",
       "       ├───┤  │    │                                          │    │  \n",
       "  c_6: ┤ X ├──┼────┼────■───────────────────────────■─────────┼────┼──\n",
       "       ├───┤  │    │    │                           │         │    │  \n",
       "  c_7: ┤ X ├──┼────┼────■───────────────────────────■─────────┼────┼──\n",
       "       ├───┤  │    │    │                           │         │    │  \n",
       "  c_8: ┤ X ├──┼────┼────■───────────────────────────■─────────┼────┼──\n",
       "       ├───┤  │    │    │                           │         │    │  \n",
       "  c_9: ┤ X ├──┼────┼────┼────■──────────────────────┼────■────┼────┼──\n",
       "       ├───┤  │    │    │    │                      │    │    │    │  \n",
       " c_10: ┤ X ├──┼────┼────┼────■──────────────────────┼────■────┼────┼──\n",
       "       ├───┤  │    │    │    │                      │    │    │    │  \n",
       " c_11: ┤ X ├──┼────┼────┼────■──────────────────────┼────■────┼────┼──\n",
       "       ├───┤  │    │    │    │                      │    │    │    │  \n",
       " c_12: ┤ X ├──┼────┼────┼────■──────────────────────┼────■────┼────┼──\n",
       "       ├───┤  │    │    │    │                      │    │    │    │  \n",
       " c_13: ┤ X ├──┼────┼────┼────┼────■────────────■────┼────┼────┼────┼──\n",
       "       └───┘  │    │    │    │    │  ┌───┐┌─┐  │    │    │    │    │  \n",
       "    t: ───────┼────┼────┼────┼────┼──┤ X ├┤M├──┼────┼────┼────┼────┼──\n",
       "            ┌─┴─┐  │    │    │    │  └─┬─┘└╥┘  │    │    │  ┌─┴─┐  │  \n",
       "  a_0: ─────┤ X ├──┼────┼────┼────■────┼───╫───■────┼────┼──┤ X ├──┼──\n",
       "            └───┘┌─┴─┐  │    │    │    │   ║   │    │    │  └───┘┌─┴─┐\n",
       "  a_1: ──────────┤ X ├──┼────┼────■────┼───╫───■────┼────┼───────┤ X ├\n",
       "                 └───┘┌─┴─┐  │    │    │   ║   │  ┌─┴─┐  │       └───┘\n",
       "  a_2: ───────────────┤ X ├──┼────┼────■───╫───┼──┤ X ├──┼────────────\n",
       "                      └───┘┌─┴─┐  │    │   ║   │  └───┘┌─┴─┐          \n",
       "  a_3: ────────────────────┤ X ├──┼────■───╫───┼───────┤ X ├──────────\n",
       "                           └───┘┌─┴─┐  │   ║ ┌─┴─┐     └───┘          \n",
       "  a_4: ─────────────────────────┤ X ├──■───╫─┤ X ├────────────────────\n",
       "                                └───┘      ║ └───┘                    \n",
       "out: 1/════════════════════════════════════╩══════════════════════════\n",
       "                                           0                          </pre>"
      ],
      "text/plain": [
       "       ┌───┐                                                          \n",
       "  c_0: ┤ X ├──■───────────────────────────────────────────────■───────\n",
       "       ├───┤  │                                               │       \n",
       "  c_1: ┤ X ├──■───────────────────────────────────────────────■───────\n",
       "       ├───┤  │                                               │       \n",
       "  c_2: ┤ X ├──■───────────────────────────────────────────────■───────\n",
       "       ├───┤  │                                               │       \n",
       "  c_3: ┤ X ├──┼────■──────────────────────────────────────────┼────■──\n",
       "       ├───┤  │    │                                          │    │  \n",
       "  c_4: ┤ X ├──┼────■──────────────────────────────────────────┼────■──\n",
       "       ├───┤  │    │                                          │    │  \n",
       "  c_5: ┤ X ├──┼────■──────────────────────────────────────────┼────■──\n",
       "       ├───┤  │    │                                          │    │  \n",
       "  c_6: ┤ X ├──┼────┼────■───────────────────────────■─────────┼────┼──\n",
       "       ├───┤  │    │    │                           │         │    │  \n",
       "  c_7: ┤ X ├──┼────┼────■───────────────────────────■─────────┼────┼──\n",
       "       ├───┤  │    │    │                           │         │    │  \n",
       "  c_8: ┤ X ├──┼────┼────■───────────────────────────■─────────┼────┼──\n",
       "       ├───┤  │    │    │                           │         │    │  \n",
       "  c_9: ┤ X ├──┼────┼────┼────■──────────────────────┼────■────┼────┼──\n",
       "       ├───┤  │    │    │    │                      │    │    │    │  \n",
       " c_10: ┤ X ├──┼────┼────┼────■──────────────────────┼────■────┼────┼──\n",
       "       ├───┤  │    │    │    │                      │    │    │    │  \n",
       " c_11: ┤ X ├──┼────┼────┼────■──────────────────────┼────■────┼────┼──\n",
       "       ├───┤  │    │    │    │                      │    │    │    │  \n",
       " c_12: ┤ X ├──┼────┼────┼────■──────────────────────┼────■────┼────┼──\n",
       "       ├───┤  │    │    │    │                      │    │    │    │  \n",
       " c_13: ┤ X ├──┼────┼────┼────┼────■────────────■────┼────┼────┼────┼──\n",
       "       └───┘  │    │    │    │    │  ┌───┐┌─┐  │    │    │    │    │  \n",
       "    t: ───────┼────┼────┼────┼────┼──┤ X ├┤M├──┼────┼────┼────┼────┼──\n",
       "            ┌─┴─┐  │    │    │    │  └─┬─┘└╥┘  │    │    │  ┌─┴─┐  │  \n",
       "  a_0: ─────┤ X ├──┼────┼────┼────■────┼───╫───■────┼────┼──┤ X ├──┼──\n",
       "            └───┘┌─┴─┐  │    │    │    │   ║   │    │    │  └───┘┌─┴─┐\n",
       "  a_1: ──────────┤ X ├──┼────┼────■────┼───╫───■────┼────┼───────┤ X ├\n",
       "                 └───┘┌─┴─┐  │    │    │   ║   │  ┌─┴─┐  │       └───┘\n",
       "  a_2: ───────────────┤ X ├──┼────┼────■───╫───┼──┤ X ├──┼────────────\n",
       "                      └───┘┌─┴─┐  │    │   ║   │  └───┘┌─┴─┐          \n",
       "  a_3: ────────────────────┤ X ├──┼────■───╫───┼───────┤ X ├──────────\n",
       "                           └───┘┌─┴─┐  │   ║ ┌─┴─┐     └───┘          \n",
       "  a_4: ─────────────────────────┤ X ├──■───╫─┤ X ├────────────────────\n",
       "                                └───┘      ║ └───┘                    \n",
       "out: 1/════════════════════════════════════╩══════════════════════════\n",
       "                                           0                          "
      ]
     },
     "execution_count": 10,
     "metadata": {},
     "output_type": "execute_result"
    }
   ],
   "source": [
    "# design 2 - currently best design\n",
    "qc = QuantumCircuit(control_qubits, target_qubit, ancilla_qubits, classical_bits)\n",
    "for i in range(14):\n",
    "    qc.x(control_qubits[i])\n",
    "\n",
    "for i in range(3):\n",
    "    qc.mcx(control_qubits[3*i:3*(i+1)], ancilla_qubits[i])\n",
    "# 0 - 8\n",
    "qc.mcx(control_qubits[9:13], ancilla_qubits[3])\n",
    "\n",
    "qc.mcx(ancilla_qubits[0:2] + control_qubits[13:14], ancilla_qubits[4])\n",
    "\n",
    "qc.mcx(ancilla_qubits[2:5], target_qubit[0])\n",
    "qc.measure(target_qubit[0], classical_bits[0])\n",
    "\n",
    "# uncompute\n",
    "qc.mcx(ancilla_qubits[0:2] + control_qubits[13:14], ancilla_qubits[4])\n",
    "for i in range(3):\n",
    "    qc.mcx(control_qubits[3*i:3*(i+1)], ancilla_qubits[i])\n",
    "# 0 - 8\n",
    "qc.mcx(control_qubits[9:13], ancilla_qubits[3])\n",
    "\n",
    "qc.draw()"
   ]
  },
  {
   "cell_type": "code",
   "execution_count": 11,
   "metadata": {},
   "outputs": [
    {
     "name": "stdout",
     "output_type": "stream",
     "text": [
      "151\n",
      "OrderedDict([('u', 223), ('cx', 198), ('measure', 1)])\n"
     ]
    }
   ],
   "source": [
    "aer_simulator = Aer.get_backend('aer_simulator')\n",
    "qc_transpiled = transpile(qc, aer_simulator, basis_gates=['u', 'cx'], optimization_level=3)\n",
    "print(qc_transpiled.depth())\n",
    "print(qc_transpiled.count_ops())"
   ]
  },
  {
   "cell_type": "code",
   "execution_count": 12,
   "metadata": {},
   "outputs": [
    {
     "ename": "IndexError",
     "evalue": "list index out of range",
     "output_type": "error",
     "traceback": [
      "\u001b[1;31m---------------------------------------------------------------------------\u001b[0m",
      "\u001b[1;31mIndexError\u001b[0m                                Traceback (most recent call last)",
      "\u001b[1;32m<ipython-input-12-871cab03bdbb>\u001b[0m in \u001b[0;36m<module>\u001b[1;34m\u001b[0m\n\u001b[0;32m      5\u001b[0m \u001b[1;33m\u001b[0m\u001b[0m\n\u001b[0;32m      6\u001b[0m \u001b[1;32mfor\u001b[0m \u001b[0mi\u001b[0m \u001b[1;32min\u001b[0m \u001b[0mrange\u001b[0m\u001b[1;33m(\u001b[0m\u001b[1;36m7\u001b[0m\u001b[1;33m)\u001b[0m\u001b[1;33m:\u001b[0m\u001b[1;33m\u001b[0m\u001b[1;33m\u001b[0m\u001b[0m\n\u001b[1;32m----> 7\u001b[1;33m     \u001b[0mqc\u001b[0m\u001b[1;33m.\u001b[0m\u001b[0mmcx\u001b[0m\u001b[1;33m(\u001b[0m\u001b[0mcontrol_qubits\u001b[0m\u001b[1;33m[\u001b[0m\u001b[1;36m2\u001b[0m\u001b[1;33m*\u001b[0m\u001b[0mi\u001b[0m\u001b[1;33m:\u001b[0m\u001b[1;36m2\u001b[0m\u001b[1;33m*\u001b[0m\u001b[1;33m(\u001b[0m\u001b[0mi\u001b[0m\u001b[1;33m+\u001b[0m\u001b[1;36m1\u001b[0m\u001b[1;33m)\u001b[0m\u001b[1;33m]\u001b[0m\u001b[1;33m,\u001b[0m \u001b[0mancilla_qubits\u001b[0m\u001b[1;33m[\u001b[0m\u001b[0mi\u001b[0m\u001b[1;33m]\u001b[0m\u001b[1;33m,\u001b[0m \u001b[0mmode\u001b[0m\u001b[1;33m=\u001b[0m\u001b[1;34m'recursion'\u001b[0m\u001b[1;33m)\u001b[0m\u001b[1;33m\u001b[0m\u001b[1;33m\u001b[0m\u001b[0m\n\u001b[0m\u001b[0;32m      8\u001b[0m \u001b[1;32mfor\u001b[0m \u001b[0mi\u001b[0m \u001b[1;32min\u001b[0m \u001b[0mrange\u001b[0m\u001b[1;33m(\u001b[0m\u001b[1;36m8\u001b[0m\u001b[1;33m)\u001b[0m\u001b[1;33m:\u001b[0m\u001b[1;33m\u001b[0m\u001b[1;33m\u001b[0m\u001b[0m\n\u001b[0;32m      9\u001b[0m     \u001b[0mqc\u001b[0m\u001b[1;33m.\u001b[0m\u001b[0mmcx\u001b[0m\u001b[1;33m(\u001b[0m\u001b[0mcontrol_qubits\u001b[0m\u001b[1;33m[\u001b[0m\u001b[1;36m2\u001b[0m\u001b[1;33m*\u001b[0m\u001b[0mi\u001b[0m\u001b[1;33m:\u001b[0m\u001b[1;36m2\u001b[0m\u001b[1;33m*\u001b[0m\u001b[1;33m(\u001b[0m\u001b[0mi\u001b[0m\u001b[1;33m+\u001b[0m\u001b[1;36m1\u001b[0m\u001b[1;33m)\u001b[0m\u001b[1;33m]\u001b[0m\u001b[1;33m,\u001b[0m \u001b[0mancilla_qubits\u001b[0m\u001b[1;33m[\u001b[0m\u001b[0mi\u001b[0m\u001b[1;33m]\u001b[0m\u001b[1;33m,\u001b[0m \u001b[0mmode\u001b[0m\u001b[1;33m=\u001b[0m\u001b[1;34m'recursion'\u001b[0m\u001b[1;33m)\u001b[0m\u001b[1;33m\u001b[0m\u001b[1;33m\u001b[0m\u001b[0m\n",
      "\u001b[1;32m~\\scoop\\apps\\miniconda3\\current\\lib\\site-packages\\qiskit\\circuit\\register.py\u001b[0m in \u001b[0;36m__getitem__\u001b[1;34m(self, key)\u001b[0m\n\u001b[0;32m    171\u001b[0m                 \u001b[1;32mraise\u001b[0m \u001b[0mCircuitError\u001b[0m\u001b[1;33m(\u001b[0m\u001b[1;34m\"register index out of range\"\u001b[0m\u001b[1;33m)\u001b[0m\u001b[1;33m\u001b[0m\u001b[1;33m\u001b[0m\u001b[0m\n\u001b[0;32m    172\u001b[0m         \u001b[1;32melse\u001b[0m\u001b[1;33m:\u001b[0m\u001b[1;33m\u001b[0m\u001b[1;33m\u001b[0m\u001b[0m\n\u001b[1;32m--> 173\u001b[1;33m             \u001b[1;32mreturn\u001b[0m \u001b[0mself\u001b[0m\u001b[1;33m.\u001b[0m\u001b[0m_bits\u001b[0m\u001b[1;33m[\u001b[0m\u001b[0mkey\u001b[0m\u001b[1;33m]\u001b[0m\u001b[1;33m\u001b[0m\u001b[1;33m\u001b[0m\u001b[0m\n\u001b[0m\u001b[0;32m    174\u001b[0m \u001b[1;33m\u001b[0m\u001b[0m\n\u001b[0;32m    175\u001b[0m     \u001b[1;32mdef\u001b[0m \u001b[0m__iter__\u001b[0m\u001b[1;33m(\u001b[0m\u001b[0mself\u001b[0m\u001b[1;33m)\u001b[0m\u001b[1;33m:\u001b[0m\u001b[1;33m\u001b[0m\u001b[1;33m\u001b[0m\u001b[0m\n",
      "\u001b[1;31mIndexError\u001b[0m: list index out of range"
     ]
    }
   ],
   "source": [
    "# design 3\n",
    "qc = QuantumCircuit(control_qubits, target_qubit, ancilla_qubits, classical_bits)\n",
    "for i in range(14):\n",
    "    qc.x(control_qubits[i])\n",
    "\n",
    "for i in range(7):\n",
    "    qc.mcx(control_qubits[2*i:2*(i+1)], ancilla_qubits[i], mode='recursion')\n",
    "for i in range(8):\n",
    "    qc.mcx(control_qubits[2*i:2*(i+1)], ancilla_qubits[i], mode='recursion')\n",
    "# 0 - 11\n",
    "qc.mcx(control_qubits[12:14] + [ancilla_qubits[0]], ancilla_qubits[4], mode='recursion')\n",
    "qc.mcx(ancilla_qubits[1:5], target_qubit[0], mode='recursion')\n",
    "qc.measure(target_qubit[0], classical_bits[0])\n",
    "qc.draw()"
   ]
  },
  {
   "cell_type": "code",
   "execution_count": 39,
   "metadata": {},
   "outputs": [
    {
     "name": "stdout",
     "output_type": "stream",
     "text": [
      "Mode: noancilla\n",
      "Controls: 1, Depth: 2, Ancilla: 0, Ops: OrderedDict([('u', 1), ('cx', 1)])\n",
      "Controls: 2, Depth: 11, Ancilla: 0, Ops: OrderedDict([('u', 10), ('cx', 6)])\n",
      "Controls: 3, Depth: 27, Ancilla: 0, Ops: OrderedDict([('u', 16), ('cx', 14)])\n",
      "Controls: 4, Depth: 65, Ancilla: 0, Ops: OrderedDict([('u', 44), ('cx', 36)])\n",
      "Controls: 5, Depth: 155, Ancilla: 0, Ops: OrderedDict([('u', 98), ('cx', 92)])\n",
      "Controls: 6, Depth: 315, Ancilla: 0, Ops: OrderedDict([('u', 195), ('cx', 188)])\n",
      "Controls: 7, Depth: 635, Ancilla: 0, Ops: OrderedDict([('u', 388), ('cx', 380)])\n",
      "Controls: 8, Depth: 1275, Ancilla: 0, Ops: OrderedDict([('u', 773), ('cx', 764)])\n",
      "Controls: 9, Depth: 2555, Ancilla: 0, Ops: OrderedDict([('u', 1542), ('cx', 1532)])\n",
      "\n",
      "Mode: recursion\n",
      "Controls: 1, Depth: 2, Ancilla: 0, Ops: OrderedDict([('u', 1), ('cx', 1)])\n",
      "Controls: 2, Depth: 11, Ancilla: 0, Ops: OrderedDict([('u', 10), ('cx', 6)])\n",
      "Controls: 3, Depth: 27, Ancilla: 0, Ops: OrderedDict([('u', 16), ('cx', 14)])\n",
      "Controls: 4, Depth: 65, Ancilla: 0, Ops: OrderedDict([('u', 44), ('cx', 36)])\n",
      "Controls: 5, Depth: 87, Ancilla: 1, Ops: OrderedDict([('u', 61), ('cx', 56)])\n",
      "Controls: 6, Depth: 155, Ancilla: 1, Ops: OrderedDict([('u', 113), ('cx', 100)])\n",
      "Controls: 7, Depth: 225, Ancilla: 1, Ops: OrderedDict([('u', 165), ('cx', 144)])\n",
      "Controls: 8, Depth: 253, Ancilla: 1, Ops: OrderedDict([('u', 202), ('cx', 184)])\n",
      "Controls: 9, Depth: 316, Ancilla: 1, Ops: OrderedDict([('u', 241), ('cx', 224)])\n",
      "\n",
      "Mode: v-chain\n",
      "Controls: 1, Depth: 2, Ancilla: 0, Ops: OrderedDict([('u', 1), ('cx', 1)])\n",
      "Controls: 2, Depth: 11, Ancilla: 0, Ops: OrderedDict([('u', 10), ('cx', 6)])\n",
      "Controls: 3, Depth: 24, Ancilla: 1, Ops: OrderedDict([('u', 19), ('cx', 12)])\n",
      "Controls: 4, Depth: 36, Ancilla: 2, Ops: OrderedDict([('u', 28), ('cx', 18)])\n",
      "Controls: 5, Depth: 48, Ancilla: 3, Ops: OrderedDict([('u', 37), ('cx', 24)])\n",
      "Controls: 6, Depth: 60, Ancilla: 4, Ops: OrderedDict([('u', 46), ('cx', 30)])\n",
      "Controls: 7, Depth: 72, Ancilla: 5, Ops: OrderedDict([('u', 55), ('cx', 36)])\n",
      "Controls: 8, Depth: 84, Ancilla: 6, Ops: OrderedDict([('u', 64), ('cx', 42)])\n",
      "Controls: 9, Depth: 96, Ancilla: 7, Ops: OrderedDict([('u', 73), ('cx', 48)])\n",
      "\n",
      "Mode: v-chain-dirty\n",
      "Controls: 1, Depth: 2, Ancilla: 0, Ops: OrderedDict([('u', 1), ('cx', 1)])\n",
      "Controls: 2, Depth: 11, Ancilla: 0, Ops: OrderedDict([('u', 10), ('cx', 6)])\n",
      "Controls: 3, Depth: 29, Ancilla: 1, Ops: OrderedDict([('u', 19), ('cx', 14)])\n",
      "Controls: 4, Depth: 53, Ancilla: 2, Ops: OrderedDict([('u', 34), ('cx', 26)])\n",
      "Controls: 5, Depth: 77, Ancilla: 3, Ops: OrderedDict([('u', 49), ('cx', 38)])\n",
      "Controls: 6, Depth: 101, Ancilla: 4, Ops: OrderedDict([('u', 64), ('cx', 50)])\n",
      "Controls: 7, Depth: 125, Ancilla: 5, Ops: OrderedDict([('u', 79), ('cx', 62)])\n",
      "Controls: 8, Depth: 149, Ancilla: 6, Ops: OrderedDict([('u', 94), ('cx', 74)])\n",
      "Controls: 9, Depth: 173, Ancilla: 7, Ops: OrderedDict([('u', 109), ('cx', 86)])\n",
      "\n"
     ]
    }
   ],
   "source": [
    "# test efficiency of various sizes with no-ancilla\n",
    "numControls = 10\n",
    "modes = ['noancilla', 'recursion', 'v-chain', 'v-chain-dirty']\n",
    "for m in modes:\n",
    "    print(f\"Mode: {m}\")\n",
    "    for i in range(1, numControls):\n",
    "        ancilla_qubits = QuantumRegister(15, name='a')\n",
    "        control_qubits = QuantumRegister(i, name=\"c\")\n",
    "        qc = QuantumCircuit(control_qubits, target_qubit, ancilla_qubits, classical_bits)\n",
    "        for j in range(i):\n",
    "            qc.x(control_qubits[j])\n",
    "        qc.mcx(control_qubits, ancilla_qubits[0], ancilla_qubits=ancilla_qubits[1:], mode=m)\n",
    "        qc_transpiled = transpile(qc, aer_simulator, basis_gates=['u', 'cx'], optimization_level=3)\n",
    "        if (m == 'noancilla'):\n",
    "            num_ancilla = 0\n",
    "        elif (m == 'recursion'):\n",
    "            num_ancilla = 0 if i < 5 else 1\n",
    "        elif (m == 'v-chain' or m =='v-chain-dirty'):\n",
    "            num_ancilla = i - 2 if i > 2 else 0\n",
    "        print(f\"Controls: {i}, Depth: {qc_transpiled.depth()}, Ancilla: {num_ancilla}, Ops: {qc_transpiled.count_ops()}\")\n",
    "    print()"
   ]
  }
 ],
 "metadata": {
  "interpreter": {
   "hash": "1afdd5487afa15bf0797b22f2c7929f0a6c7ad3aebeaee922bd5f75d64efa325"
  },
  "kernelspec": {
   "display_name": "Python 3 (ipykernel)",
   "language": "python",
   "name": "python3"
  },
  "language_info": {
   "codemirror_mode": {
    "name": "ipython",
    "version": 3
   },
   "file_extension": ".py",
   "mimetype": "text/x-python",
   "name": "python",
   "nbconvert_exporter": "python",
   "pygments_lexer": "ipython3",
   "version": "3.8.5"
  }
 },
 "nbformat": 4,
 "nbformat_minor": 2
}
