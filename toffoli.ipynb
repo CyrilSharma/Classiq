{
 "cells": [
  {
   "cell_type": "code",
   "execution_count": null,
   "metadata": {},
   "outputs": [],
   "source": [
    "# Problem statement\n",
    "# 14 controls\n",
    "# 1 target\n",
    "# 5 auxilliary \n",
    "\n",
    "# b0-13, t, a0-4\n",
    "\n",
    "# Design 1: (3-4-3)\n",
    "# 4 3-bit in place control gates (b0-11)->(a0-3)\n",
    "# 1 4-bit in place control gate taking 2 remaining bits and 2 auxiliary bits (b12-13, a0-1) -> a4\n",
    "# 3 3-bit in place control gate that takes (a2-4) -> t\n"
   ]
  }
 ],
 "metadata": {
  "language_info": {
   "name": "python"
  },
  "orig_nbformat": 4
 },
 "nbformat": 4,
 "nbformat_minor": 2
}
